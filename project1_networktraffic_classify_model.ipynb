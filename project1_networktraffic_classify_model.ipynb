{
  "cells": [
    {
      "cell_type": "code",
      "execution_count": 290,
      "metadata": {
        "id": "wgKPb4EUXNpV"
      },
      "outputs": [],
      "source": [
        "import pandas as pd\n",
        "import numpy as np"
      ]
    },
    {
      "cell_type": "code",
      "execution_count": 278,
      "metadata": {},
      "outputs": [],
      "source": [
        "class PCA: #X의 차원을 축소\n",
        "    def __init__(self, n):\n",
        "        self.n= n #n차원으로 줄인다.\n",
        "    \n",
        "    def fit(self, X):\n",
        "        cov_mat = np.cov(X.T) #공분산 행렬 계산\n",
        "        vals, vecs = np.linalg.eig(cov_mat) #고유벡터 및 고유값 계산\n",
        "        \n",
        "        sorted_idx = np.argsort(vals)[::-1] #고유값을 내림차순으로 정렬한다\n",
        "        vals = vals[sorted_idx] #정렬된 인덱스를 적용\n",
        "        vecs = vecs[:, sorted_idx]\n",
        "        self.components = vecs[:, :self.n] #고유 벡터 중 주성분을 추출\n",
        "    \n",
        "    def transform(self, X):\n",
        "        X_transformed = X.dot(self.components) #기존 X 데이터에 주성분을 내적하여 차원이 축소된 행렬을 구한다\n",
        "        return X_transformed\n",
        "    "
      ]
    },
    {
      "cell_type": "code",
      "execution_count": 378,
      "metadata": {
        "id": "9WTOrZG-XG8h"
      },
      "outputs": [],
      "source": [
        "train = pd.read_csv(\"train_none_index.csv\")\n",
        "sub_test = pd.read_csv('test.csv')\n",
        "\n",
        "data = train.iloc[:,:11].to_numpy()\n",
        "target = train['label'].to_numpy()\n",
        "\n",
        "from sklearn.model_selection import train_test_split\n",
        "X_train, X_test, y_train, y_test = train_test_split(data, target, test_size=0.1, random_state=123) # 데이터 분할\n"
      ]
    },
    {
      "attachments": {},
      "cell_type": "markdown",
      "metadata": {},
      "source": [
        "PCA를 통해 데이터의 차원 축소"
      ]
    },
    {
      "cell_type": "code",
      "execution_count": 364,
      "metadata": {},
      "outputs": [],
      "source": [
        "pca = PCA(n_components=7)\n",
        "pca.fit(X_train)\n",
        "pca.fit(X_test)\n",
        "pca.fit(sub_test)\n",
        "\n",
        "# 데이터 차원 축소\n",
        "X_train = pca.transform(X_train)\n",
        "X_test = pca.transform(X_test)\n",
        "sub_test = pca.transform(sub_test)\n"
      ]
    },
    {
      "cell_type": "code",
      "execution_count": 327,
      "metadata": {},
      "outputs": [
        {
          "data": {
            "text/plain": [
              "array([[ 1.05859529e+03, -6.76189450e+01, -7.87845984e+01, ...,\n",
              "        -6.10728651e+00, -1.78941621e+01, -3.32092063e+01],\n",
              "       [ 1.79604608e+02,  1.72108134e+02,  2.75624681e+01, ...,\n",
              "         9.77774172e+01, -4.06438961e+01,  1.22154263e+02],\n",
              "       [ 2.19952935e+01, -1.25641089e+00, -1.37467460e+00, ...,\n",
              "        -3.52253755e+00,  2.89964345e+00,  1.49707883e+00],\n",
              "       ...,\n",
              "       [ 2.10814427e+01, -6.97658536e-01, -2.53032294e+00, ...,\n",
              "        -5.70203187e-01, -7.69159188e-01, -3.28231352e-01],\n",
              "       [ 1.66443593e+03,  2.30960574e+02,  4.17235199e+01, ...,\n",
              "        -1.20627819e+02, -1.41586097e+02, -1.00209483e+02],\n",
              "       [ 2.61536653e+03,  4.46446194e+02,  1.63768106e+03, ...,\n",
              "         6.87968008e+02, -2.07032532e+02, -2.39550060e+02]])"
            ]
          },
          "execution_count": 327,
          "metadata": {},
          "output_type": "execute_result"
        }
      ],
      "source": [
        "X_train"
      ]
    },
    {
      "cell_type": "code",
      "execution_count": 282,
      "metadata": {
        "colab": {
          "base_uri": "https://localhost:8080/"
        },
        "id": "XGddgTe0BTnF",
        "outputId": "8972f727-184f-4848-e8a6-9e581316e63c"
      },
      "outputs": [
        {
          "data": {
            "text/plain": [
              "2"
            ]
          },
          "execution_count": 282,
          "metadata": {},
          "output_type": "execute_result"
        }
      ],
      "source": [
        "X_test.shape[0]"
      ]
    },
    {
      "cell_type": "code",
      "execution_count": 9,
      "metadata": {
        "id": "-_VvXAomnq9D"
      },
      "outputs": [],
      "source": [
        "#from svm import SVMClassifier  # Support Vector Classifier\n",
        "from sklearn.metrics import classification_report"
      ]
    },
    {
      "cell_type": "code",
      "execution_count": 351,
      "metadata": {
        "id": "5hVuC-Y0Mzc0"
      },
      "outputs": [],
      "source": [
        "class SVMClassifier:\n",
        "    def __init__(self,n_iters=100, lr = 0.01, random_seed=3, lambda_param=0.01):\n",
        "        self.n_iters = n_iters # 몇 회 반복하여 적절한 값을 찾을지 정하는 파라미터\n",
        "        self.lr = lr  # 학습률과 관련된 파라미터 \n",
        "        self.lambda_param = lambda_param\n",
        "        self.random_seed = random_seed\n",
        "        np.random.seed(self.random_seed)\n",
        "\n",
        "    def fit(self, x, y):\n",
        "\n",
        "        n_samples, n_features = x.shape\n",
        "\n",
        "        #  y값을 SVM 계산에 활용해주기 위하여 0에 해당하는 y값들을 -1로 변환\n",
        "        y_ =  np.where(y==0,-1,y)  #y==0이 true라면 -1로 변경\n",
        "        \n",
        "        # w값 초기화, (n_features, )의 크기를 가지는 0과 1사이의 랜덤한 변수 어레이\n",
        "        init_w = np.random.rand(n_features)\n",
        "        self.w = init_w\n",
        "        self.b = 0 # b값 초기화\n",
        "\n",
        "        for _ in range(self.n_iters):\n",
        "            for i in range(n_samples):\n",
        "                x_i = x[i]\n",
        "                y_i = y_[i]\n",
        "                condition = (y_i * (np.dot(self.w , x_i)) + self.b) >= 1 #y(i) * (w · x(i) + b) >= 1\n",
        "                if condition: #gradient loss function 수식을 통한 업데이트\n",
        "                    self.w -= self.lr * (2 * self.lambda_param * self.w)  #w = w - lr*(2*lambda*w)\n",
        "                else:\n",
        "                    self.w -= self.lr * -(y_i * x_i - 2 * self.lambda_param * self.w) #w = w + lr*(y_i*x_i-2*lambda*w)\n",
        "                    self.b -= self.lr * y_i\n",
        "\n",
        "        return self.w, self.b\n",
        "\n",
        "    def predict(self, x):\n",
        "        self.approximation = np.zeros(len(x)) #0으로 이루어진 넘파이 배열 생성\n",
        "        for i, value in enumerate(x):\n",
        "          self.app = np.dot(self.w,value) - self.b #approximation = W·X - b\n",
        "          if self.app>=0: \n",
        "            output = 1\n",
        "          else:\n",
        "            output = 0\n",
        "          self.approximation[i]=output #조건에 따라 approximation 배열에 대입\n",
        "\n",
        "        return self.approximation\n",
        "\n",
        "    def decision_function(self, X):  #OnevsRest에서 모델 간 확률 비교 위해 정의 / predict에서 class를 구분하는데 사용한 값/ 클 수록 해당 확률에 속할 가능성이 높다고 판단\n",
        "      return np.dot(X,self.w) - self.b\n",
        "\n"
      ]
    },
    {
      "cell_type": "markdown",
      "metadata": {
        "id": "r1ppA4FXAuSN"
      },
      "source": [
        "# OnevsRest"
      ]
    },
    {
      "cell_type": "code",
      "execution_count": 352,
      "metadata": {
        "id": "64m-XKB_-nC9"
      },
      "outputs": [],
      "source": [
        "class OneVsRest: #멀티클래스 분류를 위한 one vs rest 기법\n",
        "    def __init__(self,n_iters=100, lr = 0.01, random_seed=3, lambda_param=0.01):\n",
        "      self.n_class = 4\n",
        "      self.n_iters = n_iters # 몇 회 반복하여 적절한 값을 찾을지 정하는 파라미터\n",
        "      self.lr = lr  # 학습률과 관련된 파라미터 \n",
        "      self.lambda_param = lambda_param\n",
        "\n",
        "    def one_hot(self, y_train): #Y를 one_hot encoding하여 여러 개의 데이터셋 생성 ex) y_train[0] = 0번 라벨을 가지는 데이터는 1, 다른 데이터는 0으로 처리함 \n",
        "        y_train = pd.get_dummies(y_train)\n",
        "        return y_train\n",
        "    \n",
        "    def fit(self, X_train, y_train):\n",
        "        y_one_hot = self.one_hot(y_train)\n",
        "        self.models = np.empty(self.n_class,dtype=object)\n",
        "\n",
        "        for i in range(self.n_class): #class 개수만큼의 classifier 생성하여 그 class에 속하는지 알아냄\n",
        "            model = SVMClassifier(n_iters=self.n_iters,lr=self.lr,lambda_param=self.lambda_param)\n",
        "            model.fit(X_train, y_one_hot.iloc[:,i]) #각 행 별로 가져온다 i번쨰 행 -> one_hot의 주석 참고\n",
        "            self.models[i] = model\n",
        "\n",
        "    def predict(self, X_test):\n",
        "        y_pred = []\n",
        "        decisionf_list = [model.decision_function(X_test) for model in self.models] #각 X_test에 대한 classifier들의 decision function을 도출하여, 그 값이 가장 큰 인덱스를 반환\n",
        "        y_pred = np.argmax(decisionf_list,axis=0) #즉 반환된 인덱스에 속한 가능성이 가장 크다는 것을 의미\n",
        "\n",
        "        return y_pred\n",
        "\n",
        "    def get_accuracy(self, y_true, y_pred): #정확도 계산 코드\n",
        "        self.true = y_true \n",
        "        self.pred = y_pred\n",
        "\n",
        "        jud = (self.true == self.pred)  #실제값과 예측값 비교 array -> True와 false로 이루어\n",
        "        wright = len(jud[jud==True]) #실제값 == 예측값\n",
        "        wrong = len(jud[jud==False]) #실제값 != 예측값\n",
        "\n",
        "        self.acc = float(wright/len(self.true)) #accuracy = True값 개수/ 전체 데이터 수 \n",
        "          \n",
        "        return f'Accuracy: {self.acc:.5f}'\n",
        "    \n",
        " "
      ]
    },
    {
      "cell_type": "code",
      "execution_count": 353,
      "metadata": {},
      "outputs": [],
      "source": [
        "acc=[]\n",
        "\n",
        "# SVM 모델 객체 생성\n",
        "svm = SVMClassifier()\n",
        "\n",
        "# 탐색할 하이퍼파라미터 정의\n",
        "param = {\n",
        "    'n_iters': [50, 100, 200], # 몇 회 반복하여 적절한 값을 찾을지 정하는 파라미터\n",
        "    'lr': [0.0001, 0.001, 0.01, 0.05], # 학습률과 관련된 파라미터\n",
        "    'lambda_param': [0.01, 0.1, 1] # 람다 파라미터\n",
        "}\n",
        "\n",
        "\n",
        "for i in param['n_iters']:\n",
        "    for j in param['lr']:\n",
        "        for k in param['lambda_param']:\n",
        "            temp = [i,j,k]\n",
        "            onevsrest = OneVsRest(n_iters=i,lr=j,lambda_param=k)\n",
        "            onevsrest.fit(X_train, y_train)\n",
        "            y_pred = onevsrest.predict(X_test)\n",
        "            acc.append(f'{temp}={onevsrest.get_accuracy(y_test,y_pred)}')\n",
        "\n"
      ]
    },
    {
      "cell_type": "code",
      "execution_count": 356,
      "metadata": {},
      "outputs": [
        {
          "data": {
            "text/plain": [
              "['[50, 0.0001, 0.01]=Accuracy: 0.79919',\n",
              " '[50, 0.0001, 0.1]=Accuracy: 0.85047',\n",
              " '[50, 0.0001, 1]=Accuracy: 0.85574',\n",
              " '[50, 0.001, 0.01]=Accuracy: 0.85861',\n",
              " '[50, 0.001, 0.1]=Accuracy: 0.85238',\n",
              " '[50, 0.001, 1]=Accuracy: 0.63575',\n",
              " '[50, 0.01, 0.01]=Accuracy: 0.82555',\n",
              " '[50, 0.01, 0.1]=Accuracy: 0.68224',\n",
              " '[50, 0.01, 1]=Accuracy: 0.65732',\n",
              " '[50, 0.05, 0.01]=Accuracy: 0.71076',\n",
              " '[50, 0.05, 0.1]=Accuracy: 0.65061',\n",
              " '[50, 0.05, 1]=Accuracy: 0.64079',\n",
              " '[100, 0.0001, 0.01]=Accuracy: 0.85047',\n",
              " '[100, 0.0001, 0.1]=Accuracy: 0.84687',\n",
              " '[100, 0.0001, 1]=Accuracy: 0.65133',\n",
              " '[100, 0.001, 0.01]=Accuracy: 0.85766',\n",
              " '[100, 0.001, 0.1]=Accuracy: 0.84663',\n",
              " '[100, 0.001, 1]=Accuracy: 0.84807',\n",
              " '[100, 0.01, 0.01]=Accuracy: 0.85262',\n",
              " '[100, 0.01, 0.1]=Accuracy: 0.85047',\n",
              " '[100, 0.01, 1]=Accuracy: 0.65780',\n",
              " '[100, 0.05, 0.01]=Accuracy: 0.84951',\n",
              " '[100, 0.05, 0.1]=Accuracy: 0.63503',\n",
              " '[100, 0.05, 1]=Accuracy: 0.63168',\n",
              " '[200, 0.0001, 0.01]=Accuracy: 0.79248',\n",
              " '[200, 0.0001, 0.1]=Accuracy: 0.82507',\n",
              " '[200, 0.0001, 1]=Accuracy: 0.85790',\n",
              " '[200, 0.001, 0.01]=Accuracy: 0.84807',\n",
              " '[200, 0.001, 0.1]=Accuracy: 0.84759',\n",
              " '[200, 0.001, 1]=Accuracy: 0.85430',\n",
              " '[200, 0.01, 0.01]=Accuracy: 0.84999',\n",
              " '[200, 0.01, 0.1]=Accuracy: 0.84783',\n",
              " '[200, 0.01, 1]=Accuracy: 0.65468',\n",
              " '[200, 0.05, 0.01]=Accuracy: 0.79176',\n",
              " '[200, 0.05, 0.1]=Accuracy: 0.63240',\n",
              " '[200, 0.05, 1]=Accuracy: 0.63240']"
            ]
          },
          "execution_count": 356,
          "metadata": {},
          "output_type": "execute_result"
        }
      ],
      "source": [
        "acc"
      ]
    },
    {
      "attachments": {},
      "cell_type": "markdown",
      "metadata": {},
      "source": [
        "test dataset = 0.33 -> 0.85790\n",
        "               0.4 -> 0.73507\n",
        "               0.1 -> 0.63280 "
      ]
    },
    {
      "cell_type": "code",
      "execution_count": 379,
      "metadata": {
        "id": "VvLKgKmXLgD8"
      },
      "outputs": [
        {
          "data": {
            "text/plain": [
              "'Accuracy: 0.77154'"
            ]
          },
          "execution_count": 379,
          "metadata": {},
          "output_type": "execute_result"
        }
      ],
      "source": [
        "onevsrest = OneVsRest(lr=0.0001,n_iters=200,lambda_param=1)\n",
        "onevsrest.fit(X_train, y_train)\n",
        "y_pred = onevsrest.predict(X_test)\n",
        "onevsrest.get_accuracy(y_test,y_pred)"
      ]
    },
    {
      "attachments": {},
      "cell_type": "markdown",
      "metadata": {
        "id": "NilLe3ukGTe1"
      },
      "source": [
        "테스트 코드에 적용"
      ]
    },
    {
      "cell_type": "code",
      "execution_count": 372,
      "metadata": {
        "id": "bfvjpUbhGsJT"
      },
      "outputs": [],
      "source": [
        "y_pred_sub =  onevsrest.predict(sub_test)"
      ]
    },
    {
      "cell_type": "code",
      "execution_count": 373,
      "metadata": {
        "colab": {
          "base_uri": "https://localhost:8080/"
        },
        "id": "rkM6JG7gG363",
        "outputId": "215550e4-1151-4b2a-df46-af2e4c180f19"
      },
      "outputs": [
        {
          "data": {
            "text/plain": [
              "array([0, 0, 0, ..., 0, 0, 0])"
            ]
          },
          "execution_count": 373,
          "metadata": {},
          "output_type": "execute_result"
        }
      ],
      "source": [
        "y_pred_sub"
      ]
    },
    {
      "cell_type": "code",
      "execution_count": 374,
      "metadata": {
        "id": "qvVWAQqtCLTK"
      },
      "outputs": [],
      "source": [
        "submission = pd.DataFrame({'id':[x for x in range(1,sub_test.shape[0]+1)],'type':y_pred_sub})"
      ]
    },
    {
      "cell_type": "code",
      "execution_count": 375,
      "metadata": {
        "colab": {
          "base_uri": "https://localhost:8080/"
        },
        "id": "7dfU6FTNEWyZ",
        "outputId": "e7ddf413-d865-47b7-bd05-d802ba6dd545"
      },
      "outputs": [
        {
          "data": {
            "text/plain": [
              "0    2202\n",
              "2     640\n",
              "1     281\n",
              "3      17\n",
              "Name: type, dtype: int64"
            ]
          },
          "execution_count": 375,
          "metadata": {},
          "output_type": "execute_result"
        }
      ],
      "source": [
        "submission['type'].value_counts()"
      ]
    },
    {
      "cell_type": "code",
      "execution_count": 376,
      "metadata": {
        "id": "IrngKF3_HkX9"
      },
      "outputs": [],
      "source": [
        "submission.to_csv('2021312394이해민_sub11.csv',index=False)"
      ]
    },
    {
      "cell_type": "code",
      "execution_count": null,
      "metadata": {},
      "outputs": [],
      "source": []
    }
  ],
  "metadata": {
    "colab": {
      "provenance": []
    },
    "kernelspec": {
      "display_name": "Python 3",
      "name": "python3"
    },
    "language_info": {
      "codemirror_mode": {
        "name": "ipython",
        "version": 3
      },
      "file_extension": ".py",
      "mimetype": "text/x-python",
      "name": "python",
      "nbconvert_exporter": "python",
      "pygments_lexer": "ipython3",
      "version": "3.9.13"
    }
  },
  "nbformat": 4,
  "nbformat_minor": 0
}
