{
 "cells": [
  {
   "cell_type": "code",
   "execution_count": 1,
   "metadata": {},
   "outputs": [],
   "source": [
    "import pandas as pd\n",
    "import numpy as np"
   ]
  },
  {
   "cell_type": "code",
   "execution_count": 2,
   "metadata": {},
   "outputs": [],
   "source": [
    "from sklearn.model_selection import train_test_split\n",
    "from sklearn.svm import SVC\n",
    "from sklearn.ensemble import RandomForestClassifier\n",
    "import xgboost as xgb\n"
   ]
  },
  {
   "cell_type": "code",
   "execution_count": 3,
   "metadata": {},
   "outputs": [],
   "source": [
    "data = pd.read_csv('train.csv')\n",
    "X_data = data.iloc[:,:-1]\n",
    "label = data.iloc[:,-1]"
   ]
  },
  {
   "cell_type": "code",
   "execution_count": 12,
   "metadata": {},
   "outputs": [
    {
     "data": {
      "text/plain": [
       "(6940, 94)"
      ]
     },
     "execution_count": 12,
     "metadata": {},
     "output_type": "execute_result"
    }
   ],
   "source": [
    "data.shape"
   ]
  },
  {
   "cell_type": "code",
   "execution_count": 4,
   "metadata": {},
   "outputs": [
    {
     "data": {
      "text/plain": [
       "1    3756\n",
       "0    3184\n",
       "Name: label, dtype: int64"
      ]
     },
     "execution_count": 4,
     "metadata": {},
     "output_type": "execute_result"
    }
   ],
   "source": [
    "label.value_counts()"
   ]
  },
  {
   "cell_type": "code",
   "execution_count": 5,
   "metadata": {},
   "outputs": [
    {
     "data": {
      "text/plain": [
       "(1735, 93)"
      ]
     },
     "execution_count": 5,
     "metadata": {},
     "output_type": "execute_result"
    }
   ],
   "source": [
    "test_data = pd.read_csv('test.csv').iloc[:,1:]\n",
    "test_data.shape"
   ]
  },
  {
   "attachments": {},
   "cell_type": "markdown",
   "metadata": {},
   "source": [
    "### 전처리"
   ]
  },
  {
   "cell_type": "code",
   "execution_count": 6,
   "metadata": {},
   "outputs": [
    {
     "name": "stdout",
     "output_type": "stream",
     "text": [
      "원본 데이터셋 클래스 분포:\n",
      "1    3756\n",
      "0    3184\n",
      "Name: label, dtype: int64\n",
      "\n",
      "SMOTE 적용 후 데이터셋 클래스 분포:\n",
      "0    3756\n",
      "1    3756\n",
      "Name: label, dtype: int64\n"
     ]
    }
   ],
   "source": [
    "from imblearn.over_sampling import SMOTE\n",
    "\n",
    "smote = SMOTE()\n",
    "X_data_smote, label_smote = smote.fit_resample(X_data,label)\n",
    "\n",
    "# SMOTE 적용 후 데이터셋 \n",
    "print(\"원본 데이터셋 클래스 분포:\")\n",
    "print(label.value_counts())\n",
    "\n",
    "print(\"\\nSMOTE 적용 후 데이터셋 클래스 분포:\")\n",
    "print(label_smote.value_counts())"
   ]
  },
  {
   "cell_type": "code",
   "execution_count": 43,
   "metadata": {},
   "outputs": [],
   "source": [
    "from sklearn.preprocessing import RobustScaler\n",
    "SC = RobustScaler()\n",
    "train_x = SC.fit_transform(X_data_smote)\n",
    "test_x = SC.transform(test_data)"
   ]
  },
  {
   "cell_type": "code",
   "execution_count": 44,
   "metadata": {},
   "outputs": [],
   "source": [
    "train_x_df = pd.DataFrame(train_x,columns=X_data_smote.columns)\n",
    "test_x_df = pd.DataFrame(test_x,columns=test_data.columns)"
   ]
  },
  {
   "cell_type": "code",
   "execution_count": 45,
   "metadata": {},
   "outputs": [],
   "source": [
    "X_train, X_test,y_train, y_test = train_test_split(train_x_df,label_smote,test_size=0.2)"
   ]
  },
  {
   "attachments": {},
   "cell_type": "markdown",
   "metadata": {},
   "source": [
    "### 모델 학습"
   ]
  },
  {
   "cell_type": "code",
   "execution_count": 62,
   "metadata": {},
   "outputs": [],
   "source": [
    "from sklearn.linear_model import LogisticRegression\n",
    "from sklearn.feature_selection import RFECV\n",
    "from sklearn.metrics import accuracy_score\n",
    "\n",
    "f_model = xgb.XGBClassifier()\n",
    "svm = SVC()\n",
    "LR = LogisticRegression(solver='liblinear')\n",
    "rf = RandomForestClassifier(n_estimators=7)\n",
    "xg = xgb.XGBClassifier()\n",
    "\n",
    "# RFECV를 사용하여 특성 선택과 교차 검증 수행\n",
    "rfecv = RFECV(estimator=f_model)"
   ]
  },
  {
   "cell_type": "code",
   "execution_count": 63,
   "metadata": {},
   "outputs": [
    {
     "name": "stdout",
     "output_type": "stream",
     "text": [
      "svm acc:0.7236024844720497\n",
      "LR acc:0.717391304347826\n",
      "rf acc:0.6708074534161491\n",
      "xg acc:0.7284826974267968\n"
     ]
    }
   ],
   "source": [
    "X_selected = rfecv.fit_transform(X_train, y_train)\n",
    "\n",
    "test_selected = rfecv.transform(X_test)\n",
    "\n",
    "svm.fit(X_selected,y_train)\n",
    "LR.fit(X_selected, y_train)\n",
    "rf.fit(X_selected, y_train)\n",
    "xg.fit(X_selected, y_train)\n",
    "y_pred_xg = xg.predict(test_selected)\n",
    "\n",
    "\n",
    "print(f'svm acc:{svm.score(test_selected,y_test)}')\n",
    "print(f'LR acc:{LR.score(test_selected,y_test)}')\n",
    "print(f'rf acc:{rf.score(test_selected,y_test)}')\n",
    "print(f'xg acc:{accuracy_score(y_test,y_pred_xg)}')"
   ]
  },
  {
   "cell_type": "code",
   "execution_count": 72,
   "metadata": {},
   "outputs": [],
   "source": [
    "svm.fit(X_selected,y_train)\n",
    "y_pred_svm = xg.predict(test_selected)"
   ]
  },
  {
   "cell_type": "code",
   "execution_count": 67,
   "metadata": {},
   "outputs": [
    {
     "name": "stdout",
     "output_type": "stream",
     "text": [
      "svm recall:0.7031802120141343\n",
      "xg recall:0.7093639575971732\n"
     ]
    }
   ],
   "source": [
    "from sklearn.metrics import recall_score\n",
    "\n",
    "print(f'svm recall:{recall_score(y_test, y_pred_svm)}')\n",
    "print(f'xg recall:{recall_score(y_test, y_pred_xg)}')"
   ]
  },
  {
   "cell_type": "code",
   "execution_count": 74,
   "metadata": {},
   "outputs": [],
   "source": [
    "test_selected = rfecv.transform(test_x_df)\n",
    "y_pred = xg.predict(test_selected)"
   ]
  },
  {
   "cell_type": "code",
   "execution_count": 68,
   "metadata": {},
   "outputs": [
    {
     "data": {
      "text/plain": [
       "54"
      ]
     },
     "execution_count": 68,
     "metadata": {},
     "output_type": "execute_result"
    }
   ],
   "source": [
    "rfecv.n_features_"
   ]
  },
  {
   "cell_type": "code",
   "execution_count": 25,
   "metadata": {},
   "outputs": [
    {
     "data": {
      "text/plain": [
       "Index(['WC', 'Authentic', 'Tone', 'WPS', 'Sixltr', 'Dic', 'function', 'ppron',\n",
       "       'i', 'we', 'they', 'article', 'auxverb', 'adverb', 'conj', 'negate',\n",
       "       'number', 'affect', 'posemo', 'anx', 'anger', 'sad', 'family',\n",
       "       'insight', 'cause', 'discrep', 'tentat', 'percept', 'feel', 'bio',\n",
       "       'health', 'sexual', 'ingest', 'drives', 'affiliation', 'achieve',\n",
       "       'power', 'focuspast', 'space', 'time', 'work', 'leisure', 'home',\n",
       "       'money', 'relig', 'swear', 'netspeak', 'nonflu', 'AllPunc', 'QMark',\n",
       "       'Exclam', 'Dash', 'Apostro', 'OtherP'],\n",
       "      dtype='object')"
      ]
     },
     "execution_count": 25,
     "metadata": {},
     "output_type": "execute_result"
    }
   ],
   "source": [
    "X_data.iloc[:,rfecv.support_].columns"
   ]
  },
  {
   "cell_type": "code",
   "execution_count": 65,
   "metadata": {},
   "outputs": [
    {
     "data": {
      "text/plain": [
       "array([0, 1, 1, ..., 0, 1, 0])"
      ]
     },
     "execution_count": 65,
     "metadata": {},
     "output_type": "execute_result"
    }
   ],
   "source": [
    "y_pred"
   ]
  },
  {
   "attachments": {},
   "cell_type": "markdown",
   "metadata": {},
   "source": [
    "\n",
    "- sub31 -> 879,856 -> Smote -> SVC => robust scaler gamma = 0.01\n",
    "- sub32 -> 872,863 -> Smote -> SVC => robust scaler gamma = 0.01  / RFECV 사용\n",
    "- sub 34 -> 876, 869 -> Smote -> lr => robust scaler / RFECV 사용\n",
    "- sub 35 -> 871, 864 -> smote -> svc -> minmax //RFECV 사용\n",
    "- sub 37 -> 875, 860 -> smote -> >svc / RFECV 사용"
   ]
  },
  {
   "cell_type": "code",
   "execution_count": 75,
   "metadata": {},
   "outputs": [
    {
     "data": {
      "text/plain": [
       "1    878\n",
       "0    857\n",
       "Name: label, dtype: int64"
      ]
     },
     "execution_count": 75,
     "metadata": {},
     "output_type": "execute_result"
    }
   ],
   "source": [
    "sub = pd.DataFrame({'id':[x for x in range(test_data.shape[0])],'label':y_pred})\n",
    "sub['label'].value_counts() "
   ]
  },
  {
   "cell_type": "code",
   "execution_count": 76,
   "metadata": {},
   "outputs": [],
   "source": [
    "sub.to_csv('sub39.csv',index=False)"
   ]
  }
 ],
 "metadata": {
  "kernelspec": {
   "display_name": "base",
   "language": "python",
   "name": "python3"
  },
  "language_info": {
   "codemirror_mode": {
    "name": "ipython",
    "version": 3
   },
   "file_extension": ".py",
   "mimetype": "text/x-python",
   "name": "python",
   "nbconvert_exporter": "python",
   "pygments_lexer": "ipython3",
   "version": "3.9.13"
  },
  "orig_nbformat": 4,
  "vscode": {
   "interpreter": {
    "hash": "3c7897db94f24119d8e0caea904b0c342cf7e044f6b790ac4b2e2aeb4334c369"
   }
  }
 },
 "nbformat": 4,
 "nbformat_minor": 2
}
