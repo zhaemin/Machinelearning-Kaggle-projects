{
  "cells": [
    {
      "cell_type": "code",
      "execution_count": 1,
      "metadata": {
        "colab": {
          "base_uri": "https://localhost:8080/"
        },
        "id": "i1x1aMeyd8us",
        "outputId": "59c2fee3-e2e7-4996-beb4-30304a2beaba"
      },
      "outputs": [
        {
          "name": "stdout",
          "output_type": "stream",
          "text": [
            "Mounted at /content/drive\n"
          ]
        }
      ],
      "source": [
        "from google.colab import drive\n",
        "drive.mount('/content/drive')"
      ]
    },
    {
      "cell_type": "code",
      "execution_count": 2,
      "metadata": {
        "id": "C-vp1hiF2oWk"
      },
      "outputs": [],
      "source": [
        "import matplotlib.pyplot as plt\n",
        "import numpy as np\n",
        "import tensorflow as tf\n",
        "from keras.callbacks import EarlyStopping\n",
        "from keras.callbacks import ModelCheckpoint"
      ]
    },
    {
      "cell_type": "code",
      "execution_count": 3,
      "metadata": {
        "id": "CCN-8DU0-AGy"
      },
      "outputs": [],
      "source": [
        "train_data_dir =  '/content/drive/MyDrive/기계학습/train'"
      ]
    },
    {
      "cell_type": "code",
      "execution_count": 7,
      "metadata": {
        "id": "k4bzp-zr-tzO"
      },
      "outputs": [],
      "source": [
        "img_height = 224\n",
        "img_width = 224\n",
        "batch_size = 64"
      ]
    },
    {
      "attachments": {},
      "cell_type": "markdown",
      "metadata": {},
      "source": [
        "이미지 전처리"
      ]
    },
    {
      "cell_type": "code",
      "execution_count": 10,
      "metadata": {
        "colab": {
          "base_uri": "https://localhost:8080/"
        },
        "id": "krRNvilW33Zn",
        "outputId": "be486f65-beb8-4015-99a7-fdc60da57c75"
      },
      "outputs": [
        {
          "name": "stdout",
          "output_type": "stream",
          "text": [
            "Found 1998 images belonging to 6 classes.\n",
            "Found 497 images belonging to 6 classes.\n"
          ]
        }
      ],
      "source": [
        "from keras.preprocessing.image import ImageDataGenerator\n",
        "\n",
        "train_datagen = ImageDataGenerator(\n",
        "        rescale=1./255, #이미지 rescailing\n",
        "        zoom_range = 0.1,   # 이미지를 랜덤 확대/축소\n",
        "        horizontal_flip=True, #좌우반전\n",
        "        brightness_range=[0.2,1.0], # 밝기 조절\n",
        "        rotation_range=30, # 회전제한 각도 30도\n",
        "        width_shift_range=0.2, # 좌우이동 20%\n",
        "        height_shift_range=0.2, # 상하이동 20%\n",
        "        shear_range=0.15, #shear 연산\n",
        "        validation_split=0.2)  \n",
        "\n",
        "val_datagen = ImageDataGenerator(rescale=1./255, validation_split=0.2)\n",
        "\n",
        "train_generator = train_datagen.flow_from_directory(\n",
        "    directory=train_data_dir,\n",
        "    batch_size = batch_size,\n",
        "    target_size=(img_height, img_width),\n",
        "    class_mode='sparse',\n",
        "    shuffle = True,\n",
        "    subset='training')\n",
        "\n",
        "validation_generator = val_datagen.flow_from_directory(\n",
        "    directory=train_data_dir,\n",
        "    batch_size=batch_size,\n",
        "    target_size=(img_height, img_width),\n",
        "    class_mode='sparse',\n",
        "    subset='validation')"
      ]
    },
    {
      "attachments": {},
      "cell_type": "markdown",
      "metadata": {},
      "source": [
        "모델 정의"
      ]
    },
    {
      "cell_type": "code",
      "execution_count": 11,
      "metadata": {
        "id": "QVL6xiS41PIW"
      },
      "outputs": [],
      "source": [
        "from keras.layers import Dense, GlobalAveragePooling2D\n",
        "from keras.models import Model\n",
        "from keras import optimizers\n",
        "\n",
        "base_model = tf.keras.applications.resnet_v2.ResNet152V2(weights='imagenet', include_top=False)\n",
        "\n",
        "# 새로운 분류층 추가\n",
        "x = base_model.output\n",
        "x = GlobalAveragePooling2D()(x)  # GAP 레이어\n",
        "predictions = Dense(6, activation='softmax')(x)  #출력층\n",
        "\n",
        "# 최종 모델\n",
        "model = Model(inputs=base_model.input, outputs=predictions)\n",
        "\n",
        "# 새로 추가한 레이어만 학습하도록 설정\n",
        "for layer in base_model.layers:\n",
        "    layer.trainable = False\n",
        "\n",
        "\n",
        "#callback\n",
        "early= EarlyStopping(patience=5)\n",
        "checkpoint = ModelCheckpoint('/content/drive/MyDrive/기계학습/model_resnet152v2.h5',\n",
        "\t\t\t\t\t\t\t\t\t\t\t\t\t\t\tsave_best_only=True,\n",
        "\t\t\t\t\t\t\t\t\t\t\t\t\t\t\tmonitor='val_loss',\n",
        "\t\t\t\t\t\t\t\t\t\t\t\t\t\t\tmode='min',\n",
        "\t\t\t\t\t\t\t\t\t\t\t\t\t\t\tverbose=1)\n",
        "\n",
        "model.compile(optimizer=\"adam\", loss='sparse_categorical_crossentropy', metrics=['accuracy'])"
      ]
    },
    {
      "cell_type": "code",
      "execution_count": 12,
      "metadata": {
        "colab": {
          "base_uri": "https://localhost:8080/"
        },
        "id": "7o8h6M1GgXVT",
        "outputId": "6878f3fe-463d-4f09-97a9-93b535820e91"
      },
      "outputs": [
        {
          "name": "stdout",
          "output_type": "stream",
          "text": [
            "Epoch 1/20\n",
            "31/31 [==============================] - ETA: 0s - loss: 1.5253 - accuracy: 0.4080 \n",
            "Epoch 1: val_loss improved from inf to 1.00762, saving model to /content/drive/MyDrive/기계학습/model_resnet152v2.h5\n",
            "31/31 [==============================] - 492s 15s/step - loss: 1.5253 - accuracy: 0.4080 - val_loss: 1.0076 - val_accuracy: 0.6362\n",
            "Epoch 2/20\n",
            "31/31 [==============================] - ETA: 0s - loss: 0.9235 - accuracy: 0.6851\n",
            "Epoch 2: val_loss improved from 1.00762 to 0.71128, saving model to /content/drive/MyDrive/기계학습/model_resnet152v2.h5\n",
            "31/31 [==============================] - 91s 3s/step - loss: 0.9235 - accuracy: 0.6851 - val_loss: 0.7113 - val_accuracy: 0.7812\n",
            "Epoch 3/20\n",
            "31/31 [==============================] - ETA: 0s - loss: 0.7556 - accuracy: 0.7291\n",
            "Epoch 3: val_loss improved from 0.71128 to 0.67635, saving model to /content/drive/MyDrive/기계학습/model_resnet152v2.h5\n",
            "31/31 [==============================] - 97s 3s/step - loss: 0.7556 - accuracy: 0.7291 - val_loss: 0.6764 - val_accuracy: 0.7679\n",
            "Epoch 4/20\n",
            "31/31 [==============================] - ETA: 0s - loss: 0.6837 - accuracy: 0.7715\n",
            "Epoch 4: val_loss improved from 0.67635 to 0.63736, saving model to /content/drive/MyDrive/기계학습/model_resnet152v2.h5\n",
            "31/31 [==============================] - 97s 3s/step - loss: 0.6837 - accuracy: 0.7715 - val_loss: 0.6374 - val_accuracy: 0.7857\n",
            "Epoch 5/20\n",
            "31/31 [==============================] - ETA: 0s - loss: 0.5947 - accuracy: 0.8051\n",
            "Epoch 5: val_loss improved from 0.63736 to 0.57775, saving model to /content/drive/MyDrive/기계학습/model_resnet152v2.h5\n",
            "31/31 [==============================] - 87s 3s/step - loss: 0.5947 - accuracy: 0.8051 - val_loss: 0.5778 - val_accuracy: 0.8103\n",
            "Epoch 6/20\n",
            "31/31 [==============================] - ETA: 0s - loss: 0.5642 - accuracy: 0.8030\n",
            "Epoch 6: val_loss improved from 0.57775 to 0.56477, saving model to /content/drive/MyDrive/기계학습/model_resnet152v2.h5\n",
            "31/31 [==============================] - 87s 3s/step - loss: 0.5642 - accuracy: 0.8030 - val_loss: 0.5648 - val_accuracy: 0.8192\n",
            "Epoch 7/20\n",
            "31/31 [==============================] - ETA: 0s - loss: 0.5417 - accuracy: 0.8071\n",
            "Epoch 7: val_loss improved from 0.56477 to 0.54240, saving model to /content/drive/MyDrive/기계학습/model_resnet152v2.h5\n",
            "31/31 [==============================] - 95s 3s/step - loss: 0.5417 - accuracy: 0.8071 - val_loss: 0.5424 - val_accuracy: 0.8214\n",
            "Epoch 8/20\n",
            "31/31 [==============================] - ETA: 0s - loss: 0.4867 - accuracy: 0.8371\n",
            "Epoch 8: val_loss improved from 0.54240 to 0.49142, saving model to /content/drive/MyDrive/기계학습/model_resnet152v2.h5\n",
            "31/31 [==============================] - 97s 3s/step - loss: 0.4867 - accuracy: 0.8371 - val_loss: 0.4914 - val_accuracy: 0.8393\n",
            "Epoch 9/20\n",
            "31/31 [==============================] - ETA: 0s - loss: 0.4824 - accuracy: 0.8501\n",
            "Epoch 9: val_loss did not improve from 0.49142\n",
            "31/31 [==============================] - 92s 3s/step - loss: 0.4824 - accuracy: 0.8501 - val_loss: 0.5100 - val_accuracy: 0.8259\n",
            "Epoch 10/20\n",
            "31/31 [==============================] - ETA: 0s - loss: 0.4601 - accuracy: 0.8433\n",
            "Epoch 10: val_loss did not improve from 0.49142\n",
            "31/31 [==============================] - 91s 3s/step - loss: 0.4601 - accuracy: 0.8433 - val_loss: 0.5087 - val_accuracy: 0.8304\n",
            "Epoch 11/20\n",
            "31/31 [==============================] - ETA: 0s - loss: 0.4622 - accuracy: 0.8438\n",
            "Epoch 11: val_loss improved from 0.49142 to 0.42509, saving model to /content/drive/MyDrive/기계학습/model_resnet152v2.h5\n",
            "31/31 [==============================] - 88s 3s/step - loss: 0.4622 - accuracy: 0.8438 - val_loss: 0.4251 - val_accuracy: 0.8415\n",
            "Epoch 12/20\n",
            "31/31 [==============================] - ETA: 0s - loss: 0.4374 - accuracy: 0.8588\n",
            "Epoch 12: val_loss did not improve from 0.42509\n",
            "31/31 [==============================] - 97s 3s/step - loss: 0.4374 - accuracy: 0.8588 - val_loss: 0.4808 - val_accuracy: 0.8348\n",
            "Epoch 13/20\n",
            "31/31 [==============================] - ETA: 0s - loss: 0.4142 - accuracy: 0.8635\n",
            "Epoch 13: val_loss did not improve from 0.42509\n",
            "31/31 [==============================] - 90s 3s/step - loss: 0.4142 - accuracy: 0.8635 - val_loss: 0.5088 - val_accuracy: 0.8237\n",
            "Epoch 14/20\n",
            "31/31 [==============================] - ETA: 0s - loss: 0.4138 - accuracy: 0.8630\n",
            "Epoch 14: val_loss did not improve from 0.42509\n",
            "31/31 [==============================] - 93s 3s/step - loss: 0.4138 - accuracy: 0.8630 - val_loss: 0.4988 - val_accuracy: 0.8482\n",
            "Epoch 15/20\n",
            "31/31 [==============================] - ETA: 0s - loss: 0.3931 - accuracy: 0.8614\n",
            "Epoch 15: val_loss did not improve from 0.42509\n",
            "31/31 [==============================] - 93s 3s/step - loss: 0.3931 - accuracy: 0.8614 - val_loss: 0.4673 - val_accuracy: 0.8504\n",
            "Epoch 16/20\n",
            "31/31 [==============================] - ETA: 0s - loss: 0.3995 - accuracy: 0.8609\n",
            "Epoch 16: val_loss did not improve from 0.42509\n",
            "31/31 [==============================] - 93s 3s/step - loss: 0.3995 - accuracy: 0.8609 - val_loss: 0.4600 - val_accuracy: 0.8527\n"
          ]
        },
        {
          "data": {
            "text/plain": [
              "<keras.callbacks.History at 0x7f8131524b80>"
            ]
          },
          "execution_count": 12,
          "metadata": {},
          "output_type": "execute_result"
        }
      ],
      "source": [
        "model.fit(\n",
        "    train_generator,\n",
        "    steps_per_epoch=train_generator.samples // train_generator.batch_size,\n",
        "    epochs=20,\n",
        "    validation_data=validation_generator,\n",
        "    validation_steps=validation_generator.samples // validation_generator.batch_size,\n",
        "    callbacks = [early, checkpoint]\n",
        ")"
      ]
    },
    {
      "cell_type": "code",
      "execution_count": null,
      "metadata": {},
      "outputs": [],
      "source": [
        "history = model.history\n",
        "\n",
        "# history 객체에서 validation loss와 accuracy 추출\n",
        "val_loss = history.history['val_loss']\n",
        "val_accuracy = history.history['val_accuracy']\n",
        "\n",
        "# Epoch 수\n",
        "epochs = range(1, len(val_loss) + 1)\n",
        "\n",
        "# Validation Loss 그래프\n",
        "plt.plot(epochs, val_loss, 'b', label='Validation loss')\n",
        "plt.title('Validation Loss')\n",
        "plt.xlabel('Epochs')\n",
        "plt.ylabel('Loss')\n",
        "plt.legend()\n",
        "plt.show()\n",
        "\n",
        "# Validation Accuracy 그래프\n",
        "plt.plot(epochs, val_accuracy, 'r', label='Validation accuracy')\n",
        "plt.title('Validation Accuracy')\n",
        "plt.xlabel('Epochs')\n",
        "plt.ylabel('Accuracy')\n",
        "plt.legend()\n",
        "plt.show()"
      ]
    },
    {
      "attachments": {},
      "cell_type": "markdown",
      "metadata": {},
      "source": [
        "Fine tuning"
      ]
    },
    {
      "cell_type": "code",
      "execution_count": 13,
      "metadata": {
        "colab": {
          "base_uri": "https://localhost:8080/"
        },
        "id": "ZYA5_Na7eNRQ",
        "outputId": "f7c81dd8-9937-4da2-cc72-715be0df1c00"
      },
      "outputs": [
        {
          "name": "stderr",
          "output_type": "stream",
          "text": [
            "/usr/local/lib/python3.10/dist-packages/keras/optimizers/legacy/adam.py:117: UserWarning: The `lr` argument is deprecated, use `learning_rate` instead.\n",
            "  super().__init__(name, **kwargs)\n"
          ]
        },
        {
          "name": "stdout",
          "output_type": "stream",
          "text": [
            "Epoch 1/100\n",
            "31/31 [==============================] - ETA: 0s - loss: 0.4622 - accuracy: 0.8418\n",
            "Epoch 1: val_loss improved from inf to 0.76139, saving model to /content/drive/MyDrive/기계학습/model_resnet152v2_ft.h5\n",
            "31/31 [==============================] - 140s 4s/step - loss: 0.4622 - accuracy: 0.8418 - val_loss: 0.7614 - val_accuracy: 0.8438\n",
            "Epoch 2/100\n",
            "31/31 [==============================] - ETA: 0s - loss: 0.1905 - accuracy: 0.9374\n",
            "Epoch 2: val_loss improved from 0.76139 to 0.48015, saving model to /content/drive/MyDrive/기계학습/model_resnet152v2_ft.h5\n",
            "31/31 [==============================] - 127s 4s/step - loss: 0.1905 - accuracy: 0.9374 - val_loss: 0.4801 - val_accuracy: 0.8951\n",
            "Epoch 3/100\n",
            "31/31 [==============================] - ETA: 0s - loss: 0.1559 - accuracy: 0.9473\n",
            "Epoch 3: val_loss improved from 0.48015 to 0.40202, saving model to /content/drive/MyDrive/기계학습/model_resnet152v2_ft.h5\n",
            "31/31 [==============================] - 112s 4s/step - loss: 0.1559 - accuracy: 0.9473 - val_loss: 0.4020 - val_accuracy: 0.9174\n",
            "Epoch 4/100\n",
            "31/31 [==============================] - ETA: 0s - loss: 0.1107 - accuracy: 0.9597\n",
            "Epoch 4: val_loss improved from 0.40202 to 0.32445, saving model to /content/drive/MyDrive/기계학습/model_resnet152v2_ft.h5\n",
            "31/31 [==============================] - 115s 4s/step - loss: 0.1107 - accuracy: 0.9597 - val_loss: 0.3244 - val_accuracy: 0.9196\n",
            "Epoch 5/100\n",
            "31/31 [==============================] - ETA: 0s - loss: 0.0987 - accuracy: 0.9685\n",
            "Epoch 5: val_loss improved from 0.32445 to 0.25280, saving model to /content/drive/MyDrive/기계학습/model_resnet152v2_ft.h5\n",
            "31/31 [==============================] - 119s 4s/step - loss: 0.0987 - accuracy: 0.9685 - val_loss: 0.2528 - val_accuracy: 0.9286\n",
            "Epoch 6/100\n",
            "31/31 [==============================] - ETA: 0s - loss: 0.0738 - accuracy: 0.9736\n",
            "Epoch 6: val_loss did not improve from 0.25280\n",
            "31/31 [==============================] - 105s 3s/step - loss: 0.0738 - accuracy: 0.9736 - val_loss: 0.2690 - val_accuracy: 0.9129\n",
            "Epoch 7/100\n",
            "31/31 [==============================] - ETA: 0s - loss: 0.0715 - accuracy: 0.9778\n",
            "Epoch 7: val_loss did not improve from 0.25280\n",
            "31/31 [==============================] - 104s 3s/step - loss: 0.0715 - accuracy: 0.9778 - val_loss: 0.3640 - val_accuracy: 0.9107\n",
            "Epoch 8/100\n",
            "31/31 [==============================] - ETA: 0s - loss: 0.0495 - accuracy: 0.9793\n",
            "Epoch 8: val_loss did not improve from 0.25280\n",
            "31/31 [==============================] - 96s 3s/step - loss: 0.0495 - accuracy: 0.9793 - val_loss: 0.3324 - val_accuracy: 0.9263\n",
            "Epoch 9/100\n",
            "31/31 [==============================] - ETA: 0s - loss: 0.0528 - accuracy: 0.9835\n",
            "Epoch 9: val_loss did not improve from 0.25280\n",
            "31/31 [==============================] - 97s 3s/step - loss: 0.0528 - accuracy: 0.9835 - val_loss: 0.2544 - val_accuracy: 0.9442\n",
            "Epoch 10/100\n",
            "31/31 [==============================] - ETA: 0s - loss: 0.0628 - accuracy: 0.9835\n",
            "Epoch 10: val_loss did not improve from 0.25280\n",
            "31/31 [==============================] - 104s 3s/step - loss: 0.0628 - accuracy: 0.9835 - val_loss: 0.2926 - val_accuracy: 0.9152\n"
          ]
        }
      ],
      "source": [
        "for layer in base_model.layers:\n",
        "  layer.trainable=True\n",
        "\n",
        "early= EarlyStopping(patience=5)\n",
        "checkpoint = ModelCheckpoint('/content/drive/MyDrive/기계학습/model_resnet152v2_ft.h5',\n",
        "\t\t\t\t\t\t\t\t\t\t\t\t\t\t\tsave_best_only=True,\n",
        "\t\t\t\t\t\t\t\t\t\t\t\t\t\t\tmonitor='val_loss',\n",
        "\t\t\t\t\t\t\t\t\t\t\t\t\t\t\tmode='min',\n",
        "\t\t\t\t\t\t\t\t\t\t\t\t\t\t\tverbose=1)\n",
        "\n",
        "optimizer=optimizers.Adam(lr=0.0001)\n",
        "model.compile(loss='sparse_categorical_crossentropy',optimizer=optimizer,\n",
        "              metrics=['accuracy'])\n",
        "\n",
        "\n",
        "history = model.fit(\n",
        "    train_generator,\n",
        "    steps_per_epoch=train_generator.samples // train_generator.batch_size,\n",
        "    epochs=100,\n",
        "    validation_data=validation_generator,\n",
        "    validation_steps=validation_generator.samples // validation_generator.batch_size,\n",
        "    callbacks = [early,checkpoint]\n",
        ")"
      ]
    },
    {
      "attachments": {},
      "cell_type": "markdown",
      "metadata": {},
      "source": [
        "Prediction"
      ]
    },
    {
      "cell_type": "code",
      "execution_count": 14,
      "metadata": {
        "id": "DwTz8WArykgj"
      },
      "outputs": [],
      "source": [
        "base_model = tf.keras.applications.resnet_v2.ResNet152V2(weights='imagenet', include_top=False)\n",
        "\n",
        "# 새로운 분류기 추가\n",
        "x = base_model.output\n",
        "x = GlobalAveragePooling2D()(x)  # GAP 레이어\n",
        "predictions = Dense(6, activation='softmax')(x)  \n",
        "\n",
        "# 최종 모델을 구축합니다.\n",
        "model = Model(inputs=base_model.input, outputs=predictions)\n",
        "\n",
        "model.load_weights('/content/drive/MyDrive/기계학습/model_resnet152v2_ft.h5')"
      ]
    },
    {
      "cell_type": "code",
      "execution_count": 15,
      "metadata": {
        "id": "CKuqY8ndxq7B"
      },
      "outputs": [],
      "source": [
        "import os\n",
        "folder_path = '/content/drive/MyDrive/기계학습/test' \n",
        "image_files = os.listdir(folder_path)"
      ]
    },
    {
      "cell_type": "code",
      "execution_count": 16,
      "metadata": {
        "colab": {
          "base_uri": "https://localhost:8080/"
        },
        "id": "6r0k40o09LhY",
        "outputId": "762d9d57-99cd-460b-baa4-2cc17381126b"
      },
      "outputs": [
        {
          "name": "stdout",
          "output_type": "stream",
          "text": [
            "['0.jpg', '1.jpg', '2.jpg', '3.jpg', '4.jpg', '5.jpg', '6.jpg', '7.jpg', '8.jpg', '9.jpg', '10.jpg', '11.jpg', '12.jpg', '13.jpg', '14.jpg', '15.jpg', '16.jpg', '17.jpg', '18.jpg', '19.jpg', '20.jpg', '21.jpg', '22.jpg', '23.jpg', '24.jpg', '25.jpg', '26.jpg', '27.jpg', '28.jpg', '29.jpg', '30.jpg', '31.jpg', '32.jpg', '33.jpg', '34.jpg', '35.jpg', '36.jpg', '37.jpg', '38.jpg', '39.jpg', '40.jpg', '41.jpg', '42.jpg', '43.jpg', '44.jpg', '45.jpg', '46.jpg', '47.jpg', '48.jpg', '49.jpg', '50.jpg', '51.jpg', '52.jpg', '53.jpg', '54.jpg', '55.jpg', '56.jpg', '57.jpg', '58.jpg', '59.jpg', '60.jpg', '61.jpg', '62.jpg', '63.jpg', '64.jpg', '65.jpg', '66.jpg', '67.jpg', '68.jpg', '69.jpg', '70.jpg', '71.jpg', '72.jpg', '73.jpg', '74.jpg', '75.jpg', '76.jpg', '77.jpg', '78.jpg', '79.jpg', '80.jpg', '81.jpg', '82.jpg', '83.jpg', '84.jpg', '85.jpg', '86.jpg', '87.jpg', '88.jpg', '89.jpg', '90.jpg', '91.jpg', '92.jpg', '93.jpg', '94.jpg', '95.jpg', '96.jpg', '97.jpg', '98.jpg', '99.jpg', '100.jpg', '101.jpg', '102.jpg', '103.jpg', '104.jpg', '105.jpg', '106.jpg', '107.jpg', '108.jpg', '109.jpg', '110.jpg', '111.jpg', '112.jpg', '113.jpg', '114.jpg', '115.jpg', '116.jpg', '117.jpg', '118.jpg', '119.jpg', '120.jpg', '121.jpg', '122.jpg', '123.jpg', '124.jpg', '125.jpg', '126.jpg', '127.jpg', '128.jpg', '129.jpg', '130.jpg', '131.jpg', '132.jpg', '133.jpg', '134.jpg', '135.jpg', '136.jpg', '137.jpg', '138.jpg', '139.jpg', '140.jpg', '141.jpg', '142.jpg', '143.jpg', '144.jpg', '145.jpg', '146.jpg', '147.jpg', '148.jpg', '149.jpg', '150.jpg', '151.jpg', '152.jpg', '153.jpg', '154.jpg', '155.jpg', '156.jpg', '157.jpg', '158.jpg', '159.jpg', '160.jpg', '161.jpg', '162.jpg', '163.jpg', '164.jpg', '165.jpg', '166.jpg', '167.jpg', '168.jpg', '169.jpg', '170.jpg', '171.jpg', '172.jpg', '173.jpg', '174.jpg', '175.jpg', '176.jpg', '177.jpg', '178.jpg', '179.jpg', '180.jpg', '181.jpg', '182.jpg', '183.jpg', '184.jpg', '185.jpg', '186.jpg', '187.jpg', '188.jpg', '189.jpg', '190.jpg', '191.jpg', '192.jpg', '193.jpg', '194.jpg', '195.jpg', '196.jpg', '197.jpg', '198.jpg', '199.jpg', '200.jpg', '201.jpg', '202.jpg', '203.jpg', '204.jpg', '205.jpg', '206.jpg', '207.jpg', '208.jpg', '209.jpg', '210.jpg', '211.jpg', '212.jpg', '213.jpg', '214.jpg', '215.jpg', '216.jpg', '217.jpg', '218.jpg', '219.jpg', '220.jpg', '221.jpg', '222.jpg', '223.jpg', '224.jpg', '225.jpg', '226.jpg', '227.jpg', '228.jpg', '229.jpg', '230.jpg', '231.jpg', '232.jpg', '233.jpg', '234.jpg', '235.jpg', '236.jpg', '237.jpg', '238.jpg', '239.jpg', '240.jpg', '241.jpg', '242.jpg', '243.jpg', '244.jpg', '245.jpg', '246.jpg', '247.jpg', '248.jpg', '249.jpg', '250.jpg', '251.jpg', '252.jpg', '253.jpg', '254.jpg', '255.jpg', '256.jpg', '257.jpg', '258.jpg', '259.jpg', '260.jpg', '261.jpg', '262.jpg', '263.jpg', '264.jpg', '265.jpg', '266.jpg', '267.jpg', '268.jpg', '269.jpg', '270.jpg', '271.jpg', '272.jpg', '273.jpg', '274.jpg', '275.jpg', '276.jpg', '277.jpg', '278.jpg', '279.jpg', '280.jpg', '281.jpg', '282.jpg', '283.jpg', '284.jpg', '285.jpg', '286.jpg', '287.jpg', '288.jpg', '289.jpg', '290.jpg', '291.jpg', '292.jpg', '293.jpg', '294.jpg', '295.jpg', '296.jpg', '297.jpg', '298.jpg', '299.jpg', '300.jpg', '301.jpg', '302.jpg', '303.jpg', '304.jpg', '305.jpg', '306.jpg', '307.jpg', '308.jpg', '309.jpg', '310.jpg', '311.jpg', '312.jpg', '313.jpg', '314.jpg', '315.jpg', '316.jpg', '317.jpg', '318.jpg', '319.jpg', '320.jpg', '321.jpg', '322.jpg', '323.jpg', '324.jpg', '325.jpg', '326.jpg', '327.jpg', '328.jpg', '329.jpg', '330.jpg', '331.jpg', '332.jpg', '333.jpg', '334.jpg', '335.jpg', '336.jpg', '337.jpg', '338.jpg', '339.jpg', '340.jpg', '341.jpg', '342.jpg', '343.jpg', '344.jpg', '345.jpg', '346.jpg', '347.jpg', '348.jpg', '349.jpg', '350.jpg', '351.jpg', '352.jpg', '353.jpg', '354.jpg', '355.jpg', '356.jpg', '357.jpg', '358.jpg', '359.jpg', '360.jpg', '361.jpg', '362.jpg', '363.jpg', '364.jpg', '365.jpg', '366.jpg', '367.jpg', '368.jpg', '369.jpg', '370.jpg', '371.jpg', '372.jpg', '373.jpg', '374.jpg', '375.jpg', '376.jpg', '377.jpg', '378.jpg', '379.jpg', '380.jpg', '381.jpg', '382.jpg', '383.jpg', '384.jpg', '385.jpg', '386.jpg', '387.jpg', '388.jpg']\n"
          ]
        }
      ],
      "source": [
        "sorted_list = sorted(image_files, key=lambda x: int(''.join(filter(str.isdigit, x))))\n",
        "print(sorted_list)"
      ]
    },
    {
      "cell_type": "code",
      "execution_count": 17,
      "metadata": {
        "colab": {
          "base_uri": "https://localhost:8080/"
        },
        "id": "JUmxcUN-fYjR",
        "outputId": "9c7bd3a0-84a0-413a-ca74-35387126d912"
      },
      "outputs": [
        {
          "name": "stdout",
          "output_type": "stream",
          "text": [
            "1/1 [==============================] - 3s 3s/step\n"
          ]
        },
        {
          "name": "stderr",
          "output_type": "stream",
          "text": [
            "<ipython-input-17-36c1590347a7>:35: FutureWarning: The frame.append method is deprecated and will be removed from pandas in a future version. Use pandas.concat instead.\n",
            "  df1 = df1.append({'Id': file, 'Category': predicted_class}, ignore_index=True)\n"
          ]
        },
        {
          "name": "stdout",
          "output_type": "stream",
          "text": [
            "Image: 0.jpg - Predicted Class: 5\n",
            "1/1 [==============================] - 0s 43ms/step\n",
            "Image: 1.jpg - Predicted Class: 0\n"
          ]
        },
        {
          "name": "stderr",
          "output_type": "stream",
          "text": [
            "<ipython-input-17-36c1590347a7>:35: FutureWarning: The frame.append method is deprecated and will be removed from pandas in a future version. Use pandas.concat instead.\n",
            "  df1 = df1.append({'Id': file, 'Category': predicted_class}, ignore_index=True)\n"
          ]
        },
        {
          "name": "stdout",
          "output_type": "stream",
          "text": [
            "1/1 [==============================] - 0s 34ms/step\n",
            "Image: 2.jpg - Predicted Class: 5\n"
          ]
        },
        {
          "name": "stderr",
          "output_type": "stream",
          "text": [
            "<ipython-input-17-36c1590347a7>:35: FutureWarning: The frame.append method is deprecated and will be removed from pandas in a future version. Use pandas.concat instead.\n",
            "  df1 = df1.append({'Id': file, 'Category': predicted_class}, ignore_index=True)\n"
          ]
        },
        {
          "name": "stdout",
          "output_type": "stream",
          "text": [
            "1/1 [==============================] - 0s 77ms/step\n",
            "Image: 3.jpg - Predicted Class: 5\n"
          ]
        },
        {
          "name": "stderr",
          "output_type": "stream",
          "text": [
            "<ipython-input-17-36c1590347a7>:35: FutureWarning: The frame.append method is deprecated and will be removed from pandas in a future version. Use pandas.concat instead.\n",
            "  df1 = df1.append({'Id': file, 'Category': predicted_class}, ignore_index=True)\n"
          ]
        },
        {
          "name": "stdout",
          "output_type": "stream",
          "text": [
            "1/1 [==============================] - 0s 49ms/step\n",
            "Image: 4.jpg - Predicted Class: 3\n",
            "1/1 [==============================] - 0s 54ms/step\n"
          ]
        },
        {
          "name": "stderr",
          "output_type": "stream",
          "text": [
            "<ipython-input-17-36c1590347a7>:35: FutureWarning: The frame.append method is deprecated and will be removed from pandas in a future version. Use pandas.concat instead.\n",
            "  df1 = df1.append({'Id': file, 'Category': predicted_class}, ignore_index=True)\n",
            "<ipython-input-17-36c1590347a7>:35: FutureWarning: The frame.append method is deprecated and will be removed from pandas in a future version. Use pandas.concat instead.\n",
            "  df1 = df1.append({'Id': file, 'Category': predicted_class}, ignore_index=True)\n"
          ]
        },
        {
          "name": "stdout",
          "output_type": "stream",
          "text": [
            "Image: 5.jpg - Predicted Class: 5\n",
            "1/1 [==============================] - 0s 47ms/step\n",
            "Image: 6.jpg - Predicted Class: 0\n",
            "1/1 [==============================] - 0s 47ms/step\n",
            "Image: 7.jpg - Predicted Class: 5\n"
          ]
        },
        {
          "name": "stderr",
          "output_type": "stream",
          "text": [
            "<ipython-input-17-36c1590347a7>:35: FutureWarning: The frame.append method is deprecated and will be removed from pandas in a future version. Use pandas.concat instead.\n",
            "  df1 = df1.append({'Id': file, 'Category': predicted_class}, ignore_index=True)\n",
            "<ipython-input-17-36c1590347a7>:35: FutureWarning: The frame.append method is deprecated and will be removed from pandas in a future version. Use pandas.concat instead.\n",
            "  df1 = df1.append({'Id': file, 'Category': predicted_class}, ignore_index=True)\n"
          ]
        },
        {
          "name": "stdout",
          "output_type": "stream",
          "text": [
            "1/1 [==============================] - 0s 49ms/step\n",
            "Image: 8.jpg - Predicted Class: 3\n",
            "1/1 [==============================] - 0s 53ms/step\n",
            "Image: 9.jpg - Predicted Class: 1\n"
          ]
        },
        {
          "name": "stderr",
          "output_type": "stream",
          "text": [
            "<ipython-input-17-36c1590347a7>:35: FutureWarning: The frame.append method is deprecated and will be removed from pandas in a future version. Use pandas.concat instead.\n",
            "  df1 = df1.append({'Id': file, 'Category': predicted_class}, ignore_index=True)\n",
            "<ipython-input-17-36c1590347a7>:35: FutureWarning: The frame.append method is deprecated and will be removed from pandas in a future version. Use pandas.concat instead.\n",
            "  df1 = df1.append({'Id': file, 'Category': predicted_class}, ignore_index=True)\n"
          ]
        },
        {
          "name": "stdout",
          "output_type": "stream",
          "text": [
            "1/1 [==============================] - 0s 47ms/step\n",
            "Image: 10.jpg - Predicted Class: 5\n",
            "1/1 [==============================] - 0s 50ms/step\n",
            "Image: 11.jpg - Predicted Class: 0\n"
          ]
        },
        {
          "name": "stderr",
          "output_type": "stream",
          "text": [
            "<ipython-input-17-36c1590347a7>:35: FutureWarning: The frame.append method is deprecated and will be removed from pandas in a future version. Use pandas.concat instead.\n",
            "  df1 = df1.append({'Id': file, 'Category': predicted_class}, ignore_index=True)\n",
            "<ipython-input-17-36c1590347a7>:35: FutureWarning: The frame.append method is deprecated and will be removed from pandas in a future version. Use pandas.concat instead.\n",
            "  df1 = df1.append({'Id': file, 'Category': predicted_class}, ignore_index=True)\n"
          ]
        },
        {
          "name": "stdout",
          "output_type": "stream",
          "text": [
            "1/1 [==============================] - 0s 57ms/step\n",
            "Image: 12.jpg - Predicted Class: 0\n",
            "1/1 [==============================] - 0s 32ms/step\n"
          ]
        },
        {
          "name": "stderr",
          "output_type": "stream",
          "text": [
            "<ipython-input-17-36c1590347a7>:35: FutureWarning: The frame.append method is deprecated and will be removed from pandas in a future version. Use pandas.concat instead.\n",
            "  df1 = df1.append({'Id': file, 'Category': predicted_class}, ignore_index=True)\n"
          ]
        },
        {
          "name": "stdout",
          "output_type": "stream",
          "text": [
            "Image: 13.jpg - Predicted Class: 5\n",
            "1/1 [==============================] - 0s 32ms/step\n",
            "Image: 14.jpg - Predicted Class: 3\n",
            "1/1 [==============================] - 0s 38ms/step\n"
          ]
        },
        {
          "name": "stderr",
          "output_type": "stream",
          "text": [
            "<ipython-input-17-36c1590347a7>:35: FutureWarning: The frame.append method is deprecated and will be removed from pandas in a future version. Use pandas.concat instead.\n",
            "  df1 = df1.append({'Id': file, 'Category': predicted_class}, ignore_index=True)\n",
            "<ipython-input-17-36c1590347a7>:35: FutureWarning: The frame.append method is deprecated and will be removed from pandas in a future version. Use pandas.concat instead.\n",
            "  df1 = df1.append({'Id': file, 'Category': predicted_class}, ignore_index=True)\n"
          ]
        },
        {
          "name": "stdout",
          "output_type": "stream",
          "text": [
            "Image: 15.jpg - Predicted Class: 2\n",
            "1/1 [==============================] - 0s 34ms/step\n",
            "Image: 16.jpg - Predicted Class: 2\n"
          ]
        },
        {
          "name": "stderr",
          "output_type": "stream",
          "text": [
            "<ipython-input-17-36c1590347a7>:35: FutureWarning: The frame.append method is deprecated and will be removed from pandas in a future version. Use pandas.concat instead.\n",
            "  df1 = df1.append({'Id': file, 'Category': predicted_class}, ignore_index=True)\n",
            "<ipython-input-17-36c1590347a7>:35: FutureWarning: The frame.append method is deprecated and will be removed from pandas in a future version. Use pandas.concat instead.\n",
            "  df1 = df1.append({'Id': file, 'Category': predicted_class}, ignore_index=True)\n"
          ]
        },
        {
          "name": "stdout",
          "output_type": "stream",
          "text": [
            "1/1 [==============================] - 0s 32ms/step\n",
            "Image: 17.jpg - Predicted Class: 3\n",
            "1/1 [==============================] - 0s 49ms/step\n"
          ]
        },
        {
          "name": "stderr",
          "output_type": "stream",
          "text": [
            "<ipython-input-17-36c1590347a7>:35: FutureWarning: The frame.append method is deprecated and will be removed from pandas in a future version. Use pandas.concat instead.\n",
            "  df1 = df1.append({'Id': file, 'Category': predicted_class}, ignore_index=True)\n",
            "<ipython-input-17-36c1590347a7>:35: FutureWarning: The frame.append method is deprecated and will be removed from pandas in a future version. Use pandas.concat instead.\n",
            "  df1 = df1.append({'Id': file, 'Category': predicted_class}, ignore_index=True)\n"
          ]
        },
        {
          "name": "stdout",
          "output_type": "stream",
          "text": [
            "Image: 18.jpg - Predicted Class: 3\n",
            "1/1 [==============================] - 0s 31ms/step\n",
            "Image: 19.jpg - Predicted Class: 2\n",
            "1/1 [==============================] - 0s 33ms/step\n",
            "Image: 20.jpg - Predicted Class: 5\n",
            "1/1 [==============================] - 0s 30ms/step\n"
          ]
        },
        {
          "name": "stderr",
          "output_type": "stream",
          "text": [
            "<ipython-input-17-36c1590347a7>:35: FutureWarning: The frame.append method is deprecated and will be removed from pandas in a future version. Use pandas.concat instead.\n",
            "  df1 = df1.append({'Id': file, 'Category': predicted_class}, ignore_index=True)\n",
            "<ipython-input-17-36c1590347a7>:35: FutureWarning: The frame.append method is deprecated and will be removed from pandas in a future version. Use pandas.concat instead.\n",
            "  df1 = df1.append({'Id': file, 'Category': predicted_class}, ignore_index=True)\n",
            "<ipython-input-17-36c1590347a7>:35: FutureWarning: The frame.append method is deprecated and will be removed from pandas in a future version. Use pandas.concat instead.\n",
            "  df1 = df1.append({'Id': file, 'Category': predicted_class}, ignore_index=True)\n"
          ]
        },
        {
          "name": "stdout",
          "output_type": "stream",
          "text": [
            "Image: 21.jpg - Predicted Class: 1\n",
            "1/1 [==============================] - 0s 31ms/step\n",
            "Image: 22.jpg - Predicted Class: 2\n",
            "1/1 [==============================] - 0s 39ms/step\n",
            "Image: 23.jpg - Predicted Class: 0\n",
            "1/1 [==============================] - 0s 32ms/step\n"
          ]
        },
        {
          "name": "stderr",
          "output_type": "stream",
          "text": [
            "<ipython-input-17-36c1590347a7>:35: FutureWarning: The frame.append method is deprecated and will be removed from pandas in a future version. Use pandas.concat instead.\n",
            "  df1 = df1.append({'Id': file, 'Category': predicted_class}, ignore_index=True)\n",
            "<ipython-input-17-36c1590347a7>:35: FutureWarning: The frame.append method is deprecated and will be removed from pandas in a future version. Use pandas.concat instead.\n",
            "  df1 = df1.append({'Id': file, 'Category': predicted_class}, ignore_index=True)\n",
            "<ipython-input-17-36c1590347a7>:35: FutureWarning: The frame.append method is deprecated and will be removed from pandas in a future version. Use pandas.concat instead.\n",
            "  df1 = df1.append({'Id': file, 'Category': predicted_class}, ignore_index=True)\n"
          ]
        },
        {
          "name": "stdout",
          "output_type": "stream",
          "text": [
            "Image: 24.jpg - Predicted Class: 1\n",
            "1/1 [==============================] - 0s 30ms/step\n",
            "Image: 25.jpg - Predicted Class: 5\n",
            "1/1 [==============================] - 0s 34ms/step\n",
            "Image: 26.jpg - Predicted Class: 0\n"
          ]
        },
        {
          "name": "stderr",
          "output_type": "stream",
          "text": [
            "<ipython-input-17-36c1590347a7>:35: FutureWarning: The frame.append method is deprecated and will be removed from pandas in a future version. Use pandas.concat instead.\n",
            "  df1 = df1.append({'Id': file, 'Category': predicted_class}, ignore_index=True)\n",
            "<ipython-input-17-36c1590347a7>:35: FutureWarning: The frame.append method is deprecated and will be removed from pandas in a future version. Use pandas.concat instead.\n",
            "  df1 = df1.append({'Id': file, 'Category': predicted_class}, ignore_index=True)\n"
          ]
        },
        {
          "name": "stdout",
          "output_type": "stream",
          "text": [
            "1/1 [==============================] - 0s 31ms/step\n",
            "Image: 27.jpg - Predicted Class: 3\n",
            "1/1 [==============================] - 0s 32ms/step\n",
            "Image: 28.jpg - Predicted Class: 5\n"
          ]
        },
        {
          "name": "stderr",
          "output_type": "stream",
          "text": [
            "<ipython-input-17-36c1590347a7>:35: FutureWarning: The frame.append method is deprecated and will be removed from pandas in a future version. Use pandas.concat instead.\n",
            "  df1 = df1.append({'Id': file, 'Category': predicted_class}, ignore_index=True)\n",
            "<ipython-input-17-36c1590347a7>:35: FutureWarning: The frame.append method is deprecated and will be removed from pandas in a future version. Use pandas.concat instead.\n",
            "  df1 = df1.append({'Id': file, 'Category': predicted_class}, ignore_index=True)\n"
          ]
        },
        {
          "name": "stdout",
          "output_type": "stream",
          "text": [
            "1/1 [==============================] - 0s 33ms/step\n",
            "Image: 29.jpg - Predicted Class: 2\n",
            "1/1 [==============================] - 0s 31ms/step\n",
            "Image: 30.jpg - Predicted Class: 5\n"
          ]
        },
        {
          "name": "stderr",
          "output_type": "stream",
          "text": [
            "<ipython-input-17-36c1590347a7>:35: FutureWarning: The frame.append method is deprecated and will be removed from pandas in a future version. Use pandas.concat instead.\n",
            "  df1 = df1.append({'Id': file, 'Category': predicted_class}, ignore_index=True)\n",
            "<ipython-input-17-36c1590347a7>:35: FutureWarning: The frame.append method is deprecated and will be removed from pandas in a future version. Use pandas.concat instead.\n",
            "  df1 = df1.append({'Id': file, 'Category': predicted_class}, ignore_index=True)\n"
          ]
        },
        {
          "name": "stdout",
          "output_type": "stream",
          "text": [
            "1/1 [==============================] - 0s 38ms/step\n",
            "Image: 31.jpg - Predicted Class: 5\n",
            "1/1 [==============================] - 0s 32ms/step\n",
            "Image: 32.jpg - Predicted Class: 3\n",
            "1/1 [==============================] - 0s 33ms/step\n"
          ]
        },
        {
          "name": "stderr",
          "output_type": "stream",
          "text": [
            "<ipython-input-17-36c1590347a7>:35: FutureWarning: The frame.append method is deprecated and will be removed from pandas in a future version. Use pandas.concat instead.\n",
            "  df1 = df1.append({'Id': file, 'Category': predicted_class}, ignore_index=True)\n",
            "<ipython-input-17-36c1590347a7>:35: FutureWarning: The frame.append method is deprecated and will be removed from pandas in a future version. Use pandas.concat instead.\n",
            "  df1 = df1.append({'Id': file, 'Category': predicted_class}, ignore_index=True)\n"
          ]
        },
        {
          "name": "stdout",
          "output_type": "stream",
          "text": [
            "Image: 33.jpg - Predicted Class: 5\n",
            "1/1 [==============================] - 0s 34ms/step\n",
            "Image: 34.jpg - Predicted Class: 1\n",
            "1/1 [==============================] - 0s 31ms/step\n"
          ]
        },
        {
          "name": "stderr",
          "output_type": "stream",
          "text": [
            "<ipython-input-17-36c1590347a7>:35: FutureWarning: The frame.append method is deprecated and will be removed from pandas in a future version. Use pandas.concat instead.\n",
            "  df1 = df1.append({'Id': file, 'Category': predicted_class}, ignore_index=True)\n",
            "<ipython-input-17-36c1590347a7>:35: FutureWarning: The frame.append method is deprecated and will be removed from pandas in a future version. Use pandas.concat instead.\n",
            "  df1 = df1.append({'Id': file, 'Category': predicted_class}, ignore_index=True)\n"
          ]
        },
        {
          "name": "stdout",
          "output_type": "stream",
          "text": [
            "Image: 35.jpg - Predicted Class: 3\n",
            "1/1 [==============================] - 0s 32ms/step\n",
            "Image: 36.jpg - Predicted Class: 1\n"
          ]
        },
        {
          "name": "stderr",
          "output_type": "stream",
          "text": [
            "<ipython-input-17-36c1590347a7>:35: FutureWarning: The frame.append method is deprecated and will be removed from pandas in a future version. Use pandas.concat instead.\n",
            "  df1 = df1.append({'Id': file, 'Category': predicted_class}, ignore_index=True)\n",
            "<ipython-input-17-36c1590347a7>:35: FutureWarning: The frame.append method is deprecated and will be removed from pandas in a future version. Use pandas.concat instead.\n",
            "  df1 = df1.append({'Id': file, 'Category': predicted_class}, ignore_index=True)\n"
          ]
        },
        {
          "name": "stdout",
          "output_type": "stream",
          "text": [
            "1/1 [==============================] - 0s 31ms/step\n",
            "Image: 37.jpg - Predicted Class: 3\n",
            "1/1 [==============================] - 0s 29ms/step\n",
            "Image: 38.jpg - Predicted Class: 5\n"
          ]
        },
        {
          "name": "stderr",
          "output_type": "stream",
          "text": [
            "<ipython-input-17-36c1590347a7>:35: FutureWarning: The frame.append method is deprecated and will be removed from pandas in a future version. Use pandas.concat instead.\n",
            "  df1 = df1.append({'Id': file, 'Category': predicted_class}, ignore_index=True)\n",
            "<ipython-input-17-36c1590347a7>:35: FutureWarning: The frame.append method is deprecated and will be removed from pandas in a future version. Use pandas.concat instead.\n",
            "  df1 = df1.append({'Id': file, 'Category': predicted_class}, ignore_index=True)\n"
          ]
        },
        {
          "name": "stdout",
          "output_type": "stream",
          "text": [
            "1/1 [==============================] - 0s 43ms/step\n",
            "Image: 39.jpg - Predicted Class: 0\n",
            "1/1 [==============================] - 0s 30ms/step\n",
            "Image: 40.jpg - Predicted Class: 0\n"
          ]
        },
        {
          "name": "stderr",
          "output_type": "stream",
          "text": [
            "<ipython-input-17-36c1590347a7>:35: FutureWarning: The frame.append method is deprecated and will be removed from pandas in a future version. Use pandas.concat instead.\n",
            "  df1 = df1.append({'Id': file, 'Category': predicted_class}, ignore_index=True)\n",
            "<ipython-input-17-36c1590347a7>:35: FutureWarning: The frame.append method is deprecated and will be removed from pandas in a future version. Use pandas.concat instead.\n",
            "  df1 = df1.append({'Id': file, 'Category': predicted_class}, ignore_index=True)\n"
          ]
        },
        {
          "name": "stdout",
          "output_type": "stream",
          "text": [
            "1/1 [==============================] - 0s 34ms/step\n",
            "Image: 41.jpg - Predicted Class: 0\n",
            "1/1 [==============================] - 0s 33ms/step\n",
            "Image: 42.jpg - Predicted Class: 2\n"
          ]
        },
        {
          "name": "stderr",
          "output_type": "stream",
          "text": [
            "<ipython-input-17-36c1590347a7>:35: FutureWarning: The frame.append method is deprecated and will be removed from pandas in a future version. Use pandas.concat instead.\n",
            "  df1 = df1.append({'Id': file, 'Category': predicted_class}, ignore_index=True)\n",
            "<ipython-input-17-36c1590347a7>:35: FutureWarning: The frame.append method is deprecated and will be removed from pandas in a future version. Use pandas.concat instead.\n",
            "  df1 = df1.append({'Id': file, 'Category': predicted_class}, ignore_index=True)\n"
          ]
        },
        {
          "name": "stdout",
          "output_type": "stream",
          "text": [
            "1/1 [==============================] - 0s 34ms/step\n",
            "Image: 43.jpg - Predicted Class: 0\n",
            "1/1 [==============================] - 0s 30ms/step\n",
            "Image: 44.jpg - Predicted Class: 5\n",
            "1/1 [==============================] - 0s 32ms/step\n"
          ]
        },
        {
          "name": "stderr",
          "output_type": "stream",
          "text": [
            "<ipython-input-17-36c1590347a7>:35: FutureWarning: The frame.append method is deprecated and will be removed from pandas in a future version. Use pandas.concat instead.\n",
            "  df1 = df1.append({'Id': file, 'Category': predicted_class}, ignore_index=True)\n",
            "<ipython-input-17-36c1590347a7>:35: FutureWarning: The frame.append method is deprecated and will be removed from pandas in a future version. Use pandas.concat instead.\n",
            "  df1 = df1.append({'Id': file, 'Category': predicted_class}, ignore_index=True)\n",
            "<ipython-input-17-36c1590347a7>:35: FutureWarning: The frame.append method is deprecated and will be removed from pandas in a future version. Use pandas.concat instead.\n",
            "  df1 = df1.append({'Id': file, 'Category': predicted_class}, ignore_index=True)\n"
          ]
        },
        {
          "name": "stdout",
          "output_type": "stream",
          "text": [
            "Image: 45.jpg - Predicted Class: 0\n",
            "1/1 [==============================] - 0s 32ms/step\n",
            "Image: 46.jpg - Predicted Class: 0\n",
            "1/1 [==============================] - 0s 33ms/step\n",
            "Image: 47.jpg - Predicted Class: 3\n",
            "1/1 [==============================] - ETA: 0s"
          ]
        },
        {
          "name": "stderr",
          "output_type": "stream",
          "text": [
            "<ipython-input-17-36c1590347a7>:35: FutureWarning: The frame.append method is deprecated and will be removed from pandas in a future version. Use pandas.concat instead.\n",
            "  df1 = df1.append({'Id': file, 'Category': predicted_class}, ignore_index=True)\n",
            "<ipython-input-17-36c1590347a7>:35: FutureWarning: The frame.append method is deprecated and will be removed from pandas in a future version. Use pandas.concat instead.\n",
            "  df1 = df1.append({'Id': file, 'Category': predicted_class}, ignore_index=True)\n"
          ]
        },
        {
          "name": "stdout",
          "output_type": "stream",
          "text": [
            "\b\b\b\b\b\b\b\b\b\b\b\b\b\b\b\b\b\b\b\b\b\b\b\b\b\b\b\b\b\b\b\b\b\b\b\b\b\b\b\b\b\b\b\b\b\b\r1/1 [==============================] - 0s 37ms/step\n",
            "Image: 48.jpg - Predicted Class: 1\n",
            "1/1 [==============================] - 0s 32ms/step\n",
            "Image: 49.jpg - Predicted Class: 0\n",
            "1/1 [==============================] - 0s 41ms/step\n"
          ]
        },
        {
          "name": "stderr",
          "output_type": "stream",
          "text": [
            "<ipython-input-17-36c1590347a7>:35: FutureWarning: The frame.append method is deprecated and will be removed from pandas in a future version. Use pandas.concat instead.\n",
            "  df1 = df1.append({'Id': file, 'Category': predicted_class}, ignore_index=True)\n",
            "<ipython-input-17-36c1590347a7>:35: FutureWarning: The frame.append method is deprecated and will be removed from pandas in a future version. Use pandas.concat instead.\n",
            "  df1 = df1.append({'Id': file, 'Category': predicted_class}, ignore_index=True)\n"
          ]
        },
        {
          "name": "stdout",
          "output_type": "stream",
          "text": [
            "Image: 50.jpg - Predicted Class: 3\n",
            "1/1 [==============================] - 0s 35ms/step\n"
          ]
        },
        {
          "name": "stderr",
          "output_type": "stream",
          "text": [
            "<ipython-input-17-36c1590347a7>:35: FutureWarning: The frame.append method is deprecated and will be removed from pandas in a future version. Use pandas.concat instead.\n",
            "  df1 = df1.append({'Id': file, 'Category': predicted_class}, ignore_index=True)\n",
            "<ipython-input-17-36c1590347a7>:35: FutureWarning: The frame.append method is deprecated and will be removed from pandas in a future version. Use pandas.concat instead.\n",
            "  df1 = df1.append({'Id': file, 'Category': predicted_class}, ignore_index=True)\n"
          ]
        },
        {
          "name": "stdout",
          "output_type": "stream",
          "text": [
            "Image: 51.jpg - Predicted Class: 3\n",
            "1/1 [==============================] - 0s 30ms/step\n",
            "Image: 52.jpg - Predicted Class: 1\n",
            "1/1 [==============================] - 0s 33ms/step\n",
            "Image: 53.jpg - Predicted Class: 5\n",
            "1/1 [==============================] - 0s 30ms/step\n"
          ]
        },
        {
          "name": "stderr",
          "output_type": "stream",
          "text": [
            "<ipython-input-17-36c1590347a7>:35: FutureWarning: The frame.append method is deprecated and will be removed from pandas in a future version. Use pandas.concat instead.\n",
            "  df1 = df1.append({'Id': file, 'Category': predicted_class}, ignore_index=True)\n",
            "<ipython-input-17-36c1590347a7>:35: FutureWarning: The frame.append method is deprecated and will be removed from pandas in a future version. Use pandas.concat instead.\n",
            "  df1 = df1.append({'Id': file, 'Category': predicted_class}, ignore_index=True)\n"
          ]
        },
        {
          "name": "stdout",
          "output_type": "stream",
          "text": [
            "Image: 54.jpg - Predicted Class: 5\n",
            "1/1 [==============================] - 0s 31ms/step\n"
          ]
        },
        {
          "name": "stderr",
          "output_type": "stream",
          "text": [
            "<ipython-input-17-36c1590347a7>:35: FutureWarning: The frame.append method is deprecated and will be removed from pandas in a future version. Use pandas.concat instead.\n",
            "  df1 = df1.append({'Id': file, 'Category': predicted_class}, ignore_index=True)\n",
            "<ipython-input-17-36c1590347a7>:35: FutureWarning: The frame.append method is deprecated and will be removed from pandas in a future version. Use pandas.concat instead.\n",
            "  df1 = df1.append({'Id': file, 'Category': predicted_class}, ignore_index=True)\n"
          ]
        },
        {
          "name": "stdout",
          "output_type": "stream",
          "text": [
            "Image: 55.jpg - Predicted Class: 1\n",
            "1/1 [==============================] - 0s 31ms/step\n",
            "Image: 56.jpg - Predicted Class: 0\n",
            "1/1 [==============================] - 0s 31ms/step\n",
            "Image: 57.jpg - Predicted Class: 1\n",
            "1/1 [==============================] - 0s 37ms/step\n"
          ]
        },
        {
          "name": "stderr",
          "output_type": "stream",
          "text": [
            "<ipython-input-17-36c1590347a7>:35: FutureWarning: The frame.append method is deprecated and will be removed from pandas in a future version. Use pandas.concat instead.\n",
            "  df1 = df1.append({'Id': file, 'Category': predicted_class}, ignore_index=True)\n",
            "<ipython-input-17-36c1590347a7>:35: FutureWarning: The frame.append method is deprecated and will be removed from pandas in a future version. Use pandas.concat instead.\n",
            "  df1 = df1.append({'Id': file, 'Category': predicted_class}, ignore_index=True)\n",
            "<ipython-input-17-36c1590347a7>:35: FutureWarning: The frame.append method is deprecated and will be removed from pandas in a future version. Use pandas.concat instead.\n",
            "  df1 = df1.append({'Id': file, 'Category': predicted_class}, ignore_index=True)\n"
          ]
        },
        {
          "name": "stdout",
          "output_type": "stream",
          "text": [
            "Image: 58.jpg - Predicted Class: 3\n",
            "1/1 [==============================] - 0s 33ms/step\n",
            "Image: 59.jpg - Predicted Class: 1\n",
            "1/1 [==============================] - 0s 31ms/step\n",
            "Image: 60.jpg - Predicted Class: 5\n"
          ]
        },
        {
          "name": "stderr",
          "output_type": "stream",
          "text": [
            "<ipython-input-17-36c1590347a7>:35: FutureWarning: The frame.append method is deprecated and will be removed from pandas in a future version. Use pandas.concat instead.\n",
            "  df1 = df1.append({'Id': file, 'Category': predicted_class}, ignore_index=True)\n",
            "<ipython-input-17-36c1590347a7>:35: FutureWarning: The frame.append method is deprecated and will be removed from pandas in a future version. Use pandas.concat instead.\n",
            "  df1 = df1.append({'Id': file, 'Category': predicted_class}, ignore_index=True)\n"
          ]
        },
        {
          "name": "stdout",
          "output_type": "stream",
          "text": [
            "1/1 [==============================] - 0s 30ms/step\n",
            "Image: 61.jpg - Predicted Class: 3\n",
            "1/1 [==============================] - 0s 32ms/step\n",
            "Image: 62.jpg - Predicted Class: 5\n"
          ]
        },
        {
          "name": "stderr",
          "output_type": "stream",
          "text": [
            "<ipython-input-17-36c1590347a7>:35: FutureWarning: The frame.append method is deprecated and will be removed from pandas in a future version. Use pandas.concat instead.\n",
            "  df1 = df1.append({'Id': file, 'Category': predicted_class}, ignore_index=True)\n",
            "<ipython-input-17-36c1590347a7>:35: FutureWarning: The frame.append method is deprecated and will be removed from pandas in a future version. Use pandas.concat instead.\n",
            "  df1 = df1.append({'Id': file, 'Category': predicted_class}, ignore_index=True)\n"
          ]
        },
        {
          "name": "stdout",
          "output_type": "stream",
          "text": [
            "1/1 [==============================] - 0s 30ms/step\n",
            "Image: 63.jpg - Predicted Class: 1\n",
            "1/1 [==============================] - 0s 31ms/step\n",
            "Image: 64.jpg - Predicted Class: 3\n"
          ]
        },
        {
          "name": "stderr",
          "output_type": "stream",
          "text": [
            "<ipython-input-17-36c1590347a7>:35: FutureWarning: The frame.append method is deprecated and will be removed from pandas in a future version. Use pandas.concat instead.\n",
            "  df1 = df1.append({'Id': file, 'Category': predicted_class}, ignore_index=True)\n",
            "<ipython-input-17-36c1590347a7>:35: FutureWarning: The frame.append method is deprecated and will be removed from pandas in a future version. Use pandas.concat instead.\n",
            "  df1 = df1.append({'Id': file, 'Category': predicted_class}, ignore_index=True)\n"
          ]
        },
        {
          "name": "stdout",
          "output_type": "stream",
          "text": [
            "1/1 [==============================] - 0s 34ms/step\n",
            "Image: 65.jpg - Predicted Class: 3\n",
            "1/1 [==============================] - 0s 32ms/step\n",
            "Image: 66.jpg - Predicted Class: 3\n",
            "1/1 [==============================] - 0s 33ms/step\n"
          ]
        },
        {
          "name": "stderr",
          "output_type": "stream",
          "text": [
            "<ipython-input-17-36c1590347a7>:35: FutureWarning: The frame.append method is deprecated and will be removed from pandas in a future version. Use pandas.concat instead.\n",
            "  df1 = df1.append({'Id': file, 'Category': predicted_class}, ignore_index=True)\n",
            "<ipython-input-17-36c1590347a7>:35: FutureWarning: The frame.append method is deprecated and will be removed from pandas in a future version. Use pandas.concat instead.\n",
            "  df1 = df1.append({'Id': file, 'Category': predicted_class}, ignore_index=True)\n",
            "<ipython-input-17-36c1590347a7>:35: FutureWarning: The frame.append method is deprecated and will be removed from pandas in a future version. Use pandas.concat instead.\n",
            "  df1 = df1.append({'Id': file, 'Category': predicted_class}, ignore_index=True)\n"
          ]
        },
        {
          "name": "stdout",
          "output_type": "stream",
          "text": [
            "Image: 67.jpg - Predicted Class: 1\n",
            "1/1 [==============================] - 0s 33ms/step\n",
            "Image: 68.jpg - Predicted Class: 3\n",
            "1/1 [==============================] - 0s 30ms/step\n",
            "Image: 69.jpg - Predicted Class: 1\n"
          ]
        },
        {
          "name": "stderr",
          "output_type": "stream",
          "text": [
            "<ipython-input-17-36c1590347a7>:35: FutureWarning: The frame.append method is deprecated and will be removed from pandas in a future version. Use pandas.concat instead.\n",
            "  df1 = df1.append({'Id': file, 'Category': predicted_class}, ignore_index=True)\n",
            "<ipython-input-17-36c1590347a7>:35: FutureWarning: The frame.append method is deprecated and will be removed from pandas in a future version. Use pandas.concat instead.\n",
            "  df1 = df1.append({'Id': file, 'Category': predicted_class}, ignore_index=True)\n"
          ]
        },
        {
          "name": "stdout",
          "output_type": "stream",
          "text": [
            "1/1 [==============================] - 0s 37ms/step\n",
            "Image: 70.jpg - Predicted Class: 5\n",
            "1/1 [==============================] - 0s 31ms/step\n",
            "Image: 71.jpg - Predicted Class: 5\n"
          ]
        },
        {
          "name": "stderr",
          "output_type": "stream",
          "text": [
            "<ipython-input-17-36c1590347a7>:35: FutureWarning: The frame.append method is deprecated and will be removed from pandas in a future version. Use pandas.concat instead.\n",
            "  df1 = df1.append({'Id': file, 'Category': predicted_class}, ignore_index=True)\n",
            "<ipython-input-17-36c1590347a7>:35: FutureWarning: The frame.append method is deprecated and will be removed from pandas in a future version. Use pandas.concat instead.\n",
            "  df1 = df1.append({'Id': file, 'Category': predicted_class}, ignore_index=True)\n"
          ]
        },
        {
          "name": "stdout",
          "output_type": "stream",
          "text": [
            "1/1 [==============================] - 0s 34ms/step\n",
            "Image: 72.jpg - Predicted Class: 0\n",
            "1/1 [==============================] - 0s 31ms/step\n",
            "Image: 73.jpg - Predicted Class: 0\n"
          ]
        },
        {
          "name": "stderr",
          "output_type": "stream",
          "text": [
            "<ipython-input-17-36c1590347a7>:35: FutureWarning: The frame.append method is deprecated and will be removed from pandas in a future version. Use pandas.concat instead.\n",
            "  df1 = df1.append({'Id': file, 'Category': predicted_class}, ignore_index=True)\n",
            "<ipython-input-17-36c1590347a7>:35: FutureWarning: The frame.append method is deprecated and will be removed from pandas in a future version. Use pandas.concat instead.\n",
            "  df1 = df1.append({'Id': file, 'Category': predicted_class}, ignore_index=True)\n"
          ]
        },
        {
          "name": "stdout",
          "output_type": "stream",
          "text": [
            "1/1 [==============================] - 0s 34ms/step\n",
            "Image: 74.jpg - Predicted Class: 5\n",
            "1/1 [==============================] - 0s 31ms/step\n",
            "Image: 75.jpg - Predicted Class: 5\n",
            "1/1 [==============================] - 0s 32ms/step\n"
          ]
        },
        {
          "name": "stderr",
          "output_type": "stream",
          "text": [
            "<ipython-input-17-36c1590347a7>:35: FutureWarning: The frame.append method is deprecated and will be removed from pandas in a future version. Use pandas.concat instead.\n",
            "  df1 = df1.append({'Id': file, 'Category': predicted_class}, ignore_index=True)\n",
            "<ipython-input-17-36c1590347a7>:35: FutureWarning: The frame.append method is deprecated and will be removed from pandas in a future version. Use pandas.concat instead.\n",
            "  df1 = df1.append({'Id': file, 'Category': predicted_class}, ignore_index=True)\n"
          ]
        },
        {
          "name": "stdout",
          "output_type": "stream",
          "text": [
            "Image: 76.jpg - Predicted Class: 1\n",
            "1/1 [==============================] - 0s 30ms/step\n",
            "Image: 77.jpg - Predicted Class: 5\n",
            "1/1 [==============================] - 0s 32ms/step\n"
          ]
        },
        {
          "name": "stderr",
          "output_type": "stream",
          "text": [
            "<ipython-input-17-36c1590347a7>:35: FutureWarning: The frame.append method is deprecated and will be removed from pandas in a future version. Use pandas.concat instead.\n",
            "  df1 = df1.append({'Id': file, 'Category': predicted_class}, ignore_index=True)\n",
            "<ipython-input-17-36c1590347a7>:35: FutureWarning: The frame.append method is deprecated and will be removed from pandas in a future version. Use pandas.concat instead.\n",
            "  df1 = df1.append({'Id': file, 'Category': predicted_class}, ignore_index=True)\n"
          ]
        },
        {
          "name": "stdout",
          "output_type": "stream",
          "text": [
            "Image: 78.jpg - Predicted Class: 1\n",
            "1/1 [==============================] - 0s 47ms/step\n",
            "Image: 79.jpg - Predicted Class: 5\n"
          ]
        },
        {
          "name": "stderr",
          "output_type": "stream",
          "text": [
            "<ipython-input-17-36c1590347a7>:35: FutureWarning: The frame.append method is deprecated and will be removed from pandas in a future version. Use pandas.concat instead.\n",
            "  df1 = df1.append({'Id': file, 'Category': predicted_class}, ignore_index=True)\n",
            "<ipython-input-17-36c1590347a7>:35: FutureWarning: The frame.append method is deprecated and will be removed from pandas in a future version. Use pandas.concat instead.\n",
            "  df1 = df1.append({'Id': file, 'Category': predicted_class}, ignore_index=True)\n"
          ]
        },
        {
          "name": "stdout",
          "output_type": "stream",
          "text": [
            "1/1 [==============================] - 0s 41ms/step\n",
            "Image: 80.jpg - Predicted Class: 5\n",
            "1/1 [==============================] - 0s 33ms/step\n",
            "Image: 81.jpg - Predicted Class: 5\n"
          ]
        },
        {
          "name": "stderr",
          "output_type": "stream",
          "text": [
            "<ipython-input-17-36c1590347a7>:35: FutureWarning: The frame.append method is deprecated and will be removed from pandas in a future version. Use pandas.concat instead.\n",
            "  df1 = df1.append({'Id': file, 'Category': predicted_class}, ignore_index=True)\n",
            "<ipython-input-17-36c1590347a7>:35: FutureWarning: The frame.append method is deprecated and will be removed from pandas in a future version. Use pandas.concat instead.\n",
            "  df1 = df1.append({'Id': file, 'Category': predicted_class}, ignore_index=True)\n"
          ]
        },
        {
          "name": "stdout",
          "output_type": "stream",
          "text": [
            "1/1 [==============================] - 0s 41ms/step\n",
            "Image: 82.jpg - Predicted Class: 3\n",
            "1/1 [==============================] - 0s 30ms/step\n",
            "Image: 83.jpg - Predicted Class: 0\n",
            "1/1 [==============================] - 0s 32ms/step\n"
          ]
        },
        {
          "name": "stderr",
          "output_type": "stream",
          "text": [
            "<ipython-input-17-36c1590347a7>:35: FutureWarning: The frame.append method is deprecated and will be removed from pandas in a future version. Use pandas.concat instead.\n",
            "  df1 = df1.append({'Id': file, 'Category': predicted_class}, ignore_index=True)\n",
            "<ipython-input-17-36c1590347a7>:35: FutureWarning: The frame.append method is deprecated and will be removed from pandas in a future version. Use pandas.concat instead.\n",
            "  df1 = df1.append({'Id': file, 'Category': predicted_class}, ignore_index=True)\n"
          ]
        },
        {
          "name": "stdout",
          "output_type": "stream",
          "text": [
            "Image: 84.jpg - Predicted Class: 5\n",
            "1/1 [==============================] - 0s 32ms/step\n",
            "Image: 85.jpg - Predicted Class: 1\n"
          ]
        },
        {
          "name": "stderr",
          "output_type": "stream",
          "text": [
            "<ipython-input-17-36c1590347a7>:35: FutureWarning: The frame.append method is deprecated and will be removed from pandas in a future version. Use pandas.concat instead.\n",
            "  df1 = df1.append({'Id': file, 'Category': predicted_class}, ignore_index=True)\n",
            "<ipython-input-17-36c1590347a7>:35: FutureWarning: The frame.append method is deprecated and will be removed from pandas in a future version. Use pandas.concat instead.\n",
            "  df1 = df1.append({'Id': file, 'Category': predicted_class}, ignore_index=True)\n"
          ]
        },
        {
          "name": "stdout",
          "output_type": "stream",
          "text": [
            "1/1 [==============================] - 0s 34ms/step\n",
            "Image: 86.jpg - Predicted Class: 0\n",
            "1/1 [==============================] - 0s 38ms/step\n",
            "Image: 87.jpg - Predicted Class: 1\n"
          ]
        },
        {
          "name": "stderr",
          "output_type": "stream",
          "text": [
            "<ipython-input-17-36c1590347a7>:35: FutureWarning: The frame.append method is deprecated and will be removed from pandas in a future version. Use pandas.concat instead.\n",
            "  df1 = df1.append({'Id': file, 'Category': predicted_class}, ignore_index=True)\n",
            "<ipython-input-17-36c1590347a7>:35: FutureWarning: The frame.append method is deprecated and will be removed from pandas in a future version. Use pandas.concat instead.\n",
            "  df1 = df1.append({'Id': file, 'Category': predicted_class}, ignore_index=True)\n"
          ]
        },
        {
          "name": "stdout",
          "output_type": "stream",
          "text": [
            "1/1 [==============================] - 0s 34ms/step\n",
            "Image: 88.jpg - Predicted Class: 2\n",
            "1/1 [==============================] - 0s 31ms/step\n",
            "Image: 89.jpg - Predicted Class: 1\n"
          ]
        },
        {
          "name": "stderr",
          "output_type": "stream",
          "text": [
            "<ipython-input-17-36c1590347a7>:35: FutureWarning: The frame.append method is deprecated and will be removed from pandas in a future version. Use pandas.concat instead.\n",
            "  df1 = df1.append({'Id': file, 'Category': predicted_class}, ignore_index=True)\n",
            "<ipython-input-17-36c1590347a7>:35: FutureWarning: The frame.append method is deprecated and will be removed from pandas in a future version. Use pandas.concat instead.\n",
            "  df1 = df1.append({'Id': file, 'Category': predicted_class}, ignore_index=True)\n"
          ]
        },
        {
          "name": "stdout",
          "output_type": "stream",
          "text": [
            "1/1 [==============================] - 0s 33ms/step\n",
            "Image: 90.jpg - Predicted Class: 5\n",
            "1/1 [==============================] - 0s 48ms/step\n"
          ]
        },
        {
          "name": "stderr",
          "output_type": "stream",
          "text": [
            "<ipython-input-17-36c1590347a7>:35: FutureWarning: The frame.append method is deprecated and will be removed from pandas in a future version. Use pandas.concat instead.\n",
            "  df1 = df1.append({'Id': file, 'Category': predicted_class}, ignore_index=True)\n",
            "<ipython-input-17-36c1590347a7>:35: FutureWarning: The frame.append method is deprecated and will be removed from pandas in a future version. Use pandas.concat instead.\n",
            "  df1 = df1.append({'Id': file, 'Category': predicted_class}, ignore_index=True)\n"
          ]
        },
        {
          "name": "stdout",
          "output_type": "stream",
          "text": [
            "Image: 91.jpg - Predicted Class: 3\n",
            "1/1 [==============================] - 0s 51ms/step\n",
            "Image: 92.jpg - Predicted Class: 5\n",
            "1/1 [==============================] - 0s 48ms/step\n"
          ]
        },
        {
          "name": "stderr",
          "output_type": "stream",
          "text": [
            "<ipython-input-17-36c1590347a7>:35: FutureWarning: The frame.append method is deprecated and will be removed from pandas in a future version. Use pandas.concat instead.\n",
            "  df1 = df1.append({'Id': file, 'Category': predicted_class}, ignore_index=True)\n",
            "<ipython-input-17-36c1590347a7>:35: FutureWarning: The frame.append method is deprecated and will be removed from pandas in a future version. Use pandas.concat instead.\n",
            "  df1 = df1.append({'Id': file, 'Category': predicted_class}, ignore_index=True)\n"
          ]
        },
        {
          "name": "stdout",
          "output_type": "stream",
          "text": [
            "Image: 93.jpg - Predicted Class: 5\n",
            "1/1 [==============================] - 0s 50ms/step\n",
            "Image: 94.jpg - Predicted Class: 5\n",
            "1/1 [==============================] - 0s 50ms/step\n",
            "Image: 95.jpg - Predicted Class: 1\n"
          ]
        },
        {
          "name": "stderr",
          "output_type": "stream",
          "text": [
            "<ipython-input-17-36c1590347a7>:35: FutureWarning: The frame.append method is deprecated and will be removed from pandas in a future version. Use pandas.concat instead.\n",
            "  df1 = df1.append({'Id': file, 'Category': predicted_class}, ignore_index=True)\n",
            "<ipython-input-17-36c1590347a7>:35: FutureWarning: The frame.append method is deprecated and will be removed from pandas in a future version. Use pandas.concat instead.\n",
            "  df1 = df1.append({'Id': file, 'Category': predicted_class}, ignore_index=True)\n"
          ]
        },
        {
          "name": "stdout",
          "output_type": "stream",
          "text": [
            "1/1 [==============================] - 0s 49ms/step\n",
            "Image: 96.jpg - Predicted Class: 5\n",
            "1/1 [==============================] - 0s 49ms/step\n"
          ]
        },
        {
          "name": "stderr",
          "output_type": "stream",
          "text": [
            "<ipython-input-17-36c1590347a7>:35: FutureWarning: The frame.append method is deprecated and will be removed from pandas in a future version. Use pandas.concat instead.\n",
            "  df1 = df1.append({'Id': file, 'Category': predicted_class}, ignore_index=True)\n",
            "<ipython-input-17-36c1590347a7>:35: FutureWarning: The frame.append method is deprecated and will be removed from pandas in a future version. Use pandas.concat instead.\n",
            "  df1 = df1.append({'Id': file, 'Category': predicted_class}, ignore_index=True)\n"
          ]
        },
        {
          "name": "stdout",
          "output_type": "stream",
          "text": [
            "Image: 97.jpg - Predicted Class: 0\n",
            "1/1 [==============================] - 0s 46ms/step\n",
            "Image: 98.jpg - Predicted Class: 1\n",
            "1/1 [==============================] - 0s 50ms/step\n",
            "Image: 99.jpg - Predicted Class: 5\n"
          ]
        },
        {
          "name": "stderr",
          "output_type": "stream",
          "text": [
            "<ipython-input-17-36c1590347a7>:35: FutureWarning: The frame.append method is deprecated and will be removed from pandas in a future version. Use pandas.concat instead.\n",
            "  df1 = df1.append({'Id': file, 'Category': predicted_class}, ignore_index=True)\n",
            "<ipython-input-17-36c1590347a7>:35: FutureWarning: The frame.append method is deprecated and will be removed from pandas in a future version. Use pandas.concat instead.\n",
            "  df1 = df1.append({'Id': file, 'Category': predicted_class}, ignore_index=True)\n"
          ]
        },
        {
          "name": "stdout",
          "output_type": "stream",
          "text": [
            "1/1 [==============================] - 0s 46ms/step\n",
            "Image: 100.jpg - Predicted Class: 3\n",
            "1/1 [==============================] - 0s 52ms/step\n",
            "Image: 101.jpg - Predicted Class: 3\n"
          ]
        },
        {
          "name": "stderr",
          "output_type": "stream",
          "text": [
            "<ipython-input-17-36c1590347a7>:35: FutureWarning: The frame.append method is deprecated and will be removed from pandas in a future version. Use pandas.concat instead.\n",
            "  df1 = df1.append({'Id': file, 'Category': predicted_class}, ignore_index=True)\n",
            "<ipython-input-17-36c1590347a7>:35: FutureWarning: The frame.append method is deprecated and will be removed from pandas in a future version. Use pandas.concat instead.\n",
            "  df1 = df1.append({'Id': file, 'Category': predicted_class}, ignore_index=True)\n"
          ]
        },
        {
          "name": "stdout",
          "output_type": "stream",
          "text": [
            "1/1 [==============================] - 0s 45ms/step\n",
            "Image: 102.jpg - Predicted Class: 3\n",
            "1/1 [==============================] - 0s 45ms/step\n",
            "Image: 103.jpg - Predicted Class: 5\n"
          ]
        },
        {
          "name": "stderr",
          "output_type": "stream",
          "text": [
            "<ipython-input-17-36c1590347a7>:35: FutureWarning: The frame.append method is deprecated and will be removed from pandas in a future version. Use pandas.concat instead.\n",
            "  df1 = df1.append({'Id': file, 'Category': predicted_class}, ignore_index=True)\n",
            "<ipython-input-17-36c1590347a7>:35: FutureWarning: The frame.append method is deprecated and will be removed from pandas in a future version. Use pandas.concat instead.\n",
            "  df1 = df1.append({'Id': file, 'Category': predicted_class}, ignore_index=True)\n"
          ]
        },
        {
          "name": "stdout",
          "output_type": "stream",
          "text": [
            "1/1 [==============================] - 0s 49ms/step\n",
            "Image: 104.jpg - Predicted Class: 0\n"
          ]
        },
        {
          "name": "stderr",
          "output_type": "stream",
          "text": [
            "<ipython-input-17-36c1590347a7>:35: FutureWarning: The frame.append method is deprecated and will be removed from pandas in a future version. Use pandas.concat instead.\n",
            "  df1 = df1.append({'Id': file, 'Category': predicted_class}, ignore_index=True)\n"
          ]
        },
        {
          "name": "stdout",
          "output_type": "stream",
          "text": [
            "1/1 [==============================] - 0s 49ms/step\n",
            "Image: 105.jpg - Predicted Class: 1\n",
            "1/1 [==============================] - 0s 48ms/step\n",
            "Image: 106.jpg - Predicted Class: 0\n"
          ]
        },
        {
          "name": "stderr",
          "output_type": "stream",
          "text": [
            "<ipython-input-17-36c1590347a7>:35: FutureWarning: The frame.append method is deprecated and will be removed from pandas in a future version. Use pandas.concat instead.\n",
            "  df1 = df1.append({'Id': file, 'Category': predicted_class}, ignore_index=True)\n",
            "<ipython-input-17-36c1590347a7>:35: FutureWarning: The frame.append method is deprecated and will be removed from pandas in a future version. Use pandas.concat instead.\n",
            "  df1 = df1.append({'Id': file, 'Category': predicted_class}, ignore_index=True)\n"
          ]
        },
        {
          "name": "stdout",
          "output_type": "stream",
          "text": [
            "1/1 [==============================] - 0s 49ms/step\n",
            "Image: 107.jpg - Predicted Class: 5\n",
            "1/1 [==============================] - 0s 47ms/step\n",
            "Image: 108.jpg - Predicted Class: 3\n"
          ]
        },
        {
          "name": "stderr",
          "output_type": "stream",
          "text": [
            "<ipython-input-17-36c1590347a7>:35: FutureWarning: The frame.append method is deprecated and will be removed from pandas in a future version. Use pandas.concat instead.\n",
            "  df1 = df1.append({'Id': file, 'Category': predicted_class}, ignore_index=True)\n",
            "<ipython-input-17-36c1590347a7>:35: FutureWarning: The frame.append method is deprecated and will be removed from pandas in a future version. Use pandas.concat instead.\n",
            "  df1 = df1.append({'Id': file, 'Category': predicted_class}, ignore_index=True)\n"
          ]
        },
        {
          "name": "stdout",
          "output_type": "stream",
          "text": [
            "1/1 [==============================] - 0s 47ms/step\n",
            "Image: 109.jpg - Predicted Class: 3\n"
          ]
        },
        {
          "name": "stderr",
          "output_type": "stream",
          "text": [
            "<ipython-input-17-36c1590347a7>:35: FutureWarning: The frame.append method is deprecated and will be removed from pandas in a future version. Use pandas.concat instead.\n",
            "  df1 = df1.append({'Id': file, 'Category': predicted_class}, ignore_index=True)\n"
          ]
        },
        {
          "name": "stdout",
          "output_type": "stream",
          "text": [
            "1/1 [==============================] - 0s 40ms/step\n",
            "Image: 110.jpg - Predicted Class: 0\n",
            "1/1 [==============================] - 0s 33ms/step\n",
            "Image: 111.jpg - Predicted Class: 0\n"
          ]
        },
        {
          "name": "stderr",
          "output_type": "stream",
          "text": [
            "<ipython-input-17-36c1590347a7>:35: FutureWarning: The frame.append method is deprecated and will be removed from pandas in a future version. Use pandas.concat instead.\n",
            "  df1 = df1.append({'Id': file, 'Category': predicted_class}, ignore_index=True)\n",
            "<ipython-input-17-36c1590347a7>:35: FutureWarning: The frame.append method is deprecated and will be removed from pandas in a future version. Use pandas.concat instead.\n",
            "  df1 = df1.append({'Id': file, 'Category': predicted_class}, ignore_index=True)\n"
          ]
        },
        {
          "name": "stdout",
          "output_type": "stream",
          "text": [
            "1/1 [==============================] - 0s 33ms/step\n",
            "Image: 112.jpg - Predicted Class: 1\n",
            "1/1 [==============================] - 0s 33ms/step\n",
            "Image: 113.jpg - Predicted Class: 2\n",
            "1/1 [==============================] - 0s 32ms/step\n"
          ]
        },
        {
          "name": "stderr",
          "output_type": "stream",
          "text": [
            "<ipython-input-17-36c1590347a7>:35: FutureWarning: The frame.append method is deprecated and will be removed from pandas in a future version. Use pandas.concat instead.\n",
            "  df1 = df1.append({'Id': file, 'Category': predicted_class}, ignore_index=True)\n",
            "<ipython-input-17-36c1590347a7>:35: FutureWarning: The frame.append method is deprecated and will be removed from pandas in a future version. Use pandas.concat instead.\n",
            "  df1 = df1.append({'Id': file, 'Category': predicted_class}, ignore_index=True)\n",
            "<ipython-input-17-36c1590347a7>:35: FutureWarning: The frame.append method is deprecated and will be removed from pandas in a future version. Use pandas.concat instead.\n",
            "  df1 = df1.append({'Id': file, 'Category': predicted_class}, ignore_index=True)\n"
          ]
        },
        {
          "name": "stdout",
          "output_type": "stream",
          "text": [
            "Image: 114.jpg - Predicted Class: 3\n",
            "1/1 [==============================] - 0s 30ms/step\n",
            "Image: 115.jpg - Predicted Class: 5\n",
            "1/1 [==============================] - 0s 30ms/step\n",
            "Image: 116.jpg - Predicted Class: 0\n",
            "1/1 [==============================] - 0s 30ms/step\n"
          ]
        },
        {
          "name": "stderr",
          "output_type": "stream",
          "text": [
            "<ipython-input-17-36c1590347a7>:35: FutureWarning: The frame.append method is deprecated and will be removed from pandas in a future version. Use pandas.concat instead.\n",
            "  df1 = df1.append({'Id': file, 'Category': predicted_class}, ignore_index=True)\n",
            "<ipython-input-17-36c1590347a7>:35: FutureWarning: The frame.append method is deprecated and will be removed from pandas in a future version. Use pandas.concat instead.\n",
            "  df1 = df1.append({'Id': file, 'Category': predicted_class}, ignore_index=True)\n"
          ]
        },
        {
          "name": "stdout",
          "output_type": "stream",
          "text": [
            "Image: 117.jpg - Predicted Class: 5\n",
            "1/1 [==============================] - 0s 31ms/step\n",
            "Image: 118.jpg - Predicted Class: 2\n",
            "1/1 [==============================] - 0s 32ms/step\n"
          ]
        },
        {
          "name": "stderr",
          "output_type": "stream",
          "text": [
            "<ipython-input-17-36c1590347a7>:35: FutureWarning: The frame.append method is deprecated and will be removed from pandas in a future version. Use pandas.concat instead.\n",
            "  df1 = df1.append({'Id': file, 'Category': predicted_class}, ignore_index=True)\n",
            "<ipython-input-17-36c1590347a7>:35: FutureWarning: The frame.append method is deprecated and will be removed from pandas in a future version. Use pandas.concat instead.\n",
            "  df1 = df1.append({'Id': file, 'Category': predicted_class}, ignore_index=True)\n"
          ]
        },
        {
          "name": "stdout",
          "output_type": "stream",
          "text": [
            "Image: 119.jpg - Predicted Class: 1\n",
            "1/1 [==============================] - 0s 35ms/step\n",
            "Image: 120.jpg - Predicted Class: 3\n"
          ]
        },
        {
          "name": "stderr",
          "output_type": "stream",
          "text": [
            "<ipython-input-17-36c1590347a7>:35: FutureWarning: The frame.append method is deprecated and will be removed from pandas in a future version. Use pandas.concat instead.\n",
            "  df1 = df1.append({'Id': file, 'Category': predicted_class}, ignore_index=True)\n",
            "<ipython-input-17-36c1590347a7>:35: FutureWarning: The frame.append method is deprecated and will be removed from pandas in a future version. Use pandas.concat instead.\n",
            "  df1 = df1.append({'Id': file, 'Category': predicted_class}, ignore_index=True)\n"
          ]
        },
        {
          "name": "stdout",
          "output_type": "stream",
          "text": [
            "1/1 [==============================] - 0s 33ms/step\n",
            "Image: 121.jpg - Predicted Class: 5\n",
            "1/1 [==============================] - 0s 30ms/step\n",
            "Image: 122.jpg - Predicted Class: 1\n"
          ]
        },
        {
          "name": "stderr",
          "output_type": "stream",
          "text": [
            "<ipython-input-17-36c1590347a7>:35: FutureWarning: The frame.append method is deprecated and will be removed from pandas in a future version. Use pandas.concat instead.\n",
            "  df1 = df1.append({'Id': file, 'Category': predicted_class}, ignore_index=True)\n",
            "<ipython-input-17-36c1590347a7>:35: FutureWarning: The frame.append method is deprecated and will be removed from pandas in a future version. Use pandas.concat instead.\n",
            "  df1 = df1.append({'Id': file, 'Category': predicted_class}, ignore_index=True)\n"
          ]
        },
        {
          "name": "stdout",
          "output_type": "stream",
          "text": [
            "1/1 [==============================] - 0s 33ms/step\n",
            "Image: 123.jpg - Predicted Class: 1\n",
            "1/1 [==============================] - 0s 31ms/step\n",
            "Image: 124.jpg - Predicted Class: 1\n",
            "1/1 [==============================] - 0s 32ms/step\n"
          ]
        },
        {
          "name": "stderr",
          "output_type": "stream",
          "text": [
            "<ipython-input-17-36c1590347a7>:35: FutureWarning: The frame.append method is deprecated and will be removed from pandas in a future version. Use pandas.concat instead.\n",
            "  df1 = df1.append({'Id': file, 'Category': predicted_class}, ignore_index=True)\n",
            "<ipython-input-17-36c1590347a7>:35: FutureWarning: The frame.append method is deprecated and will be removed from pandas in a future version. Use pandas.concat instead.\n",
            "  df1 = df1.append({'Id': file, 'Category': predicted_class}, ignore_index=True)\n",
            "<ipython-input-17-36c1590347a7>:35: FutureWarning: The frame.append method is deprecated and will be removed from pandas in a future version. Use pandas.concat instead.\n",
            "  df1 = df1.append({'Id': file, 'Category': predicted_class}, ignore_index=True)\n"
          ]
        },
        {
          "name": "stdout",
          "output_type": "stream",
          "text": [
            "Image: 125.jpg - Predicted Class: 5\n",
            "1/1 [==============================] - 0s 32ms/step\n",
            "Image: 126.jpg - Predicted Class: 0\n",
            "1/1 [==============================] - 0s 37ms/step\n",
            "Image: 127.jpg - Predicted Class: 2\n"
          ]
        },
        {
          "name": "stderr",
          "output_type": "stream",
          "text": [
            "<ipython-input-17-36c1590347a7>:35: FutureWarning: The frame.append method is deprecated and will be removed from pandas in a future version. Use pandas.concat instead.\n",
            "  df1 = df1.append({'Id': file, 'Category': predicted_class}, ignore_index=True)\n",
            "<ipython-input-17-36c1590347a7>:35: FutureWarning: The frame.append method is deprecated and will be removed from pandas in a future version. Use pandas.concat instead.\n",
            "  df1 = df1.append({'Id': file, 'Category': predicted_class}, ignore_index=True)\n"
          ]
        },
        {
          "name": "stdout",
          "output_type": "stream",
          "text": [
            "1/1 [==============================] - 0s 43ms/step\n",
            "Image: 128.jpg - Predicted Class: 1\n",
            "1/1 [==============================] - 0s 35ms/step\n",
            "Image: 129.jpg - Predicted Class: 5\n",
            "1/1 [==============================] - 0s 35ms/step\n"
          ]
        },
        {
          "name": "stderr",
          "output_type": "stream",
          "text": [
            "<ipython-input-17-36c1590347a7>:35: FutureWarning: The frame.append method is deprecated and will be removed from pandas in a future version. Use pandas.concat instead.\n",
            "  df1 = df1.append({'Id': file, 'Category': predicted_class}, ignore_index=True)\n",
            "<ipython-input-17-36c1590347a7>:35: FutureWarning: The frame.append method is deprecated and will be removed from pandas in a future version. Use pandas.concat instead.\n",
            "  df1 = df1.append({'Id': file, 'Category': predicted_class}, ignore_index=True)\n"
          ]
        },
        {
          "name": "stdout",
          "output_type": "stream",
          "text": [
            "Image: 130.jpg - Predicted Class: 2\n",
            "1/1 [==============================] - 0s 32ms/step\n",
            "Image: 131.jpg - Predicted Class: 5\n"
          ]
        },
        {
          "name": "stderr",
          "output_type": "stream",
          "text": [
            "<ipython-input-17-36c1590347a7>:35: FutureWarning: The frame.append method is deprecated and will be removed from pandas in a future version. Use pandas.concat instead.\n",
            "  df1 = df1.append({'Id': file, 'Category': predicted_class}, ignore_index=True)\n",
            "<ipython-input-17-36c1590347a7>:35: FutureWarning: The frame.append method is deprecated and will be removed from pandas in a future version. Use pandas.concat instead.\n",
            "  df1 = df1.append({'Id': file, 'Category': predicted_class}, ignore_index=True)\n"
          ]
        },
        {
          "name": "stdout",
          "output_type": "stream",
          "text": [
            "1/1 [==============================] - 0s 34ms/step\n",
            "Image: 132.jpg - Predicted Class: 0\n",
            "1/1 [==============================] - 0s 32ms/step\n",
            "Image: 133.jpg - Predicted Class: 1\n",
            "1/1 [==============================] - 0s 29ms/step\n"
          ]
        },
        {
          "name": "stderr",
          "output_type": "stream",
          "text": [
            "<ipython-input-17-36c1590347a7>:35: FutureWarning: The frame.append method is deprecated and will be removed from pandas in a future version. Use pandas.concat instead.\n",
            "  df1 = df1.append({'Id': file, 'Category': predicted_class}, ignore_index=True)\n",
            "<ipython-input-17-36c1590347a7>:35: FutureWarning: The frame.append method is deprecated and will be removed from pandas in a future version. Use pandas.concat instead.\n",
            "  df1 = df1.append({'Id': file, 'Category': predicted_class}, ignore_index=True)\n",
            "<ipython-input-17-36c1590347a7>:35: FutureWarning: The frame.append method is deprecated and will be removed from pandas in a future version. Use pandas.concat instead.\n",
            "  df1 = df1.append({'Id': file, 'Category': predicted_class}, ignore_index=True)\n"
          ]
        },
        {
          "name": "stdout",
          "output_type": "stream",
          "text": [
            "Image: 134.jpg - Predicted Class: 0\n",
            "1/1 [==============================] - 0s 28ms/step\n",
            "Image: 135.jpg - Predicted Class: 5\n"
          ]
        },
        {
          "name": "stderr",
          "output_type": "stream",
          "text": [
            "<ipython-input-17-36c1590347a7>:35: FutureWarning: The frame.append method is deprecated and will be removed from pandas in a future version. Use pandas.concat instead.\n",
            "  df1 = df1.append({'Id': file, 'Category': predicted_class}, ignore_index=True)\n"
          ]
        },
        {
          "name": "stdout",
          "output_type": "stream",
          "text": [
            "1/1 [==============================] - 0s 31ms/step\n",
            "Image: 136.jpg - Predicted Class: 3\n",
            "1/1 [==============================] - 0s 30ms/step\n",
            "Image: 137.jpg - Predicted Class: 3\n"
          ]
        },
        {
          "name": "stderr",
          "output_type": "stream",
          "text": [
            "<ipython-input-17-36c1590347a7>:35: FutureWarning: The frame.append method is deprecated and will be removed from pandas in a future version. Use pandas.concat instead.\n",
            "  df1 = df1.append({'Id': file, 'Category': predicted_class}, ignore_index=True)\n",
            "<ipython-input-17-36c1590347a7>:35: FutureWarning: The frame.append method is deprecated and will be removed from pandas in a future version. Use pandas.concat instead.\n",
            "  df1 = df1.append({'Id': file, 'Category': predicted_class}, ignore_index=True)\n"
          ]
        },
        {
          "name": "stdout",
          "output_type": "stream",
          "text": [
            "1/1 [==============================] - 0s 34ms/step\n",
            "Image: 138.jpg - Predicted Class: 5\n",
            "1/1 [==============================] - 0s 33ms/step\n",
            "Image: 139.jpg - Predicted Class: 5\n",
            "1/1 [==============================] - 0s 36ms/step\n"
          ]
        },
        {
          "name": "stderr",
          "output_type": "stream",
          "text": [
            "<ipython-input-17-36c1590347a7>:35: FutureWarning: The frame.append method is deprecated and will be removed from pandas in a future version. Use pandas.concat instead.\n",
            "  df1 = df1.append({'Id': file, 'Category': predicted_class}, ignore_index=True)\n",
            "<ipython-input-17-36c1590347a7>:35: FutureWarning: The frame.append method is deprecated and will be removed from pandas in a future version. Use pandas.concat instead.\n",
            "  df1 = df1.append({'Id': file, 'Category': predicted_class}, ignore_index=True)\n"
          ]
        },
        {
          "name": "stdout",
          "output_type": "stream",
          "text": [
            "Image: 140.jpg - Predicted Class: 1\n",
            "1/1 [==============================] - 0s 31ms/step\n",
            "Image: 141.jpg - Predicted Class: 0\n"
          ]
        },
        {
          "name": "stderr",
          "output_type": "stream",
          "text": [
            "<ipython-input-17-36c1590347a7>:35: FutureWarning: The frame.append method is deprecated and will be removed from pandas in a future version. Use pandas.concat instead.\n",
            "  df1 = df1.append({'Id': file, 'Category': predicted_class}, ignore_index=True)\n",
            "<ipython-input-17-36c1590347a7>:35: FutureWarning: The frame.append method is deprecated and will be removed from pandas in a future version. Use pandas.concat instead.\n",
            "  df1 = df1.append({'Id': file, 'Category': predicted_class}, ignore_index=True)\n"
          ]
        },
        {
          "name": "stdout",
          "output_type": "stream",
          "text": [
            "1/1 [==============================] - 0s 32ms/step\n",
            "Image: 142.jpg - Predicted Class: 2\n",
            "1/1 [==============================] - 0s 34ms/step\n",
            "Image: 143.jpg - Predicted Class: 4\n"
          ]
        },
        {
          "name": "stderr",
          "output_type": "stream",
          "text": [
            "<ipython-input-17-36c1590347a7>:35: FutureWarning: The frame.append method is deprecated and will be removed from pandas in a future version. Use pandas.concat instead.\n",
            "  df1 = df1.append({'Id': file, 'Category': predicted_class}, ignore_index=True)\n",
            "<ipython-input-17-36c1590347a7>:35: FutureWarning: The frame.append method is deprecated and will be removed from pandas in a future version. Use pandas.concat instead.\n",
            "  df1 = df1.append({'Id': file, 'Category': predicted_class}, ignore_index=True)\n"
          ]
        },
        {
          "name": "stdout",
          "output_type": "stream",
          "text": [
            "1/1 [==============================] - 0s 52ms/step\n",
            "Image: 144.jpg - Predicted Class: 5\n",
            "1/1 [==============================] - 0s 30ms/step\n",
            "Image: 145.jpg - Predicted Class: 0\n"
          ]
        },
        {
          "name": "stderr",
          "output_type": "stream",
          "text": [
            "<ipython-input-17-36c1590347a7>:35: FutureWarning: The frame.append method is deprecated and will be removed from pandas in a future version. Use pandas.concat instead.\n",
            "  df1 = df1.append({'Id': file, 'Category': predicted_class}, ignore_index=True)\n",
            "<ipython-input-17-36c1590347a7>:35: FutureWarning: The frame.append method is deprecated and will be removed from pandas in a future version. Use pandas.concat instead.\n",
            "  df1 = df1.append({'Id': file, 'Category': predicted_class}, ignore_index=True)\n"
          ]
        },
        {
          "name": "stdout",
          "output_type": "stream",
          "text": [
            "1/1 [==============================] - 0s 30ms/step\n",
            "Image: 146.jpg - Predicted Class: 0\n",
            "1/1 [==============================] - 0s 31ms/step\n",
            "Image: 147.jpg - Predicted Class: 5\n"
          ]
        },
        {
          "name": "stderr",
          "output_type": "stream",
          "text": [
            "<ipython-input-17-36c1590347a7>:35: FutureWarning: The frame.append method is deprecated and will be removed from pandas in a future version. Use pandas.concat instead.\n",
            "  df1 = df1.append({'Id': file, 'Category': predicted_class}, ignore_index=True)\n",
            "<ipython-input-17-36c1590347a7>:35: FutureWarning: The frame.append method is deprecated and will be removed from pandas in a future version. Use pandas.concat instead.\n",
            "  df1 = df1.append({'Id': file, 'Category': predicted_class}, ignore_index=True)\n"
          ]
        },
        {
          "name": "stdout",
          "output_type": "stream",
          "text": [
            "1/1 [==============================] - 0s 35ms/step\n",
            "Image: 148.jpg - Predicted Class: 5\n",
            "1/1 [==============================] - 0s 30ms/step\n",
            "Image: 149.jpg - Predicted Class: 5\n",
            "1/1 [==============================] - 0s 34ms/step\n"
          ]
        },
        {
          "name": "stderr",
          "output_type": "stream",
          "text": [
            "<ipython-input-17-36c1590347a7>:35: FutureWarning: The frame.append method is deprecated and will be removed from pandas in a future version. Use pandas.concat instead.\n",
            "  df1 = df1.append({'Id': file, 'Category': predicted_class}, ignore_index=True)\n",
            "<ipython-input-17-36c1590347a7>:35: FutureWarning: The frame.append method is deprecated and will be removed from pandas in a future version. Use pandas.concat instead.\n",
            "  df1 = df1.append({'Id': file, 'Category': predicted_class}, ignore_index=True)\n"
          ]
        },
        {
          "name": "stdout",
          "output_type": "stream",
          "text": [
            "Image: 150.jpg - Predicted Class: 1\n",
            "1/1 [==============================] - 0s 38ms/step\n",
            "Image: 151.jpg - Predicted Class: 1\n"
          ]
        },
        {
          "name": "stderr",
          "output_type": "stream",
          "text": [
            "<ipython-input-17-36c1590347a7>:35: FutureWarning: The frame.append method is deprecated and will be removed from pandas in a future version. Use pandas.concat instead.\n",
            "  df1 = df1.append({'Id': file, 'Category': predicted_class}, ignore_index=True)\n",
            "<ipython-input-17-36c1590347a7>:35: FutureWarning: The frame.append method is deprecated and will be removed from pandas in a future version. Use pandas.concat instead.\n",
            "  df1 = df1.append({'Id': file, 'Category': predicted_class}, ignore_index=True)\n"
          ]
        },
        {
          "name": "stdout",
          "output_type": "stream",
          "text": [
            "1/1 [==============================] - 0s 39ms/step\n",
            "Image: 152.jpg - Predicted Class: 3\n",
            "1/1 [==============================] - 0s 33ms/step\n",
            "Image: 153.jpg - Predicted Class: 0\n"
          ]
        },
        {
          "name": "stderr",
          "output_type": "stream",
          "text": [
            "<ipython-input-17-36c1590347a7>:35: FutureWarning: The frame.append method is deprecated and will be removed from pandas in a future version. Use pandas.concat instead.\n",
            "  df1 = df1.append({'Id': file, 'Category': predicted_class}, ignore_index=True)\n",
            "<ipython-input-17-36c1590347a7>:35: FutureWarning: The frame.append method is deprecated and will be removed from pandas in a future version. Use pandas.concat instead.\n",
            "  df1 = df1.append({'Id': file, 'Category': predicted_class}, ignore_index=True)\n"
          ]
        },
        {
          "name": "stdout",
          "output_type": "stream",
          "text": [
            "1/1 [==============================] - 0s 33ms/step\n",
            "Image: 154.jpg - Predicted Class: 5\n",
            "1/1 [==============================] - 0s 33ms/step\n",
            "Image: 155.jpg - Predicted Class: 2\n"
          ]
        },
        {
          "name": "stderr",
          "output_type": "stream",
          "text": [
            "<ipython-input-17-36c1590347a7>:35: FutureWarning: The frame.append method is deprecated and will be removed from pandas in a future version. Use pandas.concat instead.\n",
            "  df1 = df1.append({'Id': file, 'Category': predicted_class}, ignore_index=True)\n",
            "<ipython-input-17-36c1590347a7>:35: FutureWarning: The frame.append method is deprecated and will be removed from pandas in a future version. Use pandas.concat instead.\n",
            "  df1 = df1.append({'Id': file, 'Category': predicted_class}, ignore_index=True)\n"
          ]
        },
        {
          "name": "stdout",
          "output_type": "stream",
          "text": [
            "1/1 [==============================] - 0s 37ms/step\n",
            "Image: 156.jpg - Predicted Class: 0\n",
            "1/1 [==============================] - 0s 34ms/step\n",
            "Image: 157.jpg - Predicted Class: 5\n"
          ]
        },
        {
          "name": "stderr",
          "output_type": "stream",
          "text": [
            "<ipython-input-17-36c1590347a7>:35: FutureWarning: The frame.append method is deprecated and will be removed from pandas in a future version. Use pandas.concat instead.\n",
            "  df1 = df1.append({'Id': file, 'Category': predicted_class}, ignore_index=True)\n",
            "<ipython-input-17-36c1590347a7>:35: FutureWarning: The frame.append method is deprecated and will be removed from pandas in a future version. Use pandas.concat instead.\n",
            "  df1 = df1.append({'Id': file, 'Category': predicted_class}, ignore_index=True)\n"
          ]
        },
        {
          "name": "stdout",
          "output_type": "stream",
          "text": [
            "1/1 [==============================] - 0s 37ms/step\n",
            "Image: 158.jpg - Predicted Class: 0\n",
            "1/1 [==============================] - 0s 33ms/step\n",
            "Image: 159.jpg - Predicted Class: 5\n"
          ]
        },
        {
          "name": "stderr",
          "output_type": "stream",
          "text": [
            "<ipython-input-17-36c1590347a7>:35: FutureWarning: The frame.append method is deprecated and will be removed from pandas in a future version. Use pandas.concat instead.\n",
            "  df1 = df1.append({'Id': file, 'Category': predicted_class}, ignore_index=True)\n",
            "<ipython-input-17-36c1590347a7>:35: FutureWarning: The frame.append method is deprecated and will be removed from pandas in a future version. Use pandas.concat instead.\n",
            "  df1 = df1.append({'Id': file, 'Category': predicted_class}, ignore_index=True)\n"
          ]
        },
        {
          "name": "stdout",
          "output_type": "stream",
          "text": [
            "1/1 [==============================] - 0s 35ms/step\n",
            "Image: 160.jpg - Predicted Class: 1\n",
            "1/1 [==============================] - 0s 31ms/step\n",
            "Image: 161.jpg - Predicted Class: 5\n"
          ]
        },
        {
          "name": "stderr",
          "output_type": "stream",
          "text": [
            "<ipython-input-17-36c1590347a7>:35: FutureWarning: The frame.append method is deprecated and will be removed from pandas in a future version. Use pandas.concat instead.\n",
            "  df1 = df1.append({'Id': file, 'Category': predicted_class}, ignore_index=True)\n",
            "<ipython-input-17-36c1590347a7>:35: FutureWarning: The frame.append method is deprecated and will be removed from pandas in a future version. Use pandas.concat instead.\n",
            "  df1 = df1.append({'Id': file, 'Category': predicted_class}, ignore_index=True)\n"
          ]
        },
        {
          "name": "stdout",
          "output_type": "stream",
          "text": [
            "1/1 [==============================] - 0s 33ms/step\n",
            "Image: 162.jpg - Predicted Class: 1\n",
            "1/1 [==============================] - 0s 31ms/step\n",
            "Image: 163.jpg - Predicted Class: 5\n"
          ]
        },
        {
          "name": "stderr",
          "output_type": "stream",
          "text": [
            "<ipython-input-17-36c1590347a7>:35: FutureWarning: The frame.append method is deprecated and will be removed from pandas in a future version. Use pandas.concat instead.\n",
            "  df1 = df1.append({'Id': file, 'Category': predicted_class}, ignore_index=True)\n",
            "<ipython-input-17-36c1590347a7>:35: FutureWarning: The frame.append method is deprecated and will be removed from pandas in a future version. Use pandas.concat instead.\n",
            "  df1 = df1.append({'Id': file, 'Category': predicted_class}, ignore_index=True)\n"
          ]
        },
        {
          "name": "stdout",
          "output_type": "stream",
          "text": [
            "1/1 [==============================] - 0s 35ms/step\n",
            "Image: 164.jpg - Predicted Class: 1\n",
            "1/1 [==============================] - 0s 33ms/step\n",
            "Image: 165.jpg - Predicted Class: 5\n"
          ]
        },
        {
          "name": "stderr",
          "output_type": "stream",
          "text": [
            "<ipython-input-17-36c1590347a7>:35: FutureWarning: The frame.append method is deprecated and will be removed from pandas in a future version. Use pandas.concat instead.\n",
            "  df1 = df1.append({'Id': file, 'Category': predicted_class}, ignore_index=True)\n",
            "<ipython-input-17-36c1590347a7>:35: FutureWarning: The frame.append method is deprecated and will be removed from pandas in a future version. Use pandas.concat instead.\n",
            "  df1 = df1.append({'Id': file, 'Category': predicted_class}, ignore_index=True)\n"
          ]
        },
        {
          "name": "stdout",
          "output_type": "stream",
          "text": [
            "1/1 [==============================] - 0s 37ms/step\n",
            "Image: 166.jpg - Predicted Class: 3\n",
            "1/1 [==============================] - 0s 33ms/step\n",
            "Image: 167.jpg - Predicted Class: 3\n"
          ]
        },
        {
          "name": "stderr",
          "output_type": "stream",
          "text": [
            "<ipython-input-17-36c1590347a7>:35: FutureWarning: The frame.append method is deprecated and will be removed from pandas in a future version. Use pandas.concat instead.\n",
            "  df1 = df1.append({'Id': file, 'Category': predicted_class}, ignore_index=True)\n",
            "<ipython-input-17-36c1590347a7>:35: FutureWarning: The frame.append method is deprecated and will be removed from pandas in a future version. Use pandas.concat instead.\n",
            "  df1 = df1.append({'Id': file, 'Category': predicted_class}, ignore_index=True)\n"
          ]
        },
        {
          "name": "stdout",
          "output_type": "stream",
          "text": [
            "1/1 [==============================] - 0s 34ms/step\n",
            "Image: 168.jpg - Predicted Class: 5\n",
            "1/1 [==============================] - 0s 34ms/step\n",
            "Image: 169.jpg - Predicted Class: 5\n"
          ]
        },
        {
          "name": "stderr",
          "output_type": "stream",
          "text": [
            "<ipython-input-17-36c1590347a7>:35: FutureWarning: The frame.append method is deprecated and will be removed from pandas in a future version. Use pandas.concat instead.\n",
            "  df1 = df1.append({'Id': file, 'Category': predicted_class}, ignore_index=True)\n",
            "<ipython-input-17-36c1590347a7>:35: FutureWarning: The frame.append method is deprecated and will be removed from pandas in a future version. Use pandas.concat instead.\n",
            "  df1 = df1.append({'Id': file, 'Category': predicted_class}, ignore_index=True)\n"
          ]
        },
        {
          "name": "stdout",
          "output_type": "stream",
          "text": [
            "1/1 [==============================] - 0s 39ms/step\n",
            "Image: 170.jpg - Predicted Class: 1\n",
            "1/1 [==============================] - 0s 34ms/step\n",
            "Image: 171.jpg - Predicted Class: 3\n",
            "1/1 [==============================] - 0s 38ms/step\n"
          ]
        },
        {
          "name": "stderr",
          "output_type": "stream",
          "text": [
            "<ipython-input-17-36c1590347a7>:35: FutureWarning: The frame.append method is deprecated and will be removed from pandas in a future version. Use pandas.concat instead.\n",
            "  df1 = df1.append({'Id': file, 'Category': predicted_class}, ignore_index=True)\n",
            "<ipython-input-17-36c1590347a7>:35: FutureWarning: The frame.append method is deprecated and will be removed from pandas in a future version. Use pandas.concat instead.\n",
            "  df1 = df1.append({'Id': file, 'Category': predicted_class}, ignore_index=True)\n"
          ]
        },
        {
          "name": "stdout",
          "output_type": "stream",
          "text": [
            "Image: 172.jpg - Predicted Class: 5\n",
            "1/1 [==============================] - 0s 34ms/step\n",
            "Image: 173.jpg - Predicted Class: 0\n"
          ]
        },
        {
          "name": "stderr",
          "output_type": "stream",
          "text": [
            "<ipython-input-17-36c1590347a7>:35: FutureWarning: The frame.append method is deprecated and will be removed from pandas in a future version. Use pandas.concat instead.\n",
            "  df1 = df1.append({'Id': file, 'Category': predicted_class}, ignore_index=True)\n",
            "<ipython-input-17-36c1590347a7>:35: FutureWarning: The frame.append method is deprecated and will be removed from pandas in a future version. Use pandas.concat instead.\n",
            "  df1 = df1.append({'Id': file, 'Category': predicted_class}, ignore_index=True)\n"
          ]
        },
        {
          "name": "stdout",
          "output_type": "stream",
          "text": [
            "1/1 [==============================] - 0s 33ms/step\n",
            "Image: 174.jpg - Predicted Class: 0\n",
            "1/1 [==============================] - 0s 31ms/step\n",
            "Image: 175.jpg - Predicted Class: 1\n"
          ]
        },
        {
          "name": "stderr",
          "output_type": "stream",
          "text": [
            "<ipython-input-17-36c1590347a7>:35: FutureWarning: The frame.append method is deprecated and will be removed from pandas in a future version. Use pandas.concat instead.\n",
            "  df1 = df1.append({'Id': file, 'Category': predicted_class}, ignore_index=True)\n",
            "<ipython-input-17-36c1590347a7>:35: FutureWarning: The frame.append method is deprecated and will be removed from pandas in a future version. Use pandas.concat instead.\n",
            "  df1 = df1.append({'Id': file, 'Category': predicted_class}, ignore_index=True)\n"
          ]
        },
        {
          "name": "stdout",
          "output_type": "stream",
          "text": [
            "1/1 [==============================] - 0s 33ms/step\n",
            "Image: 176.jpg - Predicted Class: 5\n",
            "1/1 [==============================] - 0s 30ms/step\n",
            "Image: 177.jpg - Predicted Class: 1\n"
          ]
        },
        {
          "name": "stderr",
          "output_type": "stream",
          "text": [
            "<ipython-input-17-36c1590347a7>:35: FutureWarning: The frame.append method is deprecated and will be removed from pandas in a future version. Use pandas.concat instead.\n",
            "  df1 = df1.append({'Id': file, 'Category': predicted_class}, ignore_index=True)\n",
            "<ipython-input-17-36c1590347a7>:35: FutureWarning: The frame.append method is deprecated and will be removed from pandas in a future version. Use pandas.concat instead.\n",
            "  df1 = df1.append({'Id': file, 'Category': predicted_class}, ignore_index=True)\n"
          ]
        },
        {
          "name": "stdout",
          "output_type": "stream",
          "text": [
            "1/1 [==============================] - 0s 33ms/step\n",
            "Image: 178.jpg - Predicted Class: 0\n",
            "1/1 [==============================] - 0s 31ms/step\n",
            "Image: 179.jpg - Predicted Class: 3\n"
          ]
        },
        {
          "name": "stderr",
          "output_type": "stream",
          "text": [
            "<ipython-input-17-36c1590347a7>:35: FutureWarning: The frame.append method is deprecated and will be removed from pandas in a future version. Use pandas.concat instead.\n",
            "  df1 = df1.append({'Id': file, 'Category': predicted_class}, ignore_index=True)\n",
            "<ipython-input-17-36c1590347a7>:35: FutureWarning: The frame.append method is deprecated and will be removed from pandas in a future version. Use pandas.concat instead.\n",
            "  df1 = df1.append({'Id': file, 'Category': predicted_class}, ignore_index=True)\n"
          ]
        },
        {
          "name": "stdout",
          "output_type": "stream",
          "text": [
            "1/1 [==============================] - 0s 30ms/step\n",
            "Image: 180.jpg - Predicted Class: 5\n",
            "1/1 [==============================] - 0s 32ms/step\n",
            "Image: 181.jpg - Predicted Class: 0\n"
          ]
        },
        {
          "name": "stderr",
          "output_type": "stream",
          "text": [
            "<ipython-input-17-36c1590347a7>:35: FutureWarning: The frame.append method is deprecated and will be removed from pandas in a future version. Use pandas.concat instead.\n",
            "  df1 = df1.append({'Id': file, 'Category': predicted_class}, ignore_index=True)\n",
            "<ipython-input-17-36c1590347a7>:35: FutureWarning: The frame.append method is deprecated and will be removed from pandas in a future version. Use pandas.concat instead.\n",
            "  df1 = df1.append({'Id': file, 'Category': predicted_class}, ignore_index=True)\n"
          ]
        },
        {
          "name": "stdout",
          "output_type": "stream",
          "text": [
            "1/1 [==============================] - 0s 45ms/step\n",
            "Image: 182.jpg - Predicted Class: 2\n",
            "1/1 [==============================] - 0s 35ms/step\n",
            "Image: 183.jpg - Predicted Class: 0\n"
          ]
        },
        {
          "name": "stderr",
          "output_type": "stream",
          "text": [
            "<ipython-input-17-36c1590347a7>:35: FutureWarning: The frame.append method is deprecated and will be removed from pandas in a future version. Use pandas.concat instead.\n",
            "  df1 = df1.append({'Id': file, 'Category': predicted_class}, ignore_index=True)\n",
            "<ipython-input-17-36c1590347a7>:35: FutureWarning: The frame.append method is deprecated and will be removed from pandas in a future version. Use pandas.concat instead.\n",
            "  df1 = df1.append({'Id': file, 'Category': predicted_class}, ignore_index=True)\n"
          ]
        },
        {
          "name": "stdout",
          "output_type": "stream",
          "text": [
            "1/1 [==============================] - 0s 36ms/step\n",
            "Image: 184.jpg - Predicted Class: 1\n",
            "1/1 [==============================] - 0s 31ms/step\n",
            "Image: 185.jpg - Predicted Class: 3\n"
          ]
        },
        {
          "name": "stderr",
          "output_type": "stream",
          "text": [
            "<ipython-input-17-36c1590347a7>:35: FutureWarning: The frame.append method is deprecated and will be removed from pandas in a future version. Use pandas.concat instead.\n",
            "  df1 = df1.append({'Id': file, 'Category': predicted_class}, ignore_index=True)\n",
            "<ipython-input-17-36c1590347a7>:35: FutureWarning: The frame.append method is deprecated and will be removed from pandas in a future version. Use pandas.concat instead.\n",
            "  df1 = df1.append({'Id': file, 'Category': predicted_class}, ignore_index=True)\n"
          ]
        },
        {
          "name": "stdout",
          "output_type": "stream",
          "text": [
            "1/1 [==============================] - 0s 32ms/step\n",
            "Image: 186.jpg - Predicted Class: 5\n",
            "1/1 [==============================] - 0s 30ms/step\n",
            "Image: 187.jpg - Predicted Class: 0\n"
          ]
        },
        {
          "name": "stderr",
          "output_type": "stream",
          "text": [
            "<ipython-input-17-36c1590347a7>:35: FutureWarning: The frame.append method is deprecated and will be removed from pandas in a future version. Use pandas.concat instead.\n",
            "  df1 = df1.append({'Id': file, 'Category': predicted_class}, ignore_index=True)\n",
            "<ipython-input-17-36c1590347a7>:35: FutureWarning: The frame.append method is deprecated and will be removed from pandas in a future version. Use pandas.concat instead.\n",
            "  df1 = df1.append({'Id': file, 'Category': predicted_class}, ignore_index=True)\n"
          ]
        },
        {
          "name": "stdout",
          "output_type": "stream",
          "text": [
            "1/1 [==============================] - 0s 50ms/step\n",
            "Image: 188.jpg - Predicted Class: 0\n",
            "1/1 [==============================] - 0s 49ms/step\n",
            "Image: 189.jpg - Predicted Class: 5\n"
          ]
        },
        {
          "name": "stderr",
          "output_type": "stream",
          "text": [
            "<ipython-input-17-36c1590347a7>:35: FutureWarning: The frame.append method is deprecated and will be removed from pandas in a future version. Use pandas.concat instead.\n",
            "  df1 = df1.append({'Id': file, 'Category': predicted_class}, ignore_index=True)\n",
            "<ipython-input-17-36c1590347a7>:35: FutureWarning: The frame.append method is deprecated and will be removed from pandas in a future version. Use pandas.concat instead.\n",
            "  df1 = df1.append({'Id': file, 'Category': predicted_class}, ignore_index=True)\n"
          ]
        },
        {
          "name": "stdout",
          "output_type": "stream",
          "text": [
            "1/1 [==============================] - 0s 47ms/step\n",
            "Image: 190.jpg - Predicted Class: 5\n"
          ]
        },
        {
          "name": "stderr",
          "output_type": "stream",
          "text": [
            "<ipython-input-17-36c1590347a7>:35: FutureWarning: The frame.append method is deprecated and will be removed from pandas in a future version. Use pandas.concat instead.\n",
            "  df1 = df1.append({'Id': file, 'Category': predicted_class}, ignore_index=True)\n"
          ]
        },
        {
          "name": "stdout",
          "output_type": "stream",
          "text": [
            "1/1 [==============================] - 0s 54ms/step\n",
            "Image: 191.jpg - Predicted Class: 4\n",
            "1/1 [==============================] - 0s 47ms/step\n",
            "Image: 192.jpg - Predicted Class: 4\n"
          ]
        },
        {
          "name": "stderr",
          "output_type": "stream",
          "text": [
            "<ipython-input-17-36c1590347a7>:35: FutureWarning: The frame.append method is deprecated and will be removed from pandas in a future version. Use pandas.concat instead.\n",
            "  df1 = df1.append({'Id': file, 'Category': predicted_class}, ignore_index=True)\n",
            "<ipython-input-17-36c1590347a7>:35: FutureWarning: The frame.append method is deprecated and will be removed from pandas in a future version. Use pandas.concat instead.\n",
            "  df1 = df1.append({'Id': file, 'Category': predicted_class}, ignore_index=True)\n"
          ]
        },
        {
          "name": "stdout",
          "output_type": "stream",
          "text": [
            "1/1 [==============================] - 0s 51ms/step\n",
            "Image: 193.jpg - Predicted Class: 2\n",
            "1/1 [==============================] - 0s 50ms/step\n",
            "Image: 194.jpg - Predicted Class: 0\n"
          ]
        },
        {
          "name": "stderr",
          "output_type": "stream",
          "text": [
            "<ipython-input-17-36c1590347a7>:35: FutureWarning: The frame.append method is deprecated and will be removed from pandas in a future version. Use pandas.concat instead.\n",
            "  df1 = df1.append({'Id': file, 'Category': predicted_class}, ignore_index=True)\n",
            "<ipython-input-17-36c1590347a7>:35: FutureWarning: The frame.append method is deprecated and will be removed from pandas in a future version. Use pandas.concat instead.\n",
            "  df1 = df1.append({'Id': file, 'Category': predicted_class}, ignore_index=True)\n"
          ]
        },
        {
          "name": "stdout",
          "output_type": "stream",
          "text": [
            "1/1 [==============================] - 0s 46ms/step\n",
            "Image: 195.jpg - Predicted Class: 0\n",
            "1/1 [==============================] - 0s 47ms/step\n",
            "Image: 196.jpg - Predicted Class: 2\n"
          ]
        },
        {
          "name": "stderr",
          "output_type": "stream",
          "text": [
            "<ipython-input-17-36c1590347a7>:35: FutureWarning: The frame.append method is deprecated and will be removed from pandas in a future version. Use pandas.concat instead.\n",
            "  df1 = df1.append({'Id': file, 'Category': predicted_class}, ignore_index=True)\n",
            "<ipython-input-17-36c1590347a7>:35: FutureWarning: The frame.append method is deprecated and will be removed from pandas in a future version. Use pandas.concat instead.\n",
            "  df1 = df1.append({'Id': file, 'Category': predicted_class}, ignore_index=True)\n"
          ]
        },
        {
          "name": "stdout",
          "output_type": "stream",
          "text": [
            "1/1 [==============================] - 0s 45ms/step\n",
            "Image: 197.jpg - Predicted Class: 0\n",
            "1/1 [==============================] - 0s 48ms/step\n",
            "Image: 198.jpg - Predicted Class: 1\n"
          ]
        },
        {
          "name": "stderr",
          "output_type": "stream",
          "text": [
            "<ipython-input-17-36c1590347a7>:35: FutureWarning: The frame.append method is deprecated and will be removed from pandas in a future version. Use pandas.concat instead.\n",
            "  df1 = df1.append({'Id': file, 'Category': predicted_class}, ignore_index=True)\n",
            "<ipython-input-17-36c1590347a7>:35: FutureWarning: The frame.append method is deprecated and will be removed from pandas in a future version. Use pandas.concat instead.\n",
            "  df1 = df1.append({'Id': file, 'Category': predicted_class}, ignore_index=True)\n"
          ]
        },
        {
          "name": "stdout",
          "output_type": "stream",
          "text": [
            "1/1 [==============================] - 0s 47ms/step\n",
            "Image: 199.jpg - Predicted Class: 1\n",
            "1/1 [==============================] - 0s 49ms/step\n",
            "Image: 200.jpg - Predicted Class: 3\n"
          ]
        },
        {
          "name": "stderr",
          "output_type": "stream",
          "text": [
            "<ipython-input-17-36c1590347a7>:35: FutureWarning: The frame.append method is deprecated and will be removed from pandas in a future version. Use pandas.concat instead.\n",
            "  df1 = df1.append({'Id': file, 'Category': predicted_class}, ignore_index=True)\n",
            "<ipython-input-17-36c1590347a7>:35: FutureWarning: The frame.append method is deprecated and will be removed from pandas in a future version. Use pandas.concat instead.\n",
            "  df1 = df1.append({'Id': file, 'Category': predicted_class}, ignore_index=True)\n"
          ]
        },
        {
          "name": "stdout",
          "output_type": "stream",
          "text": [
            "1/1 [==============================] - 0s 45ms/step\n",
            "Image: 201.jpg - Predicted Class: 0\n",
            "1/1 [==============================] - 0s 59ms/step\n",
            "Image: 202.jpg - Predicted Class: 1\n"
          ]
        },
        {
          "name": "stderr",
          "output_type": "stream",
          "text": [
            "<ipython-input-17-36c1590347a7>:35: FutureWarning: The frame.append method is deprecated and will be removed from pandas in a future version. Use pandas.concat instead.\n",
            "  df1 = df1.append({'Id': file, 'Category': predicted_class}, ignore_index=True)\n",
            "<ipython-input-17-36c1590347a7>:35: FutureWarning: The frame.append method is deprecated and will be removed from pandas in a future version. Use pandas.concat instead.\n",
            "  df1 = df1.append({'Id': file, 'Category': predicted_class}, ignore_index=True)\n"
          ]
        },
        {
          "name": "stdout",
          "output_type": "stream",
          "text": [
            "1/1 [==============================] - 0s 44ms/step\n",
            "Image: 203.jpg - Predicted Class: 5\n",
            "1/1 [==============================] - 0s 45ms/step\n"
          ]
        },
        {
          "name": "stderr",
          "output_type": "stream",
          "text": [
            "<ipython-input-17-36c1590347a7>:35: FutureWarning: The frame.append method is deprecated and will be removed from pandas in a future version. Use pandas.concat instead.\n",
            "  df1 = df1.append({'Id': file, 'Category': predicted_class}, ignore_index=True)\n",
            "<ipython-input-17-36c1590347a7>:35: FutureWarning: The frame.append method is deprecated and will be removed from pandas in a future version. Use pandas.concat instead.\n",
            "  df1 = df1.append({'Id': file, 'Category': predicted_class}, ignore_index=True)\n"
          ]
        },
        {
          "name": "stdout",
          "output_type": "stream",
          "text": [
            "Image: 204.jpg - Predicted Class: 0\n",
            "1/1 [==============================] - 0s 45ms/step\n",
            "Image: 205.jpg - Predicted Class: 1\n",
            "1/1 [==============================] - 0s 46ms/step\n",
            "Image: 206.jpg - Predicted Class: 5\n"
          ]
        },
        {
          "name": "stderr",
          "output_type": "stream",
          "text": [
            "<ipython-input-17-36c1590347a7>:35: FutureWarning: The frame.append method is deprecated and will be removed from pandas in a future version. Use pandas.concat instead.\n",
            "  df1 = df1.append({'Id': file, 'Category': predicted_class}, ignore_index=True)\n",
            "<ipython-input-17-36c1590347a7>:35: FutureWarning: The frame.append method is deprecated and will be removed from pandas in a future version. Use pandas.concat instead.\n",
            "  df1 = df1.append({'Id': file, 'Category': predicted_class}, ignore_index=True)\n"
          ]
        },
        {
          "name": "stdout",
          "output_type": "stream",
          "text": [
            "1/1 [==============================] - 0s 50ms/step\n",
            "Image: 207.jpg - Predicted Class: 3\n",
            "1/1 [==============================] - 0s 55ms/step\n",
            "Image: 208.jpg - Predicted Class: 1\n"
          ]
        },
        {
          "name": "stderr",
          "output_type": "stream",
          "text": [
            "<ipython-input-17-36c1590347a7>:35: FutureWarning: The frame.append method is deprecated and will be removed from pandas in a future version. Use pandas.concat instead.\n",
            "  df1 = df1.append({'Id': file, 'Category': predicted_class}, ignore_index=True)\n",
            "<ipython-input-17-36c1590347a7>:35: FutureWarning: The frame.append method is deprecated and will be removed from pandas in a future version. Use pandas.concat instead.\n",
            "  df1 = df1.append({'Id': file, 'Category': predicted_class}, ignore_index=True)\n"
          ]
        },
        {
          "name": "stdout",
          "output_type": "stream",
          "text": [
            "1/1 [==============================] - 0s 54ms/step\n",
            "Image: 209.jpg - Predicted Class: 0\n",
            "1/1 [==============================] - 0s 31ms/step\n",
            "Image: 210.jpg - Predicted Class: 5\n"
          ]
        },
        {
          "name": "stderr",
          "output_type": "stream",
          "text": [
            "<ipython-input-17-36c1590347a7>:35: FutureWarning: The frame.append method is deprecated and will be removed from pandas in a future version. Use pandas.concat instead.\n",
            "  df1 = df1.append({'Id': file, 'Category': predicted_class}, ignore_index=True)\n",
            "<ipython-input-17-36c1590347a7>:35: FutureWarning: The frame.append method is deprecated and will be removed from pandas in a future version. Use pandas.concat instead.\n",
            "  df1 = df1.append({'Id': file, 'Category': predicted_class}, ignore_index=True)\n"
          ]
        },
        {
          "name": "stdout",
          "output_type": "stream",
          "text": [
            "1/1 [==============================] - 0s 34ms/step\n",
            "Image: 211.jpg - Predicted Class: 0\n",
            "1/1 [==============================] - 0s 32ms/step\n",
            "Image: 212.jpg - Predicted Class: 5\n",
            "1/1 [==============================] - 0s 33ms/step\n"
          ]
        },
        {
          "name": "stderr",
          "output_type": "stream",
          "text": [
            "<ipython-input-17-36c1590347a7>:35: FutureWarning: The frame.append method is deprecated and will be removed from pandas in a future version. Use pandas.concat instead.\n",
            "  df1 = df1.append({'Id': file, 'Category': predicted_class}, ignore_index=True)\n",
            "<ipython-input-17-36c1590347a7>:35: FutureWarning: The frame.append method is deprecated and will be removed from pandas in a future version. Use pandas.concat instead.\n",
            "  df1 = df1.append({'Id': file, 'Category': predicted_class}, ignore_index=True)\n"
          ]
        },
        {
          "name": "stdout",
          "output_type": "stream",
          "text": [
            "Image: 213.jpg - Predicted Class: 5\n",
            "1/1 [==============================] - 0s 33ms/step\n",
            "Image: 214.jpg - Predicted Class: 1\n"
          ]
        },
        {
          "name": "stderr",
          "output_type": "stream",
          "text": [
            "<ipython-input-17-36c1590347a7>:35: FutureWarning: The frame.append method is deprecated and will be removed from pandas in a future version. Use pandas.concat instead.\n",
            "  df1 = df1.append({'Id': file, 'Category': predicted_class}, ignore_index=True)\n",
            "<ipython-input-17-36c1590347a7>:35: FutureWarning: The frame.append method is deprecated and will be removed from pandas in a future version. Use pandas.concat instead.\n",
            "  df1 = df1.append({'Id': file, 'Category': predicted_class}, ignore_index=True)\n"
          ]
        },
        {
          "name": "stdout",
          "output_type": "stream",
          "text": [
            "1/1 [==============================] - 0s 39ms/step\n",
            "Image: 215.jpg - Predicted Class: 0\n",
            "1/1 [==============================] - 0s 30ms/step\n",
            "Image: 216.jpg - Predicted Class: 5\n",
            "1/1 [==============================] - 0s 31ms/step\n"
          ]
        },
        {
          "name": "stderr",
          "output_type": "stream",
          "text": [
            "<ipython-input-17-36c1590347a7>:35: FutureWarning: The frame.append method is deprecated and will be removed from pandas in a future version. Use pandas.concat instead.\n",
            "  df1 = df1.append({'Id': file, 'Category': predicted_class}, ignore_index=True)\n",
            "<ipython-input-17-36c1590347a7>:35: FutureWarning: The frame.append method is deprecated and will be removed from pandas in a future version. Use pandas.concat instead.\n",
            "  df1 = df1.append({'Id': file, 'Category': predicted_class}, ignore_index=True)\n"
          ]
        },
        {
          "name": "stdout",
          "output_type": "stream",
          "text": [
            "Image: 217.jpg - Predicted Class: 1\n",
            "1/1 [==============================] - 0s 31ms/step\n",
            "Image: 218.jpg - Predicted Class: 3\n"
          ]
        },
        {
          "name": "stderr",
          "output_type": "stream",
          "text": [
            "<ipython-input-17-36c1590347a7>:35: FutureWarning: The frame.append method is deprecated and will be removed from pandas in a future version. Use pandas.concat instead.\n",
            "  df1 = df1.append({'Id': file, 'Category': predicted_class}, ignore_index=True)\n",
            "<ipython-input-17-36c1590347a7>:35: FutureWarning: The frame.append method is deprecated and will be removed from pandas in a future version. Use pandas.concat instead.\n",
            "  df1 = df1.append({'Id': file, 'Category': predicted_class}, ignore_index=True)\n"
          ]
        },
        {
          "name": "stdout",
          "output_type": "stream",
          "text": [
            "1/1 [==============================] - 0s 56ms/step\n",
            "Image: 219.jpg - Predicted Class: 5\n",
            "1/1 [==============================] - 0s 50ms/step\n",
            "Image: 220.jpg - Predicted Class: 0\n"
          ]
        },
        {
          "name": "stderr",
          "output_type": "stream",
          "text": [
            "<ipython-input-17-36c1590347a7>:35: FutureWarning: The frame.append method is deprecated and will be removed from pandas in a future version. Use pandas.concat instead.\n",
            "  df1 = df1.append({'Id': file, 'Category': predicted_class}, ignore_index=True)\n",
            "<ipython-input-17-36c1590347a7>:35: FutureWarning: The frame.append method is deprecated and will be removed from pandas in a future version. Use pandas.concat instead.\n",
            "  df1 = df1.append({'Id': file, 'Category': predicted_class}, ignore_index=True)\n"
          ]
        },
        {
          "name": "stdout",
          "output_type": "stream",
          "text": [
            "1/1 [==============================] - 0s 53ms/step\n",
            "Image: 221.jpg - Predicted Class: 5\n",
            "1/1 [==============================] - 0s 56ms/step\n",
            "Image: 222.jpg - Predicted Class: 2\n"
          ]
        },
        {
          "name": "stderr",
          "output_type": "stream",
          "text": [
            "<ipython-input-17-36c1590347a7>:35: FutureWarning: The frame.append method is deprecated and will be removed from pandas in a future version. Use pandas.concat instead.\n",
            "  df1 = df1.append({'Id': file, 'Category': predicted_class}, ignore_index=True)\n",
            "<ipython-input-17-36c1590347a7>:35: FutureWarning: The frame.append method is deprecated and will be removed from pandas in a future version. Use pandas.concat instead.\n",
            "  df1 = df1.append({'Id': file, 'Category': predicted_class}, ignore_index=True)\n"
          ]
        },
        {
          "name": "stdout",
          "output_type": "stream",
          "text": [
            "1/1 [==============================] - 0s 99ms/step\n",
            "Image: 223.jpg - Predicted Class: 3\n",
            "1/1 [==============================] - 0s 54ms/step\n"
          ]
        },
        {
          "name": "stderr",
          "output_type": "stream",
          "text": [
            "<ipython-input-17-36c1590347a7>:35: FutureWarning: The frame.append method is deprecated and will be removed from pandas in a future version. Use pandas.concat instead.\n",
            "  df1 = df1.append({'Id': file, 'Category': predicted_class}, ignore_index=True)\n",
            "<ipython-input-17-36c1590347a7>:35: FutureWarning: The frame.append method is deprecated and will be removed from pandas in a future version. Use pandas.concat instead.\n",
            "  df1 = df1.append({'Id': file, 'Category': predicted_class}, ignore_index=True)\n"
          ]
        },
        {
          "name": "stdout",
          "output_type": "stream",
          "text": [
            "Image: 224.jpg - Predicted Class: 0\n",
            "1/1 [==============================] - 0s 50ms/step\n",
            "Image: 225.jpg - Predicted Class: 0\n"
          ]
        },
        {
          "name": "stderr",
          "output_type": "stream",
          "text": [
            "<ipython-input-17-36c1590347a7>:35: FutureWarning: The frame.append method is deprecated and will be removed from pandas in a future version. Use pandas.concat instead.\n",
            "  df1 = df1.append({'Id': file, 'Category': predicted_class}, ignore_index=True)\n"
          ]
        },
        {
          "name": "stdout",
          "output_type": "stream",
          "text": [
            "1/1 [==============================] - 0s 124ms/step\n",
            "Image: 226.jpg - Predicted Class: 1\n",
            "1/1 [==============================] - 0s 69ms/step\n"
          ]
        },
        {
          "name": "stderr",
          "output_type": "stream",
          "text": [
            "<ipython-input-17-36c1590347a7>:35: FutureWarning: The frame.append method is deprecated and will be removed from pandas in a future version. Use pandas.concat instead.\n",
            "  df1 = df1.append({'Id': file, 'Category': predicted_class}, ignore_index=True)\n",
            "<ipython-input-17-36c1590347a7>:35: FutureWarning: The frame.append method is deprecated and will be removed from pandas in a future version. Use pandas.concat instead.\n",
            "  df1 = df1.append({'Id': file, 'Category': predicted_class}, ignore_index=True)\n"
          ]
        },
        {
          "name": "stdout",
          "output_type": "stream",
          "text": [
            "Image: 227.jpg - Predicted Class: 0\n",
            "1/1 [==============================] - 0s 58ms/step\n",
            "Image: 228.jpg - Predicted Class: 4\n"
          ]
        },
        {
          "name": "stderr",
          "output_type": "stream",
          "text": [
            "<ipython-input-17-36c1590347a7>:35: FutureWarning: The frame.append method is deprecated and will be removed from pandas in a future version. Use pandas.concat instead.\n",
            "  df1 = df1.append({'Id': file, 'Category': predicted_class}, ignore_index=True)\n"
          ]
        },
        {
          "name": "stdout",
          "output_type": "stream",
          "text": [
            "1/1 [==============================] - 0s 89ms/step\n",
            "Image: 229.jpg - Predicted Class: 3\n",
            "1/1 [==============================] - 0s 51ms/step\n",
            "Image: 230.jpg - Predicted Class: 1\n"
          ]
        },
        {
          "name": "stderr",
          "output_type": "stream",
          "text": [
            "<ipython-input-17-36c1590347a7>:35: FutureWarning: The frame.append method is deprecated and will be removed from pandas in a future version. Use pandas.concat instead.\n",
            "  df1 = df1.append({'Id': file, 'Category': predicted_class}, ignore_index=True)\n",
            "<ipython-input-17-36c1590347a7>:35: FutureWarning: The frame.append method is deprecated and will be removed from pandas in a future version. Use pandas.concat instead.\n",
            "  df1 = df1.append({'Id': file, 'Category': predicted_class}, ignore_index=True)\n"
          ]
        },
        {
          "name": "stdout",
          "output_type": "stream",
          "text": [
            "1/1 [==============================] - 0s 52ms/step\n",
            "Image: 231.jpg - Predicted Class: 2\n"
          ]
        },
        {
          "name": "stderr",
          "output_type": "stream",
          "text": [
            "<ipython-input-17-36c1590347a7>:35: FutureWarning: The frame.append method is deprecated and will be removed from pandas in a future version. Use pandas.concat instead.\n",
            "  df1 = df1.append({'Id': file, 'Category': predicted_class}, ignore_index=True)\n"
          ]
        },
        {
          "name": "stdout",
          "output_type": "stream",
          "text": [
            "1/1 [==============================] - 0s 79ms/step\n",
            "Image: 232.jpg - Predicted Class: 3\n",
            "1/1 [==============================] - 0s 69ms/step\n"
          ]
        },
        {
          "name": "stderr",
          "output_type": "stream",
          "text": [
            "<ipython-input-17-36c1590347a7>:35: FutureWarning: The frame.append method is deprecated and will be removed from pandas in a future version. Use pandas.concat instead.\n",
            "  df1 = df1.append({'Id': file, 'Category': predicted_class}, ignore_index=True)\n",
            "<ipython-input-17-36c1590347a7>:35: FutureWarning: The frame.append method is deprecated and will be removed from pandas in a future version. Use pandas.concat instead.\n",
            "  df1 = df1.append({'Id': file, 'Category': predicted_class}, ignore_index=True)\n"
          ]
        },
        {
          "name": "stdout",
          "output_type": "stream",
          "text": [
            "Image: 233.jpg - Predicted Class: 0\n",
            "1/1 [==============================] - 0s 76ms/step\n",
            "Image: 234.jpg - Predicted Class: 3\n",
            "1/1 [==============================] - 0s 53ms/step\n"
          ]
        },
        {
          "name": "stderr",
          "output_type": "stream",
          "text": [
            "<ipython-input-17-36c1590347a7>:35: FutureWarning: The frame.append method is deprecated and will be removed from pandas in a future version. Use pandas.concat instead.\n",
            "  df1 = df1.append({'Id': file, 'Category': predicted_class}, ignore_index=True)\n"
          ]
        },
        {
          "name": "stdout",
          "output_type": "stream",
          "text": [
            "Image: 235.jpg - Predicted Class: 1\n"
          ]
        },
        {
          "name": "stderr",
          "output_type": "stream",
          "text": [
            "<ipython-input-17-36c1590347a7>:35: FutureWarning: The frame.append method is deprecated and will be removed from pandas in a future version. Use pandas.concat instead.\n",
            "  df1 = df1.append({'Id': file, 'Category': predicted_class}, ignore_index=True)\n"
          ]
        },
        {
          "name": "stdout",
          "output_type": "stream",
          "text": [
            "1/1 [==============================] - 0s 83ms/step\n",
            "Image: 236.jpg - Predicted Class: 0\n",
            "1/1 [==============================] - 0s 72ms/step\n",
            "Image: 237.jpg - Predicted Class: 4\n"
          ]
        },
        {
          "name": "stderr",
          "output_type": "stream",
          "text": [
            "<ipython-input-17-36c1590347a7>:35: FutureWarning: The frame.append method is deprecated and will be removed from pandas in a future version. Use pandas.concat instead.\n",
            "  df1 = df1.append({'Id': file, 'Category': predicted_class}, ignore_index=True)\n",
            "<ipython-input-17-36c1590347a7>:35: FutureWarning: The frame.append method is deprecated and will be removed from pandas in a future version. Use pandas.concat instead.\n",
            "  df1 = df1.append({'Id': file, 'Category': predicted_class}, ignore_index=True)\n"
          ]
        },
        {
          "name": "stdout",
          "output_type": "stream",
          "text": [
            "1/1 [==============================] - 0s 123ms/step\n",
            "Image: 238.jpg - Predicted Class: 3\n",
            "1/1 [==============================] - 0s 98ms/step\n"
          ]
        },
        {
          "name": "stderr",
          "output_type": "stream",
          "text": [
            "<ipython-input-17-36c1590347a7>:35: FutureWarning: The frame.append method is deprecated and will be removed from pandas in a future version. Use pandas.concat instead.\n",
            "  df1 = df1.append({'Id': file, 'Category': predicted_class}, ignore_index=True)\n"
          ]
        },
        {
          "name": "stdout",
          "output_type": "stream",
          "text": [
            "Image: 239.jpg - Predicted Class: 1\n"
          ]
        },
        {
          "name": "stderr",
          "output_type": "stream",
          "text": [
            "<ipython-input-17-36c1590347a7>:35: FutureWarning: The frame.append method is deprecated and will be removed from pandas in a future version. Use pandas.concat instead.\n",
            "  df1 = df1.append({'Id': file, 'Category': predicted_class}, ignore_index=True)\n"
          ]
        },
        {
          "name": "stdout",
          "output_type": "stream",
          "text": [
            "1/1 [==============================] - 0s 169ms/step\n",
            "Image: 240.jpg - Predicted Class: 3\n",
            "1/1 [==============================] - 0s 55ms/step\n"
          ]
        },
        {
          "name": "stderr",
          "output_type": "stream",
          "text": [
            "<ipython-input-17-36c1590347a7>:35: FutureWarning: The frame.append method is deprecated and will be removed from pandas in a future version. Use pandas.concat instead.\n",
            "  df1 = df1.append({'Id': file, 'Category': predicted_class}, ignore_index=True)\n"
          ]
        },
        {
          "name": "stdout",
          "output_type": "stream",
          "text": [
            "Image: 241.jpg - Predicted Class: 4\n"
          ]
        },
        {
          "name": "stderr",
          "output_type": "stream",
          "text": [
            "<ipython-input-17-36c1590347a7>:35: FutureWarning: The frame.append method is deprecated and will be removed from pandas in a future version. Use pandas.concat instead.\n",
            "  df1 = df1.append({'Id': file, 'Category': predicted_class}, ignore_index=True)\n"
          ]
        },
        {
          "name": "stdout",
          "output_type": "stream",
          "text": [
            "1/1 [==============================] - 0s 119ms/step\n",
            "Image: 242.jpg - Predicted Class: 3\n",
            "1/1 [==============================] - 0s 64ms/step\n"
          ]
        },
        {
          "name": "stderr",
          "output_type": "stream",
          "text": [
            "<ipython-input-17-36c1590347a7>:35: FutureWarning: The frame.append method is deprecated and will be removed from pandas in a future version. Use pandas.concat instead.\n",
            "  df1 = df1.append({'Id': file, 'Category': predicted_class}, ignore_index=True)\n",
            "<ipython-input-17-36c1590347a7>:35: FutureWarning: The frame.append method is deprecated and will be removed from pandas in a future version. Use pandas.concat instead.\n",
            "  df1 = df1.append({'Id': file, 'Category': predicted_class}, ignore_index=True)\n"
          ]
        },
        {
          "name": "stdout",
          "output_type": "stream",
          "text": [
            "Image: 243.jpg - Predicted Class: 0\n",
            "1/1 [==============================] - 0s 89ms/step\n",
            "Image: 244.jpg - Predicted Class: 1\n",
            "1/1 [==============================] - 0s 68ms/step\n"
          ]
        },
        {
          "name": "stderr",
          "output_type": "stream",
          "text": [
            "<ipython-input-17-36c1590347a7>:35: FutureWarning: The frame.append method is deprecated and will be removed from pandas in a future version. Use pandas.concat instead.\n",
            "  df1 = df1.append({'Id': file, 'Category': predicted_class}, ignore_index=True)\n",
            "<ipython-input-17-36c1590347a7>:35: FutureWarning: The frame.append method is deprecated and will be removed from pandas in a future version. Use pandas.concat instead.\n",
            "  df1 = df1.append({'Id': file, 'Category': predicted_class}, ignore_index=True)\n"
          ]
        },
        {
          "name": "stdout",
          "output_type": "stream",
          "text": [
            "Image: 245.jpg - Predicted Class: 5\n",
            "1/1 [==============================] - 0s 65ms/step\n",
            "Image: 246.jpg - Predicted Class: 3\n"
          ]
        },
        {
          "name": "stderr",
          "output_type": "stream",
          "text": [
            "<ipython-input-17-36c1590347a7>:35: FutureWarning: The frame.append method is deprecated and will be removed from pandas in a future version. Use pandas.concat instead.\n",
            "  df1 = df1.append({'Id': file, 'Category': predicted_class}, ignore_index=True)\n"
          ]
        },
        {
          "name": "stdout",
          "output_type": "stream",
          "text": [
            "1/1 [==============================] - 0s 85ms/step\n",
            "Image: 247.jpg - Predicted Class: 5\n",
            "1/1 [==============================] - 0s 75ms/step\n",
            "Image: 248.jpg - Predicted Class: 1\n"
          ]
        },
        {
          "name": "stderr",
          "output_type": "stream",
          "text": [
            "<ipython-input-17-36c1590347a7>:35: FutureWarning: The frame.append method is deprecated and will be removed from pandas in a future version. Use pandas.concat instead.\n",
            "  df1 = df1.append({'Id': file, 'Category': predicted_class}, ignore_index=True)\n",
            "<ipython-input-17-36c1590347a7>:35: FutureWarning: The frame.append method is deprecated and will be removed from pandas in a future version. Use pandas.concat instead.\n",
            "  df1 = df1.append({'Id': file, 'Category': predicted_class}, ignore_index=True)\n"
          ]
        },
        {
          "name": "stdout",
          "output_type": "stream",
          "text": [
            "1/1 [==============================] - 0s 31ms/step\n",
            "Image: 249.jpg - Predicted Class: 0\n",
            "1/1 [==============================] - 0s 32ms/step\n",
            "Image: 250.jpg - Predicted Class: 5\n"
          ]
        },
        {
          "name": "stderr",
          "output_type": "stream",
          "text": [
            "<ipython-input-17-36c1590347a7>:35: FutureWarning: The frame.append method is deprecated and will be removed from pandas in a future version. Use pandas.concat instead.\n",
            "  df1 = df1.append({'Id': file, 'Category': predicted_class}, ignore_index=True)\n",
            "<ipython-input-17-36c1590347a7>:35: FutureWarning: The frame.append method is deprecated and will be removed from pandas in a future version. Use pandas.concat instead.\n",
            "  df1 = df1.append({'Id': file, 'Category': predicted_class}, ignore_index=True)\n"
          ]
        },
        {
          "name": "stdout",
          "output_type": "stream",
          "text": [
            "1/1 [==============================] - 0s 36ms/step\n",
            "Image: 251.jpg - Predicted Class: 1\n",
            "1/1 [==============================] - 0s 44ms/step\n",
            "Image: 252.jpg - Predicted Class: 2\n"
          ]
        },
        {
          "name": "stderr",
          "output_type": "stream",
          "text": [
            "<ipython-input-17-36c1590347a7>:35: FutureWarning: The frame.append method is deprecated and will be removed from pandas in a future version. Use pandas.concat instead.\n",
            "  df1 = df1.append({'Id': file, 'Category': predicted_class}, ignore_index=True)\n",
            "<ipython-input-17-36c1590347a7>:35: FutureWarning: The frame.append method is deprecated and will be removed from pandas in a future version. Use pandas.concat instead.\n",
            "  df1 = df1.append({'Id': file, 'Category': predicted_class}, ignore_index=True)\n"
          ]
        },
        {
          "name": "stdout",
          "output_type": "stream",
          "text": [
            "1/1 [==============================] - 0s 37ms/step\n",
            "Image: 253.jpg - Predicted Class: 0\n",
            "1/1 [==============================] - 0s 31ms/step\n",
            "Image: 254.jpg - Predicted Class: 1\n",
            "1/1 [==============================] - 0s 34ms/step\n"
          ]
        },
        {
          "name": "stderr",
          "output_type": "stream",
          "text": [
            "<ipython-input-17-36c1590347a7>:35: FutureWarning: The frame.append method is deprecated and will be removed from pandas in a future version. Use pandas.concat instead.\n",
            "  df1 = df1.append({'Id': file, 'Category': predicted_class}, ignore_index=True)\n",
            "<ipython-input-17-36c1590347a7>:35: FutureWarning: The frame.append method is deprecated and will be removed from pandas in a future version. Use pandas.concat instead.\n",
            "  df1 = df1.append({'Id': file, 'Category': predicted_class}, ignore_index=True)\n",
            "<ipython-input-17-36c1590347a7>:35: FutureWarning: The frame.append method is deprecated and will be removed from pandas in a future version. Use pandas.concat instead.\n",
            "  df1 = df1.append({'Id': file, 'Category': predicted_class}, ignore_index=True)\n"
          ]
        },
        {
          "name": "stdout",
          "output_type": "stream",
          "text": [
            "Image: 255.jpg - Predicted Class: 3\n",
            "1/1 [==============================] - 0s 32ms/step\n",
            "Image: 256.jpg - Predicted Class: 3\n",
            "1/1 [==============================] - 0s 31ms/step\n",
            "Image: 257.jpg - Predicted Class: 0\n"
          ]
        },
        {
          "name": "stderr",
          "output_type": "stream",
          "text": [
            "<ipython-input-17-36c1590347a7>:35: FutureWarning: The frame.append method is deprecated and will be removed from pandas in a future version. Use pandas.concat instead.\n",
            "  df1 = df1.append({'Id': file, 'Category': predicted_class}, ignore_index=True)\n",
            "<ipython-input-17-36c1590347a7>:35: FutureWarning: The frame.append method is deprecated and will be removed from pandas in a future version. Use pandas.concat instead.\n",
            "  df1 = df1.append({'Id': file, 'Category': predicted_class}, ignore_index=True)\n"
          ]
        },
        {
          "name": "stdout",
          "output_type": "stream",
          "text": [
            "1/1 [==============================] - 0s 41ms/step\n",
            "Image: 258.jpg - Predicted Class: 4\n",
            "1/1 [==============================] - 0s 31ms/step\n"
          ]
        },
        {
          "name": "stderr",
          "output_type": "stream",
          "text": [
            "<ipython-input-17-36c1590347a7>:35: FutureWarning: The frame.append method is deprecated and will be removed from pandas in a future version. Use pandas.concat instead.\n",
            "  df1 = df1.append({'Id': file, 'Category': predicted_class}, ignore_index=True)\n"
          ]
        },
        {
          "name": "stdout",
          "output_type": "stream",
          "text": [
            "Image: 259.jpg - Predicted Class: 0\n",
            "1/1 [==============================] - 0s 37ms/step\n",
            "Image: 260.jpg - Predicted Class: 1\n",
            "1/1 [==============================] - 0s 33ms/step\n"
          ]
        },
        {
          "name": "stderr",
          "output_type": "stream",
          "text": [
            "<ipython-input-17-36c1590347a7>:35: FutureWarning: The frame.append method is deprecated and will be removed from pandas in a future version. Use pandas.concat instead.\n",
            "  df1 = df1.append({'Id': file, 'Category': predicted_class}, ignore_index=True)\n",
            "<ipython-input-17-36c1590347a7>:35: FutureWarning: The frame.append method is deprecated and will be removed from pandas in a future version. Use pandas.concat instead.\n",
            "  df1 = df1.append({'Id': file, 'Category': predicted_class}, ignore_index=True)\n"
          ]
        },
        {
          "name": "stdout",
          "output_type": "stream",
          "text": [
            "Image: 261.jpg - Predicted Class: 5\n",
            "1/1 [==============================] - 0s 36ms/step\n",
            "Image: 262.jpg - Predicted Class: 0\n"
          ]
        },
        {
          "name": "stderr",
          "output_type": "stream",
          "text": [
            "<ipython-input-17-36c1590347a7>:35: FutureWarning: The frame.append method is deprecated and will be removed from pandas in a future version. Use pandas.concat instead.\n",
            "  df1 = df1.append({'Id': file, 'Category': predicted_class}, ignore_index=True)\n",
            "<ipython-input-17-36c1590347a7>:35: FutureWarning: The frame.append method is deprecated and will be removed from pandas in a future version. Use pandas.concat instead.\n",
            "  df1 = df1.append({'Id': file, 'Category': predicted_class}, ignore_index=True)\n"
          ]
        },
        {
          "name": "stdout",
          "output_type": "stream",
          "text": [
            "1/1 [==============================] - 0s 38ms/step\n",
            "Image: 263.jpg - Predicted Class: 1\n",
            "1/1 [==============================] - 0s 52ms/step\n",
            "Image: 264.jpg - Predicted Class: 0\n"
          ]
        },
        {
          "name": "stderr",
          "output_type": "stream",
          "text": [
            "<ipython-input-17-36c1590347a7>:35: FutureWarning: The frame.append method is deprecated and will be removed from pandas in a future version. Use pandas.concat instead.\n",
            "  df1 = df1.append({'Id': file, 'Category': predicted_class}, ignore_index=True)\n",
            "<ipython-input-17-36c1590347a7>:35: FutureWarning: The frame.append method is deprecated and will be removed from pandas in a future version. Use pandas.concat instead.\n",
            "  df1 = df1.append({'Id': file, 'Category': predicted_class}, ignore_index=True)\n"
          ]
        },
        {
          "name": "stdout",
          "output_type": "stream",
          "text": [
            "1/1 [==============================] - 0s 50ms/step\n",
            "Image: 265.jpg - Predicted Class: 4\n",
            "1/1 [==============================] - 0s 47ms/step\n",
            "Image: 266.jpg - Predicted Class: 0\n"
          ]
        },
        {
          "name": "stderr",
          "output_type": "stream",
          "text": [
            "<ipython-input-17-36c1590347a7>:35: FutureWarning: The frame.append method is deprecated and will be removed from pandas in a future version. Use pandas.concat instead.\n",
            "  df1 = df1.append({'Id': file, 'Category': predicted_class}, ignore_index=True)\n",
            "<ipython-input-17-36c1590347a7>:35: FutureWarning: The frame.append method is deprecated and will be removed from pandas in a future version. Use pandas.concat instead.\n",
            "  df1 = df1.append({'Id': file, 'Category': predicted_class}, ignore_index=True)\n"
          ]
        },
        {
          "name": "stdout",
          "output_type": "stream",
          "text": [
            "1/1 [==============================] - 0s 45ms/step\n",
            "Image: 267.jpg - Predicted Class: 0\n",
            "1/1 [==============================] - 0s 49ms/step\n",
            "Image: 268.jpg - Predicted Class: 1\n"
          ]
        },
        {
          "name": "stderr",
          "output_type": "stream",
          "text": [
            "<ipython-input-17-36c1590347a7>:35: FutureWarning: The frame.append method is deprecated and will be removed from pandas in a future version. Use pandas.concat instead.\n",
            "  df1 = df1.append({'Id': file, 'Category': predicted_class}, ignore_index=True)\n",
            "<ipython-input-17-36c1590347a7>:35: FutureWarning: The frame.append method is deprecated and will be removed from pandas in a future version. Use pandas.concat instead.\n",
            "  df1 = df1.append({'Id': file, 'Category': predicted_class}, ignore_index=True)\n"
          ]
        },
        {
          "name": "stdout",
          "output_type": "stream",
          "text": [
            "1/1 [==============================] - 0s 49ms/step\n",
            "Image: 269.jpg - Predicted Class: 1\n"
          ]
        },
        {
          "name": "stderr",
          "output_type": "stream",
          "text": [
            "<ipython-input-17-36c1590347a7>:35: FutureWarning: The frame.append method is deprecated and will be removed from pandas in a future version. Use pandas.concat instead.\n",
            "  df1 = df1.append({'Id': file, 'Category': predicted_class}, ignore_index=True)\n"
          ]
        },
        {
          "name": "stdout",
          "output_type": "stream",
          "text": [
            "1/1 [==============================] - 0s 51ms/step\n",
            "Image: 270.jpg - Predicted Class: 4\n",
            "1/1 [==============================] - 0s 45ms/step\n",
            "Image: 271.jpg - Predicted Class: 3\n"
          ]
        },
        {
          "name": "stderr",
          "output_type": "stream",
          "text": [
            "<ipython-input-17-36c1590347a7>:35: FutureWarning: The frame.append method is deprecated and will be removed from pandas in a future version. Use pandas.concat instead.\n",
            "  df1 = df1.append({'Id': file, 'Category': predicted_class}, ignore_index=True)\n",
            "<ipython-input-17-36c1590347a7>:35: FutureWarning: The frame.append method is deprecated and will be removed from pandas in a future version. Use pandas.concat instead.\n",
            "  df1 = df1.append({'Id': file, 'Category': predicted_class}, ignore_index=True)\n"
          ]
        },
        {
          "name": "stdout",
          "output_type": "stream",
          "text": [
            "1/1 [==============================] - 0s 48ms/step\n",
            "Image: 272.jpg - Predicted Class: 5\n",
            "1/1 [==============================] - 0s 45ms/step\n",
            "Image: 273.jpg - Predicted Class: 5\n"
          ]
        },
        {
          "name": "stderr",
          "output_type": "stream",
          "text": [
            "<ipython-input-17-36c1590347a7>:35: FutureWarning: The frame.append method is deprecated and will be removed from pandas in a future version. Use pandas.concat instead.\n",
            "  df1 = df1.append({'Id': file, 'Category': predicted_class}, ignore_index=True)\n",
            "<ipython-input-17-36c1590347a7>:35: FutureWarning: The frame.append method is deprecated and will be removed from pandas in a future version. Use pandas.concat instead.\n",
            "  df1 = df1.append({'Id': file, 'Category': predicted_class}, ignore_index=True)\n"
          ]
        },
        {
          "name": "stdout",
          "output_type": "stream",
          "text": [
            "1/1 [==============================] - 0s 44ms/step\n",
            "Image: 274.jpg - Predicted Class: 3\n",
            "1/1 [==============================] - 0s 44ms/step\n",
            "Image: 275.jpg - Predicted Class: 0\n"
          ]
        },
        {
          "name": "stderr",
          "output_type": "stream",
          "text": [
            "<ipython-input-17-36c1590347a7>:35: FutureWarning: The frame.append method is deprecated and will be removed from pandas in a future version. Use pandas.concat instead.\n",
            "  df1 = df1.append({'Id': file, 'Category': predicted_class}, ignore_index=True)\n",
            "<ipython-input-17-36c1590347a7>:35: FutureWarning: The frame.append method is deprecated and will be removed from pandas in a future version. Use pandas.concat instead.\n",
            "  df1 = df1.append({'Id': file, 'Category': predicted_class}, ignore_index=True)\n"
          ]
        },
        {
          "name": "stdout",
          "output_type": "stream",
          "text": [
            "1/1 [==============================] - 0s 54ms/step\n",
            "Image: 276.jpg - Predicted Class: 3\n",
            "1/1 [==============================] - 0s 44ms/step\n",
            "Image: 277.jpg - Predicted Class: 0\n"
          ]
        },
        {
          "name": "stderr",
          "output_type": "stream",
          "text": [
            "<ipython-input-17-36c1590347a7>:35: FutureWarning: The frame.append method is deprecated and will be removed from pandas in a future version. Use pandas.concat instead.\n",
            "  df1 = df1.append({'Id': file, 'Category': predicted_class}, ignore_index=True)\n",
            "<ipython-input-17-36c1590347a7>:35: FutureWarning: The frame.append method is deprecated and will be removed from pandas in a future version. Use pandas.concat instead.\n",
            "  df1 = df1.append({'Id': file, 'Category': predicted_class}, ignore_index=True)\n"
          ]
        },
        {
          "name": "stdout",
          "output_type": "stream",
          "text": [
            "1/1 [==============================] - 0s 51ms/step\n",
            "Image: 278.jpg - Predicted Class: 5\n"
          ]
        },
        {
          "name": "stderr",
          "output_type": "stream",
          "text": [
            "<ipython-input-17-36c1590347a7>:35: FutureWarning: The frame.append method is deprecated and will be removed from pandas in a future version. Use pandas.concat instead.\n",
            "  df1 = df1.append({'Id': file, 'Category': predicted_class}, ignore_index=True)\n"
          ]
        },
        {
          "name": "stdout",
          "output_type": "stream",
          "text": [
            "1/1 [==============================] - 0s 51ms/step\n",
            "Image: 279.jpg - Predicted Class: 0\n",
            "1/1 [==============================] - 0s 47ms/step\n",
            "Image: 280.jpg - Predicted Class: 2\n"
          ]
        },
        {
          "name": "stderr",
          "output_type": "stream",
          "text": [
            "<ipython-input-17-36c1590347a7>:35: FutureWarning: The frame.append method is deprecated and will be removed from pandas in a future version. Use pandas.concat instead.\n",
            "  df1 = df1.append({'Id': file, 'Category': predicted_class}, ignore_index=True)\n",
            "<ipython-input-17-36c1590347a7>:35: FutureWarning: The frame.append method is deprecated and will be removed from pandas in a future version. Use pandas.concat instead.\n",
            "  df1 = df1.append({'Id': file, 'Category': predicted_class}, ignore_index=True)\n"
          ]
        },
        {
          "name": "stdout",
          "output_type": "stream",
          "text": [
            "1/1 [==============================] - 0s 48ms/step\n",
            "Image: 281.jpg - Predicted Class: 0\n",
            "1/1 [==============================] - 0s 56ms/step\n"
          ]
        },
        {
          "name": "stderr",
          "output_type": "stream",
          "text": [
            "<ipython-input-17-36c1590347a7>:35: FutureWarning: The frame.append method is deprecated and will be removed from pandas in a future version. Use pandas.concat instead.\n",
            "  df1 = df1.append({'Id': file, 'Category': predicted_class}, ignore_index=True)\n",
            "<ipython-input-17-36c1590347a7>:35: FutureWarning: The frame.append method is deprecated and will be removed from pandas in a future version. Use pandas.concat instead.\n",
            "  df1 = df1.append({'Id': file, 'Category': predicted_class}, ignore_index=True)\n"
          ]
        },
        {
          "name": "stdout",
          "output_type": "stream",
          "text": [
            "Image: 282.jpg - Predicted Class: 5\n",
            "1/1 [==============================] - 0s 54ms/step\n",
            "Image: 283.jpg - Predicted Class: 0\n",
            "1/1 [==============================] - 0s 47ms/step\n",
            "Image: 284.jpg - Predicted Class: 5\n"
          ]
        },
        {
          "name": "stderr",
          "output_type": "stream",
          "text": [
            "<ipython-input-17-36c1590347a7>:35: FutureWarning: The frame.append method is deprecated and will be removed from pandas in a future version. Use pandas.concat instead.\n",
            "  df1 = df1.append({'Id': file, 'Category': predicted_class}, ignore_index=True)\n",
            "<ipython-input-17-36c1590347a7>:35: FutureWarning: The frame.append method is deprecated and will be removed from pandas in a future version. Use pandas.concat instead.\n",
            "  df1 = df1.append({'Id': file, 'Category': predicted_class}, ignore_index=True)\n"
          ]
        },
        {
          "name": "stdout",
          "output_type": "stream",
          "text": [
            "1/1 [==============================] - 0s 50ms/step\n",
            "Image: 285.jpg - Predicted Class: 5\n",
            "1/1 [==============================] - 0s 31ms/step\n",
            "Image: 286.jpg - Predicted Class: 3\n"
          ]
        },
        {
          "name": "stderr",
          "output_type": "stream",
          "text": [
            "<ipython-input-17-36c1590347a7>:35: FutureWarning: The frame.append method is deprecated and will be removed from pandas in a future version. Use pandas.concat instead.\n",
            "  df1 = df1.append({'Id': file, 'Category': predicted_class}, ignore_index=True)\n",
            "<ipython-input-17-36c1590347a7>:35: FutureWarning: The frame.append method is deprecated and will be removed from pandas in a future version. Use pandas.concat instead.\n",
            "  df1 = df1.append({'Id': file, 'Category': predicted_class}, ignore_index=True)\n"
          ]
        },
        {
          "name": "stdout",
          "output_type": "stream",
          "text": [
            "1/1 [==============================] - 0s 38ms/step\n",
            "Image: 287.jpg - Predicted Class: 0\n",
            "1/1 [==============================] - 0s 30ms/step\n",
            "Image: 288.jpg - Predicted Class: 0\n"
          ]
        },
        {
          "name": "stderr",
          "output_type": "stream",
          "text": [
            "<ipython-input-17-36c1590347a7>:35: FutureWarning: The frame.append method is deprecated and will be removed from pandas in a future version. Use pandas.concat instead.\n",
            "  df1 = df1.append({'Id': file, 'Category': predicted_class}, ignore_index=True)\n",
            "<ipython-input-17-36c1590347a7>:35: FutureWarning: The frame.append method is deprecated and will be removed from pandas in a future version. Use pandas.concat instead.\n",
            "  df1 = df1.append({'Id': file, 'Category': predicted_class}, ignore_index=True)\n"
          ]
        },
        {
          "name": "stdout",
          "output_type": "stream",
          "text": [
            "1/1 [==============================] - 0s 42ms/step\n",
            "Image: 289.jpg - Predicted Class: 5\n",
            "1/1 [==============================] - 0s 33ms/step\n",
            "Image: 290.jpg - Predicted Class: 1\n"
          ]
        },
        {
          "name": "stderr",
          "output_type": "stream",
          "text": [
            "<ipython-input-17-36c1590347a7>:35: FutureWarning: The frame.append method is deprecated and will be removed from pandas in a future version. Use pandas.concat instead.\n",
            "  df1 = df1.append({'Id': file, 'Category': predicted_class}, ignore_index=True)\n",
            "<ipython-input-17-36c1590347a7>:35: FutureWarning: The frame.append method is deprecated and will be removed from pandas in a future version. Use pandas.concat instead.\n",
            "  df1 = df1.append({'Id': file, 'Category': predicted_class}, ignore_index=True)\n"
          ]
        },
        {
          "name": "stdout",
          "output_type": "stream",
          "text": [
            "1/1 [==============================] - 0s 37ms/step\n",
            "Image: 291.jpg - Predicted Class: 2\n",
            "1/1 [==============================] - 0s 31ms/step\n",
            "Image: 292.jpg - Predicted Class: 5\n"
          ]
        },
        {
          "name": "stderr",
          "output_type": "stream",
          "text": [
            "<ipython-input-17-36c1590347a7>:35: FutureWarning: The frame.append method is deprecated and will be removed from pandas in a future version. Use pandas.concat instead.\n",
            "  df1 = df1.append({'Id': file, 'Category': predicted_class}, ignore_index=True)\n",
            "<ipython-input-17-36c1590347a7>:35: FutureWarning: The frame.append method is deprecated and will be removed from pandas in a future version. Use pandas.concat instead.\n",
            "  df1 = df1.append({'Id': file, 'Category': predicted_class}, ignore_index=True)\n"
          ]
        },
        {
          "name": "stdout",
          "output_type": "stream",
          "text": [
            "1/1 [==============================] - 0s 31ms/step\n",
            "Image: 293.jpg - Predicted Class: 1\n",
            "1/1 [==============================] - 0s 32ms/step\n",
            "Image: 294.jpg - Predicted Class: 3\n",
            "1/1 [==============================] - 0s 41ms/step\n"
          ]
        },
        {
          "name": "stderr",
          "output_type": "stream",
          "text": [
            "<ipython-input-17-36c1590347a7>:35: FutureWarning: The frame.append method is deprecated and will be removed from pandas in a future version. Use pandas.concat instead.\n",
            "  df1 = df1.append({'Id': file, 'Category': predicted_class}, ignore_index=True)\n",
            "<ipython-input-17-36c1590347a7>:35: FutureWarning: The frame.append method is deprecated and will be removed from pandas in a future version. Use pandas.concat instead.\n",
            "  df1 = df1.append({'Id': file, 'Category': predicted_class}, ignore_index=True)\n",
            "<ipython-input-17-36c1590347a7>:35: FutureWarning: The frame.append method is deprecated and will be removed from pandas in a future version. Use pandas.concat instead.\n",
            "  df1 = df1.append({'Id': file, 'Category': predicted_class}, ignore_index=True)\n"
          ]
        },
        {
          "name": "stdout",
          "output_type": "stream",
          "text": [
            "Image: 295.jpg - Predicted Class: 5\n",
            "1/1 [==============================] - 0s 33ms/step\n",
            "Image: 296.jpg - Predicted Class: 1\n",
            "1/1 [==============================] - 0s 44ms/step\n",
            "Image: 297.jpg - Predicted Class: 0\n"
          ]
        },
        {
          "name": "stderr",
          "output_type": "stream",
          "text": [
            "<ipython-input-17-36c1590347a7>:35: FutureWarning: The frame.append method is deprecated and will be removed from pandas in a future version. Use pandas.concat instead.\n",
            "  df1 = df1.append({'Id': file, 'Category': predicted_class}, ignore_index=True)\n",
            "<ipython-input-17-36c1590347a7>:35: FutureWarning: The frame.append method is deprecated and will be removed from pandas in a future version. Use pandas.concat instead.\n",
            "  df1 = df1.append({'Id': file, 'Category': predicted_class}, ignore_index=True)\n"
          ]
        },
        {
          "name": "stdout",
          "output_type": "stream",
          "text": [
            "1/1 [==============================] - 0s 34ms/step\n",
            "Image: 298.jpg - Predicted Class: 0\n",
            "1/1 [==============================] - 0s 37ms/step\n",
            "Image: 299.jpg - Predicted Class: 1\n"
          ]
        },
        {
          "name": "stderr",
          "output_type": "stream",
          "text": [
            "<ipython-input-17-36c1590347a7>:35: FutureWarning: The frame.append method is deprecated and will be removed from pandas in a future version. Use pandas.concat instead.\n",
            "  df1 = df1.append({'Id': file, 'Category': predicted_class}, ignore_index=True)\n",
            "<ipython-input-17-36c1590347a7>:35: FutureWarning: The frame.append method is deprecated and will be removed from pandas in a future version. Use pandas.concat instead.\n",
            "  df1 = df1.append({'Id': file, 'Category': predicted_class}, ignore_index=True)\n"
          ]
        },
        {
          "name": "stdout",
          "output_type": "stream",
          "text": [
            "1/1 [==============================] - 0s 33ms/step\n",
            "Image: 300.jpg - Predicted Class: 0\n",
            "1/1 [==============================] - 0s 31ms/step\n",
            "Image: 301.jpg - Predicted Class: 0\n",
            "1/1 [==============================] - 0s 32ms/step\n"
          ]
        },
        {
          "name": "stderr",
          "output_type": "stream",
          "text": [
            "<ipython-input-17-36c1590347a7>:35: FutureWarning: The frame.append method is deprecated and will be removed from pandas in a future version. Use pandas.concat instead.\n",
            "  df1 = df1.append({'Id': file, 'Category': predicted_class}, ignore_index=True)\n",
            "<ipython-input-17-36c1590347a7>:35: FutureWarning: The frame.append method is deprecated and will be removed from pandas in a future version. Use pandas.concat instead.\n",
            "  df1 = df1.append({'Id': file, 'Category': predicted_class}, ignore_index=True)\n"
          ]
        },
        {
          "name": "stdout",
          "output_type": "stream",
          "text": [
            "Image: 302.jpg - Predicted Class: 1\n",
            "1/1 [==============================] - 0s 33ms/step\n",
            "Image: 303.jpg - Predicted Class: 5\n"
          ]
        },
        {
          "name": "stderr",
          "output_type": "stream",
          "text": [
            "<ipython-input-17-36c1590347a7>:35: FutureWarning: The frame.append method is deprecated and will be removed from pandas in a future version. Use pandas.concat instead.\n",
            "  df1 = df1.append({'Id': file, 'Category': predicted_class}, ignore_index=True)\n",
            "<ipython-input-17-36c1590347a7>:35: FutureWarning: The frame.append method is deprecated and will be removed from pandas in a future version. Use pandas.concat instead.\n",
            "  df1 = df1.append({'Id': file, 'Category': predicted_class}, ignore_index=True)\n"
          ]
        },
        {
          "name": "stdout",
          "output_type": "stream",
          "text": [
            "1/1 [==============================] - 0s 36ms/step\n",
            "Image: 304.jpg - Predicted Class: 0\n",
            "1/1 [==============================] - 0s 31ms/step\n",
            "Image: 305.jpg - Predicted Class: 5\n"
          ]
        },
        {
          "name": "stderr",
          "output_type": "stream",
          "text": [
            "<ipython-input-17-36c1590347a7>:35: FutureWarning: The frame.append method is deprecated and will be removed from pandas in a future version. Use pandas.concat instead.\n",
            "  df1 = df1.append({'Id': file, 'Category': predicted_class}, ignore_index=True)\n",
            "<ipython-input-17-36c1590347a7>:35: FutureWarning: The frame.append method is deprecated and will be removed from pandas in a future version. Use pandas.concat instead.\n",
            "  df1 = df1.append({'Id': file, 'Category': predicted_class}, ignore_index=True)\n"
          ]
        },
        {
          "name": "stdout",
          "output_type": "stream",
          "text": [
            "1/1 [==============================] - 0s 36ms/step\n",
            "Image: 306.jpg - Predicted Class: 1\n",
            "1/1 [==============================] - 0s 35ms/step\n",
            "Image: 307.jpg - Predicted Class: 5\n",
            "1/1 [==============================] - 0s 35ms/step\n"
          ]
        },
        {
          "name": "stderr",
          "output_type": "stream",
          "text": [
            "<ipython-input-17-36c1590347a7>:35: FutureWarning: The frame.append method is deprecated and will be removed from pandas in a future version. Use pandas.concat instead.\n",
            "  df1 = df1.append({'Id': file, 'Category': predicted_class}, ignore_index=True)\n",
            "<ipython-input-17-36c1590347a7>:35: FutureWarning: The frame.append method is deprecated and will be removed from pandas in a future version. Use pandas.concat instead.\n",
            "  df1 = df1.append({'Id': file, 'Category': predicted_class}, ignore_index=True)\n"
          ]
        },
        {
          "name": "stdout",
          "output_type": "stream",
          "text": [
            "Image: 308.jpg - Predicted Class: 3\n",
            "1/1 [==============================] - 0s 33ms/step\n",
            "Image: 309.jpg - Predicted Class: 3\n",
            "1/1 [==============================] - 0s 30ms/step\n"
          ]
        },
        {
          "name": "stderr",
          "output_type": "stream",
          "text": [
            "<ipython-input-17-36c1590347a7>:35: FutureWarning: The frame.append method is deprecated and will be removed from pandas in a future version. Use pandas.concat instead.\n",
            "  df1 = df1.append({'Id': file, 'Category': predicted_class}, ignore_index=True)\n",
            "<ipython-input-17-36c1590347a7>:35: FutureWarning: The frame.append method is deprecated and will be removed from pandas in a future version. Use pandas.concat instead.\n",
            "  df1 = df1.append({'Id': file, 'Category': predicted_class}, ignore_index=True)\n",
            "<ipython-input-17-36c1590347a7>:35: FutureWarning: The frame.append method is deprecated and will be removed from pandas in a future version. Use pandas.concat instead.\n",
            "  df1 = df1.append({'Id': file, 'Category': predicted_class}, ignore_index=True)\n"
          ]
        },
        {
          "name": "stdout",
          "output_type": "stream",
          "text": [
            "Image: 310.jpg - Predicted Class: 3\n",
            "1/1 [==============================] - 0s 30ms/step\n",
            "Image: 311.jpg - Predicted Class: 1\n",
            "1/1 [==============================] - 0s 31ms/step\n"
          ]
        },
        {
          "name": "stderr",
          "output_type": "stream",
          "text": [
            "<ipython-input-17-36c1590347a7>:35: FutureWarning: The frame.append method is deprecated and will be removed from pandas in a future version. Use pandas.concat instead.\n",
            "  df1 = df1.append({'Id': file, 'Category': predicted_class}, ignore_index=True)\n",
            "<ipython-input-17-36c1590347a7>:35: FutureWarning: The frame.append method is deprecated and will be removed from pandas in a future version. Use pandas.concat instead.\n",
            "  df1 = df1.append({'Id': file, 'Category': predicted_class}, ignore_index=True)\n"
          ]
        },
        {
          "name": "stdout",
          "output_type": "stream",
          "text": [
            "Image: 312.jpg - Predicted Class: 1\n",
            "1/1 [==============================] - 0s 31ms/step\n",
            "Image: 313.jpg - Predicted Class: 3\n",
            "1/1 [==============================] - 0s 30ms/step\n",
            "Image: 314.jpg - Predicted Class: 1\n"
          ]
        },
        {
          "name": "stderr",
          "output_type": "stream",
          "text": [
            "<ipython-input-17-36c1590347a7>:35: FutureWarning: The frame.append method is deprecated and will be removed from pandas in a future version. Use pandas.concat instead.\n",
            "  df1 = df1.append({'Id': file, 'Category': predicted_class}, ignore_index=True)\n",
            "<ipython-input-17-36c1590347a7>:35: FutureWarning: The frame.append method is deprecated and will be removed from pandas in a future version. Use pandas.concat instead.\n",
            "  df1 = df1.append({'Id': file, 'Category': predicted_class}, ignore_index=True)\n"
          ]
        },
        {
          "name": "stdout",
          "output_type": "stream",
          "text": [
            "1/1 [==============================] - 0s 39ms/step\n",
            "Image: 315.jpg - Predicted Class: 0\n",
            "1/1 [==============================] - 0s 30ms/step\n",
            "Image: 316.jpg - Predicted Class: 0\n",
            "1/1 [==============================] - 0s 36ms/step\n"
          ]
        },
        {
          "name": "stderr",
          "output_type": "stream",
          "text": [
            "<ipython-input-17-36c1590347a7>:35: FutureWarning: The frame.append method is deprecated and will be removed from pandas in a future version. Use pandas.concat instead.\n",
            "  df1 = df1.append({'Id': file, 'Category': predicted_class}, ignore_index=True)\n",
            "<ipython-input-17-36c1590347a7>:35: FutureWarning: The frame.append method is deprecated and will be removed from pandas in a future version. Use pandas.concat instead.\n",
            "  df1 = df1.append({'Id': file, 'Category': predicted_class}, ignore_index=True)\n"
          ]
        },
        {
          "name": "stdout",
          "output_type": "stream",
          "text": [
            "Image: 317.jpg - Predicted Class: 2\n",
            "1/1 [==============================] - 0s 34ms/step\n",
            "Image: 318.jpg - Predicted Class: 3\n",
            "1/1 [==============================] - 0s 38ms/step\n"
          ]
        },
        {
          "name": "stderr",
          "output_type": "stream",
          "text": [
            "<ipython-input-17-36c1590347a7>:35: FutureWarning: The frame.append method is deprecated and will be removed from pandas in a future version. Use pandas.concat instead.\n",
            "  df1 = df1.append({'Id': file, 'Category': predicted_class}, ignore_index=True)\n",
            "<ipython-input-17-36c1590347a7>:35: FutureWarning: The frame.append method is deprecated and will be removed from pandas in a future version. Use pandas.concat instead.\n",
            "  df1 = df1.append({'Id': file, 'Category': predicted_class}, ignore_index=True)\n"
          ]
        },
        {
          "name": "stdout",
          "output_type": "stream",
          "text": [
            "Image: 319.jpg - Predicted Class: 2\n",
            "1/1 [==============================] - 0s 33ms/step\n",
            "Image: 320.jpg - Predicted Class: 4\n"
          ]
        },
        {
          "name": "stderr",
          "output_type": "stream",
          "text": [
            "<ipython-input-17-36c1590347a7>:35: FutureWarning: The frame.append method is deprecated and will be removed from pandas in a future version. Use pandas.concat instead.\n",
            "  df1 = df1.append({'Id': file, 'Category': predicted_class}, ignore_index=True)\n",
            "<ipython-input-17-36c1590347a7>:35: FutureWarning: The frame.append method is deprecated and will be removed from pandas in a future version. Use pandas.concat instead.\n",
            "  df1 = df1.append({'Id': file, 'Category': predicted_class}, ignore_index=True)\n"
          ]
        },
        {
          "name": "stdout",
          "output_type": "stream",
          "text": [
            "1/1 [==============================] - 0s 37ms/step\n",
            "Image: 321.jpg - Predicted Class: 1\n",
            "1/1 [==============================] - 0s 32ms/step\n",
            "Image: 322.jpg - Predicted Class: 3\n"
          ]
        },
        {
          "name": "stderr",
          "output_type": "stream",
          "text": [
            "<ipython-input-17-36c1590347a7>:35: FutureWarning: The frame.append method is deprecated and will be removed from pandas in a future version. Use pandas.concat instead.\n",
            "  df1 = df1.append({'Id': file, 'Category': predicted_class}, ignore_index=True)\n",
            "<ipython-input-17-36c1590347a7>:35: FutureWarning: The frame.append method is deprecated and will be removed from pandas in a future version. Use pandas.concat instead.\n",
            "  df1 = df1.append({'Id': file, 'Category': predicted_class}, ignore_index=True)\n"
          ]
        },
        {
          "name": "stdout",
          "output_type": "stream",
          "text": [
            "1/1 [==============================] - 0s 39ms/step\n",
            "Image: 323.jpg - Predicted Class: 1\n",
            "1/1 [==============================] - 0s 32ms/step\n",
            "Image: 324.jpg - Predicted Class: 5\n"
          ]
        },
        {
          "name": "stderr",
          "output_type": "stream",
          "text": [
            "<ipython-input-17-36c1590347a7>:35: FutureWarning: The frame.append method is deprecated and will be removed from pandas in a future version. Use pandas.concat instead.\n",
            "  df1 = df1.append({'Id': file, 'Category': predicted_class}, ignore_index=True)\n",
            "<ipython-input-17-36c1590347a7>:35: FutureWarning: The frame.append method is deprecated and will be removed from pandas in a future version. Use pandas.concat instead.\n",
            "  df1 = df1.append({'Id': file, 'Category': predicted_class}, ignore_index=True)\n"
          ]
        },
        {
          "name": "stdout",
          "output_type": "stream",
          "text": [
            "1/1 [==============================] - 0s 38ms/step\n",
            "Image: 325.jpg - Predicted Class: 1\n",
            "1/1 [==============================] - 0s 35ms/step\n",
            "Image: 326.jpg - Predicted Class: 5\n"
          ]
        },
        {
          "name": "stderr",
          "output_type": "stream",
          "text": [
            "<ipython-input-17-36c1590347a7>:35: FutureWarning: The frame.append method is deprecated and will be removed from pandas in a future version. Use pandas.concat instead.\n",
            "  df1 = df1.append({'Id': file, 'Category': predicted_class}, ignore_index=True)\n",
            "<ipython-input-17-36c1590347a7>:35: FutureWarning: The frame.append method is deprecated and will be removed from pandas in a future version. Use pandas.concat instead.\n",
            "  df1 = df1.append({'Id': file, 'Category': predicted_class}, ignore_index=True)\n"
          ]
        },
        {
          "name": "stdout",
          "output_type": "stream",
          "text": [
            "1/1 [==============================] - 0s 34ms/step\n",
            "Image: 327.jpg - Predicted Class: 5\n",
            "1/1 [==============================] - 0s 33ms/step\n",
            "Image: 328.jpg - Predicted Class: 1\n"
          ]
        },
        {
          "name": "stderr",
          "output_type": "stream",
          "text": [
            "<ipython-input-17-36c1590347a7>:35: FutureWarning: The frame.append method is deprecated and will be removed from pandas in a future version. Use pandas.concat instead.\n",
            "  df1 = df1.append({'Id': file, 'Category': predicted_class}, ignore_index=True)\n",
            "<ipython-input-17-36c1590347a7>:35: FutureWarning: The frame.append method is deprecated and will be removed from pandas in a future version. Use pandas.concat instead.\n",
            "  df1 = df1.append({'Id': file, 'Category': predicted_class}, ignore_index=True)\n"
          ]
        },
        {
          "name": "stdout",
          "output_type": "stream",
          "text": [
            "1/1 [==============================] - 0s 42ms/step\n",
            "Image: 329.jpg - Predicted Class: 5\n",
            "1/1 [==============================] - 0s 31ms/step\n",
            "Image: 330.jpg - Predicted Class: 0\n"
          ]
        },
        {
          "name": "stderr",
          "output_type": "stream",
          "text": [
            "<ipython-input-17-36c1590347a7>:35: FutureWarning: The frame.append method is deprecated and will be removed from pandas in a future version. Use pandas.concat instead.\n",
            "  df1 = df1.append({'Id': file, 'Category': predicted_class}, ignore_index=True)\n",
            "<ipython-input-17-36c1590347a7>:35: FutureWarning: The frame.append method is deprecated and will be removed from pandas in a future version. Use pandas.concat instead.\n",
            "  df1 = df1.append({'Id': file, 'Category': predicted_class}, ignore_index=True)\n"
          ]
        },
        {
          "name": "stdout",
          "output_type": "stream",
          "text": [
            "1/1 [==============================] - 0s 32ms/step\n",
            "Image: 331.jpg - Predicted Class: 5\n",
            "1/1 [==============================] - 0s 30ms/step\n",
            "Image: 332.jpg - Predicted Class: 5\n"
          ]
        },
        {
          "name": "stderr",
          "output_type": "stream",
          "text": [
            "<ipython-input-17-36c1590347a7>:35: FutureWarning: The frame.append method is deprecated and will be removed from pandas in a future version. Use pandas.concat instead.\n",
            "  df1 = df1.append({'Id': file, 'Category': predicted_class}, ignore_index=True)\n",
            "<ipython-input-17-36c1590347a7>:35: FutureWarning: The frame.append method is deprecated and will be removed from pandas in a future version. Use pandas.concat instead.\n",
            "  df1 = df1.append({'Id': file, 'Category': predicted_class}, ignore_index=True)\n"
          ]
        },
        {
          "name": "stdout",
          "output_type": "stream",
          "text": [
            "1/1 [==============================] - 0s 31ms/step\n",
            "Image: 333.jpg - Predicted Class: 0\n",
            "1/1 [==============================] - 0s 30ms/step\n",
            "Image: 334.jpg - Predicted Class: 2\n"
          ]
        },
        {
          "name": "stderr",
          "output_type": "stream",
          "text": [
            "<ipython-input-17-36c1590347a7>:35: FutureWarning: The frame.append method is deprecated and will be removed from pandas in a future version. Use pandas.concat instead.\n",
            "  df1 = df1.append({'Id': file, 'Category': predicted_class}, ignore_index=True)\n",
            "<ipython-input-17-36c1590347a7>:35: FutureWarning: The frame.append method is deprecated and will be removed from pandas in a future version. Use pandas.concat instead.\n",
            "  df1 = df1.append({'Id': file, 'Category': predicted_class}, ignore_index=True)\n"
          ]
        },
        {
          "name": "stdout",
          "output_type": "stream",
          "text": [
            "1/1 [==============================] - 0s 36ms/step\n",
            "Image: 335.jpg - Predicted Class: 4\n",
            "1/1 [==============================] - 0s 33ms/step\n",
            "Image: 336.jpg - Predicted Class: 3\n",
            "1/1 [==============================] - 0s 30ms/step\n"
          ]
        },
        {
          "name": "stderr",
          "output_type": "stream",
          "text": [
            "<ipython-input-17-36c1590347a7>:35: FutureWarning: The frame.append method is deprecated and will be removed from pandas in a future version. Use pandas.concat instead.\n",
            "  df1 = df1.append({'Id': file, 'Category': predicted_class}, ignore_index=True)\n",
            "<ipython-input-17-36c1590347a7>:35: FutureWarning: The frame.append method is deprecated and will be removed from pandas in a future version. Use pandas.concat instead.\n",
            "  df1 = df1.append({'Id': file, 'Category': predicted_class}, ignore_index=True)\n"
          ]
        },
        {
          "name": "stdout",
          "output_type": "stream",
          "text": [
            "Image: 337.jpg - Predicted Class: 1\n",
            "1/1 [==============================] - 0s 32ms/step\n",
            "Image: 338.jpg - Predicted Class: 0\n",
            "1/1 [==============================] - 0s 35ms/step\n"
          ]
        },
        {
          "name": "stderr",
          "output_type": "stream",
          "text": [
            "<ipython-input-17-36c1590347a7>:35: FutureWarning: The frame.append method is deprecated and will be removed from pandas in a future version. Use pandas.concat instead.\n",
            "  df1 = df1.append({'Id': file, 'Category': predicted_class}, ignore_index=True)\n",
            "<ipython-input-17-36c1590347a7>:35: FutureWarning: The frame.append method is deprecated and will be removed from pandas in a future version. Use pandas.concat instead.\n",
            "  df1 = df1.append({'Id': file, 'Category': predicted_class}, ignore_index=True)\n"
          ]
        },
        {
          "name": "stdout",
          "output_type": "stream",
          "text": [
            "Image: 339.jpg - Predicted Class: 0\n",
            "1/1 [==============================] - 0s 51ms/step\n",
            "Image: 340.jpg - Predicted Class: 1\n"
          ]
        },
        {
          "name": "stderr",
          "output_type": "stream",
          "text": [
            "<ipython-input-17-36c1590347a7>:35: FutureWarning: The frame.append method is deprecated and will be removed from pandas in a future version. Use pandas.concat instead.\n",
            "  df1 = df1.append({'Id': file, 'Category': predicted_class}, ignore_index=True)\n",
            "<ipython-input-17-36c1590347a7>:35: FutureWarning: The frame.append method is deprecated and will be removed from pandas in a future version. Use pandas.concat instead.\n",
            "  df1 = df1.append({'Id': file, 'Category': predicted_class}, ignore_index=True)\n"
          ]
        },
        {
          "name": "stdout",
          "output_type": "stream",
          "text": [
            "1/1 [==============================] - 0s 33ms/step\n",
            "Image: 341.jpg - Predicted Class: 0\n",
            "1/1 [==============================] - 0s 31ms/step\n",
            "Image: 342.jpg - Predicted Class: 5\n"
          ]
        },
        {
          "name": "stderr",
          "output_type": "stream",
          "text": [
            "<ipython-input-17-36c1590347a7>:35: FutureWarning: The frame.append method is deprecated and will be removed from pandas in a future version. Use pandas.concat instead.\n",
            "  df1 = df1.append({'Id': file, 'Category': predicted_class}, ignore_index=True)\n",
            "<ipython-input-17-36c1590347a7>:35: FutureWarning: The frame.append method is deprecated and will be removed from pandas in a future version. Use pandas.concat instead.\n",
            "  df1 = df1.append({'Id': file, 'Category': predicted_class}, ignore_index=True)\n"
          ]
        },
        {
          "name": "stdout",
          "output_type": "stream",
          "text": [
            "1/1 [==============================] - 0s 32ms/step\n",
            "Image: 343.jpg - Predicted Class: 0\n",
            "1/1 [==============================] - 0s 31ms/step\n",
            "Image: 344.jpg - Predicted Class: 2\n",
            "1/1 [==============================] - 0s 42ms/step\n"
          ]
        },
        {
          "name": "stderr",
          "output_type": "stream",
          "text": [
            "<ipython-input-17-36c1590347a7>:35: FutureWarning: The frame.append method is deprecated and will be removed from pandas in a future version. Use pandas.concat instead.\n",
            "  df1 = df1.append({'Id': file, 'Category': predicted_class}, ignore_index=True)\n",
            "<ipython-input-17-36c1590347a7>:35: FutureWarning: The frame.append method is deprecated and will be removed from pandas in a future version. Use pandas.concat instead.\n",
            "  df1 = df1.append({'Id': file, 'Category': predicted_class}, ignore_index=True)\n"
          ]
        },
        {
          "name": "stdout",
          "output_type": "stream",
          "text": [
            "Image: 345.jpg - Predicted Class: 1\n",
            "1/1 [==============================] - 0s 37ms/step\n",
            "Image: 346.jpg - Predicted Class: 0\n"
          ]
        },
        {
          "name": "stderr",
          "output_type": "stream",
          "text": [
            "<ipython-input-17-36c1590347a7>:35: FutureWarning: The frame.append method is deprecated and will be removed from pandas in a future version. Use pandas.concat instead.\n",
            "  df1 = df1.append({'Id': file, 'Category': predicted_class}, ignore_index=True)\n",
            "<ipython-input-17-36c1590347a7>:35: FutureWarning: The frame.append method is deprecated and will be removed from pandas in a future version. Use pandas.concat instead.\n",
            "  df1 = df1.append({'Id': file, 'Category': predicted_class}, ignore_index=True)\n"
          ]
        },
        {
          "name": "stdout",
          "output_type": "stream",
          "text": [
            "1/1 [==============================] - 0s 47ms/step\n",
            "Image: 347.jpg - Predicted Class: 0\n",
            "1/1 [==============================] - 0s 31ms/step\n",
            "Image: 348.jpg - Predicted Class: 0\n"
          ]
        },
        {
          "name": "stderr",
          "output_type": "stream",
          "text": [
            "<ipython-input-17-36c1590347a7>:35: FutureWarning: The frame.append method is deprecated and will be removed from pandas in a future version. Use pandas.concat instead.\n",
            "  df1 = df1.append({'Id': file, 'Category': predicted_class}, ignore_index=True)\n",
            "<ipython-input-17-36c1590347a7>:35: FutureWarning: The frame.append method is deprecated and will be removed from pandas in a future version. Use pandas.concat instead.\n",
            "  df1 = df1.append({'Id': file, 'Category': predicted_class}, ignore_index=True)\n"
          ]
        },
        {
          "name": "stdout",
          "output_type": "stream",
          "text": [
            "1/1 [==============================] - 0s 33ms/step\n",
            "Image: 349.jpg - Predicted Class: 5\n",
            "1/1 [==============================] - 0s 33ms/step\n",
            "Image: 350.jpg - Predicted Class: 5\n"
          ]
        },
        {
          "name": "stderr",
          "output_type": "stream",
          "text": [
            "<ipython-input-17-36c1590347a7>:35: FutureWarning: The frame.append method is deprecated and will be removed from pandas in a future version. Use pandas.concat instead.\n",
            "  df1 = df1.append({'Id': file, 'Category': predicted_class}, ignore_index=True)\n",
            "<ipython-input-17-36c1590347a7>:35: FutureWarning: The frame.append method is deprecated and will be removed from pandas in a future version. Use pandas.concat instead.\n",
            "  df1 = df1.append({'Id': file, 'Category': predicted_class}, ignore_index=True)\n"
          ]
        },
        {
          "name": "stdout",
          "output_type": "stream",
          "text": [
            "1/1 [==============================] - 0s 34ms/step\n",
            "Image: 351.jpg - Predicted Class: 0\n",
            "1/1 [==============================] - 0s 32ms/step\n",
            "Image: 352.jpg - Predicted Class: 2\n"
          ]
        },
        {
          "name": "stderr",
          "output_type": "stream",
          "text": [
            "<ipython-input-17-36c1590347a7>:35: FutureWarning: The frame.append method is deprecated and will be removed from pandas in a future version. Use pandas.concat instead.\n",
            "  df1 = df1.append({'Id': file, 'Category': predicted_class}, ignore_index=True)\n",
            "<ipython-input-17-36c1590347a7>:35: FutureWarning: The frame.append method is deprecated and will be removed from pandas in a future version. Use pandas.concat instead.\n",
            "  df1 = df1.append({'Id': file, 'Category': predicted_class}, ignore_index=True)\n"
          ]
        },
        {
          "name": "stdout",
          "output_type": "stream",
          "text": [
            "1/1 [==============================] - 0s 35ms/step\n",
            "Image: 353.jpg - Predicted Class: 1\n",
            "1/1 [==============================] - 0s 32ms/step\n",
            "Image: 354.jpg - Predicted Class: 5\n"
          ]
        },
        {
          "name": "stderr",
          "output_type": "stream",
          "text": [
            "<ipython-input-17-36c1590347a7>:35: FutureWarning: The frame.append method is deprecated and will be removed from pandas in a future version. Use pandas.concat instead.\n",
            "  df1 = df1.append({'Id': file, 'Category': predicted_class}, ignore_index=True)\n",
            "<ipython-input-17-36c1590347a7>:35: FutureWarning: The frame.append method is deprecated and will be removed from pandas in a future version. Use pandas.concat instead.\n",
            "  df1 = df1.append({'Id': file, 'Category': predicted_class}, ignore_index=True)\n"
          ]
        },
        {
          "name": "stdout",
          "output_type": "stream",
          "text": [
            "1/1 [==============================] - 0s 36ms/step\n",
            "Image: 355.jpg - Predicted Class: 3\n",
            "1/1 [==============================] - 0s 31ms/step\n"
          ]
        },
        {
          "name": "stderr",
          "output_type": "stream",
          "text": [
            "<ipython-input-17-36c1590347a7>:35: FutureWarning: The frame.append method is deprecated and will be removed from pandas in a future version. Use pandas.concat instead.\n",
            "  df1 = df1.append({'Id': file, 'Category': predicted_class}, ignore_index=True)\n",
            "<ipython-input-17-36c1590347a7>:35: FutureWarning: The frame.append method is deprecated and will be removed from pandas in a future version. Use pandas.concat instead.\n",
            "  df1 = df1.append({'Id': file, 'Category': predicted_class}, ignore_index=True)\n"
          ]
        },
        {
          "name": "stdout",
          "output_type": "stream",
          "text": [
            "Image: 356.jpg - Predicted Class: 3\n",
            "1/1 [==============================] - 0s 34ms/step\n",
            "Image: 357.jpg - Predicted Class: 1\n",
            "1/1 [==============================] - 0s 34ms/step\n",
            "Image: 358.jpg - Predicted Class: 3\n"
          ]
        },
        {
          "name": "stderr",
          "output_type": "stream",
          "text": [
            "<ipython-input-17-36c1590347a7>:35: FutureWarning: The frame.append method is deprecated and will be removed from pandas in a future version. Use pandas.concat instead.\n",
            "  df1 = df1.append({'Id': file, 'Category': predicted_class}, ignore_index=True)\n",
            "<ipython-input-17-36c1590347a7>:35: FutureWarning: The frame.append method is deprecated and will be removed from pandas in a future version. Use pandas.concat instead.\n",
            "  df1 = df1.append({'Id': file, 'Category': predicted_class}, ignore_index=True)\n"
          ]
        },
        {
          "name": "stdout",
          "output_type": "stream",
          "text": [
            "1/1 [==============================] - 0s 33ms/step\n",
            "Image: 359.jpg - Predicted Class: 5\n",
            "1/1 [==============================] - 0s 31ms/step\n",
            "Image: 360.jpg - Predicted Class: 2\n"
          ]
        },
        {
          "name": "stderr",
          "output_type": "stream",
          "text": [
            "<ipython-input-17-36c1590347a7>:35: FutureWarning: The frame.append method is deprecated and will be removed from pandas in a future version. Use pandas.concat instead.\n",
            "  df1 = df1.append({'Id': file, 'Category': predicted_class}, ignore_index=True)\n",
            "<ipython-input-17-36c1590347a7>:35: FutureWarning: The frame.append method is deprecated and will be removed from pandas in a future version. Use pandas.concat instead.\n",
            "  df1 = df1.append({'Id': file, 'Category': predicted_class}, ignore_index=True)\n"
          ]
        },
        {
          "name": "stdout",
          "output_type": "stream",
          "text": [
            "1/1 [==============================] - 0s 72ms/step\n",
            "Image: 361.jpg - Predicted Class: 2\n",
            "1/1 [==============================] - 0s 49ms/step\n"
          ]
        },
        {
          "name": "stderr",
          "output_type": "stream",
          "text": [
            "<ipython-input-17-36c1590347a7>:35: FutureWarning: The frame.append method is deprecated and will be removed from pandas in a future version. Use pandas.concat instead.\n",
            "  df1 = df1.append({'Id': file, 'Category': predicted_class}, ignore_index=True)\n",
            "<ipython-input-17-36c1590347a7>:35: FutureWarning: The frame.append method is deprecated and will be removed from pandas in a future version. Use pandas.concat instead.\n",
            "  df1 = df1.append({'Id': file, 'Category': predicted_class}, ignore_index=True)\n"
          ]
        },
        {
          "name": "stdout",
          "output_type": "stream",
          "text": [
            "Image: 362.jpg - Predicted Class: 1\n",
            "1/1 [==============================] - 0s 50ms/step\n",
            "Image: 363.jpg - Predicted Class: 0\n",
            "1/1 [==============================] - 0s 47ms/step\n",
            "Image: 364.jpg - Predicted Class: 0\n"
          ]
        },
        {
          "name": "stderr",
          "output_type": "stream",
          "text": [
            "<ipython-input-17-36c1590347a7>:35: FutureWarning: The frame.append method is deprecated and will be removed from pandas in a future version. Use pandas.concat instead.\n",
            "  df1 = df1.append({'Id': file, 'Category': predicted_class}, ignore_index=True)\n",
            "<ipython-input-17-36c1590347a7>:35: FutureWarning: The frame.append method is deprecated and will be removed from pandas in a future version. Use pandas.concat instead.\n",
            "  df1 = df1.append({'Id': file, 'Category': predicted_class}, ignore_index=True)\n"
          ]
        },
        {
          "name": "stdout",
          "output_type": "stream",
          "text": [
            "1/1 [==============================] - 0s 55ms/step\n",
            "Image: 365.jpg - Predicted Class: 5\n",
            "1/1 [==============================] - 0s 46ms/step\n",
            "Image: 366.jpg - Predicted Class: 0\n"
          ]
        },
        {
          "name": "stderr",
          "output_type": "stream",
          "text": [
            "<ipython-input-17-36c1590347a7>:35: FutureWarning: The frame.append method is deprecated and will be removed from pandas in a future version. Use pandas.concat instead.\n",
            "  df1 = df1.append({'Id': file, 'Category': predicted_class}, ignore_index=True)\n",
            "<ipython-input-17-36c1590347a7>:35: FutureWarning: The frame.append method is deprecated and will be removed from pandas in a future version. Use pandas.concat instead.\n",
            "  df1 = df1.append({'Id': file, 'Category': predicted_class}, ignore_index=True)\n"
          ]
        },
        {
          "name": "stdout",
          "output_type": "stream",
          "text": [
            "1/1 [==============================] - 0s 48ms/step\n",
            "Image: 367.jpg - Predicted Class: 1\n",
            "1/1 [==============================] - 0s 45ms/step\n"
          ]
        },
        {
          "name": "stderr",
          "output_type": "stream",
          "text": [
            "<ipython-input-17-36c1590347a7>:35: FutureWarning: The frame.append method is deprecated and will be removed from pandas in a future version. Use pandas.concat instead.\n",
            "  df1 = df1.append({'Id': file, 'Category': predicted_class}, ignore_index=True)\n",
            "<ipython-input-17-36c1590347a7>:35: FutureWarning: The frame.append method is deprecated and will be removed from pandas in a future version. Use pandas.concat instead.\n",
            "  df1 = df1.append({'Id': file, 'Category': predicted_class}, ignore_index=True)\n"
          ]
        },
        {
          "name": "stdout",
          "output_type": "stream",
          "text": [
            "Image: 368.jpg - Predicted Class: 1\n",
            "1/1 [==============================] - 0s 60ms/step\n",
            "Image: 369.jpg - Predicted Class: 1\n",
            "1/1 [==============================] - 0s 49ms/step\n",
            "Image: 370.jpg - Predicted Class: 5\n"
          ]
        },
        {
          "name": "stderr",
          "output_type": "stream",
          "text": [
            "<ipython-input-17-36c1590347a7>:35: FutureWarning: The frame.append method is deprecated and will be removed from pandas in a future version. Use pandas.concat instead.\n",
            "  df1 = df1.append({'Id': file, 'Category': predicted_class}, ignore_index=True)\n",
            "<ipython-input-17-36c1590347a7>:35: FutureWarning: The frame.append method is deprecated and will be removed from pandas in a future version. Use pandas.concat instead.\n",
            "  df1 = df1.append({'Id': file, 'Category': predicted_class}, ignore_index=True)\n"
          ]
        },
        {
          "name": "stdout",
          "output_type": "stream",
          "text": [
            "1/1 [==============================] - 0s 47ms/step\n",
            "Image: 371.jpg - Predicted Class: 5\n",
            "1/1 [==============================] - 0s 56ms/step\n",
            "Image: 372.jpg - Predicted Class: 0\n"
          ]
        },
        {
          "name": "stderr",
          "output_type": "stream",
          "text": [
            "<ipython-input-17-36c1590347a7>:35: FutureWarning: The frame.append method is deprecated and will be removed from pandas in a future version. Use pandas.concat instead.\n",
            "  df1 = df1.append({'Id': file, 'Category': predicted_class}, ignore_index=True)\n",
            "<ipython-input-17-36c1590347a7>:35: FutureWarning: The frame.append method is deprecated and will be removed from pandas in a future version. Use pandas.concat instead.\n",
            "  df1 = df1.append({'Id': file, 'Category': predicted_class}, ignore_index=True)\n"
          ]
        },
        {
          "name": "stdout",
          "output_type": "stream",
          "text": [
            "1/1 [==============================] - 0s 46ms/step\n",
            "Image: 373.jpg - Predicted Class: 1\n",
            "1/1 [==============================] - 0s 46ms/step\n",
            "Image: 374.jpg - Predicted Class: 3\n"
          ]
        },
        {
          "name": "stderr",
          "output_type": "stream",
          "text": [
            "<ipython-input-17-36c1590347a7>:35: FutureWarning: The frame.append method is deprecated and will be removed from pandas in a future version. Use pandas.concat instead.\n",
            "  df1 = df1.append({'Id': file, 'Category': predicted_class}, ignore_index=True)\n",
            "<ipython-input-17-36c1590347a7>:35: FutureWarning: The frame.append method is deprecated and will be removed from pandas in a future version. Use pandas.concat instead.\n",
            "  df1 = df1.append({'Id': file, 'Category': predicted_class}, ignore_index=True)\n"
          ]
        },
        {
          "name": "stdout",
          "output_type": "stream",
          "text": [
            "1/1 [==============================] - 0s 56ms/step\n",
            "Image: 375.jpg - Predicted Class: 0\n"
          ]
        },
        {
          "name": "stderr",
          "output_type": "stream",
          "text": [
            "<ipython-input-17-36c1590347a7>:35: FutureWarning: The frame.append method is deprecated and will be removed from pandas in a future version. Use pandas.concat instead.\n",
            "  df1 = df1.append({'Id': file, 'Category': predicted_class}, ignore_index=True)\n"
          ]
        },
        {
          "name": "stdout",
          "output_type": "stream",
          "text": [
            "1/1 [==============================] - 0s 56ms/step\n",
            "Image: 376.jpg - Predicted Class: 0\n"
          ]
        },
        {
          "name": "stderr",
          "output_type": "stream",
          "text": [
            "<ipython-input-17-36c1590347a7>:35: FutureWarning: The frame.append method is deprecated and will be removed from pandas in a future version. Use pandas.concat instead.\n",
            "  df1 = df1.append({'Id': file, 'Category': predicted_class}, ignore_index=True)\n"
          ]
        },
        {
          "name": "stdout",
          "output_type": "stream",
          "text": [
            "1/1 [==============================] - 0s 67ms/step\n",
            "Image: 377.jpg - Predicted Class: 3\n",
            "1/1 [==============================] - 0s 50ms/step\n",
            "Image: 378.jpg - Predicted Class: 0\n"
          ]
        },
        {
          "name": "stderr",
          "output_type": "stream",
          "text": [
            "<ipython-input-17-36c1590347a7>:35: FutureWarning: The frame.append method is deprecated and will be removed from pandas in a future version. Use pandas.concat instead.\n",
            "  df1 = df1.append({'Id': file, 'Category': predicted_class}, ignore_index=True)\n",
            "<ipython-input-17-36c1590347a7>:35: FutureWarning: The frame.append method is deprecated and will be removed from pandas in a future version. Use pandas.concat instead.\n",
            "  df1 = df1.append({'Id': file, 'Category': predicted_class}, ignore_index=True)\n"
          ]
        },
        {
          "name": "stdout",
          "output_type": "stream",
          "text": [
            "1/1 [==============================] - 0s 46ms/step\n",
            "Image: 379.jpg - Predicted Class: 3\n",
            "1/1 [==============================] - 0s 50ms/step\n"
          ]
        },
        {
          "name": "stderr",
          "output_type": "stream",
          "text": [
            "<ipython-input-17-36c1590347a7>:35: FutureWarning: The frame.append method is deprecated and will be removed from pandas in a future version. Use pandas.concat instead.\n",
            "  df1 = df1.append({'Id': file, 'Category': predicted_class}, ignore_index=True)\n"
          ]
        },
        {
          "name": "stdout",
          "output_type": "stream",
          "text": [
            "Image: 380.jpg - Predicted Class: 3\n",
            "1/1 [==============================] - 0s 39ms/step\n",
            "Image: 381.jpg - Predicted Class: 2\n"
          ]
        },
        {
          "name": "stderr",
          "output_type": "stream",
          "text": [
            "<ipython-input-17-36c1590347a7>:35: FutureWarning: The frame.append method is deprecated and will be removed from pandas in a future version. Use pandas.concat instead.\n",
            "  df1 = df1.append({'Id': file, 'Category': predicted_class}, ignore_index=True)\n",
            "<ipython-input-17-36c1590347a7>:35: FutureWarning: The frame.append method is deprecated and will be removed from pandas in a future version. Use pandas.concat instead.\n",
            "  df1 = df1.append({'Id': file, 'Category': predicted_class}, ignore_index=True)\n"
          ]
        },
        {
          "name": "stdout",
          "output_type": "stream",
          "text": [
            "1/1 [==============================] - 0s 32ms/step\n",
            "Image: 382.jpg - Predicted Class: 5\n",
            "1/1 [==============================] - 0s 33ms/step\n",
            "Image: 383.jpg - Predicted Class: 2\n"
          ]
        },
        {
          "name": "stderr",
          "output_type": "stream",
          "text": [
            "<ipython-input-17-36c1590347a7>:35: FutureWarning: The frame.append method is deprecated and will be removed from pandas in a future version. Use pandas.concat instead.\n",
            "  df1 = df1.append({'Id': file, 'Category': predicted_class}, ignore_index=True)\n",
            "<ipython-input-17-36c1590347a7>:35: FutureWarning: The frame.append method is deprecated and will be removed from pandas in a future version. Use pandas.concat instead.\n",
            "  df1 = df1.append({'Id': file, 'Category': predicted_class}, ignore_index=True)\n"
          ]
        },
        {
          "name": "stdout",
          "output_type": "stream",
          "text": [
            "1/1 [==============================] - 0s 40ms/step\n",
            "Image: 384.jpg - Predicted Class: 5\n",
            "1/1 [==============================] - 0s 41ms/step\n",
            "Image: 385.jpg - Predicted Class: 0\n"
          ]
        },
        {
          "name": "stderr",
          "output_type": "stream",
          "text": [
            "<ipython-input-17-36c1590347a7>:35: FutureWarning: The frame.append method is deprecated and will be removed from pandas in a future version. Use pandas.concat instead.\n",
            "  df1 = df1.append({'Id': file, 'Category': predicted_class}, ignore_index=True)\n",
            "<ipython-input-17-36c1590347a7>:35: FutureWarning: The frame.append method is deprecated and will be removed from pandas in a future version. Use pandas.concat instead.\n",
            "  df1 = df1.append({'Id': file, 'Category': predicted_class}, ignore_index=True)\n"
          ]
        },
        {
          "name": "stdout",
          "output_type": "stream",
          "text": [
            "1/1 [==============================] - 0s 34ms/step\n",
            "Image: 386.jpg - Predicted Class: 3\n",
            "1/1 [==============================] - 0s 38ms/step\n",
            "Image: 387.jpg - Predicted Class: 3\n"
          ]
        },
        {
          "name": "stderr",
          "output_type": "stream",
          "text": [
            "<ipython-input-17-36c1590347a7>:35: FutureWarning: The frame.append method is deprecated and will be removed from pandas in a future version. Use pandas.concat instead.\n",
            "  df1 = df1.append({'Id': file, 'Category': predicted_class}, ignore_index=True)\n",
            "<ipython-input-17-36c1590347a7>:35: FutureWarning: The frame.append method is deprecated and will be removed from pandas in a future version. Use pandas.concat instead.\n",
            "  df1 = df1.append({'Id': file, 'Category': predicted_class}, ignore_index=True)\n"
          ]
        },
        {
          "name": "stdout",
          "output_type": "stream",
          "text": [
            "1/1 [==============================] - 0s 36ms/step\n",
            "Image: 388.jpg - Predicted Class: 0\n"
          ]
        },
        {
          "name": "stderr",
          "output_type": "stream",
          "text": [
            "<ipython-input-17-36c1590347a7>:35: FutureWarning: The frame.append method is deprecated and will be removed from pandas in a future version. Use pandas.concat instead.\n",
            "  df1 = df1.append({'Id': file, 'Category': predicted_class}, ignore_index=True)\n"
          ]
        }
      ],
      "source": [
        "import os\n",
        "import cv2\n",
        "import numpy as np\n",
        "import pandas as pd\n",
        "from keras.models import load_model\n",
        "\n",
        "df1 = pd.DataFrame(columns=['Id', 'Category'])\n",
        "# 폴더 경로 설정\n",
        "folder_path = '/content/drive/MyDrive/기계학습/test'\n",
        "\n",
        "# 이미지 크기 설정\n",
        "img_width, img_height = 224, 224\n",
        "\n",
        "\n",
        "# 폴더 내 이미지 파일 목록 가져오기\n",
        "image_files = [file for file in os.listdir(folder_path) if file.endswith('.jpg') or file.endswith('.png')]\n",
        "\n",
        "\n",
        "for file in sorted_list:\n",
        "    # 이미지 불러오기\n",
        "    image_path = os.path.join(folder_path, file)\n",
        "    image = cv2.imread(image_path)\n",
        "    image = cv2.resize(image, (img_width, img_height))\n",
        "    image = image / 255.0\n",
        "    image = np.expand_dims(image, axis=0)\n",
        "\n",
        "    # 예측 수행\n",
        "    prediction = model.predict(image)\n",
        "    predicted_class = np.argmax(prediction)\n",
        "\n",
        "    df1 = df1.append({'Id': file, 'Category': predicted_class}, ignore_index=True)\n",
        "    print(f'Image: {file} - Predicted Class: {predicted_class}')"
      ]
    },
    {
      "cell_type": "code",
      "execution_count": 18,
      "metadata": {
        "colab": {
          "base_uri": "https://localhost:8080/"
        },
        "id": "8F0GfNsh64VX",
        "outputId": "2e39382b-118c-4074-ba00-9da5e58d8a93"
      },
      "outputs": [
        {
          "name": "stdout",
          "output_type": "stream",
          "text": [
            "5    103\n",
            "0     96\n",
            "1     80\n",
            "3     69\n",
            "2     30\n",
            "4     11\n",
            "Name: Category, dtype: int64\n"
          ]
        }
      ],
      "source": [
        "label_counts = df1['Category'].value_counts()\n",
        "print(label_counts)"
      ]
    },
    {
      "cell_type": "code",
      "execution_count": 19,
      "metadata": {
        "id": "oJvhEu5K-pJC"
      },
      "outputs": [],
      "source": [
        "df1.to_csv('/content/drive/MyDrive/기계학습/predictions7.csv', index=False)"
      ]
    },
    {
      "attachments": {},
      "cell_type": "markdown",
      "metadata": {
        "id": "f8zXBQ7_JNhV"
      },
      "source": []
    }
  ],
  "metadata": {
    "accelerator": "GPU",
    "colab": {
      "gpuType": "T4",
      "provenance": []
    },
    "kernelspec": {
      "display_name": "Python 3",
      "name": "python3"
    },
    "language_info": {
      "name": "python"
    }
  },
  "nbformat": 4,
  "nbformat_minor": 0
}
